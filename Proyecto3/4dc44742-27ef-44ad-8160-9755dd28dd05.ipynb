{
 "cells": [
  {
   "cell_type": "markdown",
   "id": "df28069b",
   "metadata": {},
   "source": [
    "¡Hola!\n",
    "\n",
    "Mi nombre es Tonatiuh Cruz. Me complace revisar tu proyecto hoy.\n",
    "\n",
    "Al identificar cualquier error inicialmente, simplemente los destacaré. Te animo a localizar y abordar los problemas de forma independiente como parte de tu preparación para un rol como data-scientist. En un entorno profesional, tu líder de equipo seguiría un enfoque similar. Si encuentras la tarea desafiante, proporcionaré una pista más específica en la próxima iteración.\n",
    "\n",
    "Encontrarás mis comentarios a continuación - **por favor no los muevas, modifiques o elimines**.\n",
    "\n",
    "Puedes encontrar mis comentarios en cajas verdes, amarillas o rojas como esta:\n",
    "\n",
    "<div class=\"alert alert-block alert-success\">\n",
    "<b>Comentario del revisor</b> <a class=\"tocSkip\"></a>\n",
    "\n",
    "Éxito. Todo está hecho correctamente.\n",
    "</div>\n",
    "\n",
    "<div class=\"alert alert-block alert-warning\">\n",
    "<b>Comentario del revisor</b> <a class=\"tocSkip\"></a>\n",
    "\n",
    "Observaciones. Algunas recomendaciones.\n",
    "</div>\n",
    "\n",
    "<div class=\"alert alert-block alert-danger\">\n",
    "<b>Comentario del revisor</b> <a class=\"tocSkip\"></a>\n",
    "\n",
    "Necesita corrección. El bloque requiere algunas correcciones. El trabajo no puede ser aceptado con comentarios en rojo.\n",
    "</div>\n",
    "\n",
    "Puedes responderme utilizando esto:\n",
    "\n",
    "<div class=\"alert alert-block alert-info\">\n",
    "<b>Respuesta del estudiante.</b> <a class=\"tocSkip\"></a>\n",
    "</div>"
   ]
  },
  {
   "cell_type": "markdown",
   "id": "3Xg_RQfnafXz",
   "metadata": {
    "id": "3Xg_RQfnafXz"
   },
   "source": [
    "# ¡Llena ese carrito!"
   ]
  },
  {
   "cell_type": "markdown",
   "id": "mhIvmmkW414q",
   "metadata": {
    "id": "mhIvmmkW414q"
   },
   "source": [
    "# Introducción\n",
    "\n",
    "Instacart es una plataforma de entregas de comestibles donde la clientela puede registrar un pedido y hacer que se lo entreguen, similar a Uber Eats y Door Dash.\n",
    "El conjunto de datos que te hemos proporcionado tiene modificaciones del original. Redujimos el tamaño del conjunto para que tus cálculos se hicieran más rápido e introdujimos valores ausentes y duplicados. Tuvimos cuidado de conservar las distribuciones de los datos originales cuando hicimos los cambios.\n",
    "\n",
    "Debes completar tres pasos. Para cada uno de ellos, escribe una breve introducción que refleje con claridad cómo pretendes resolver cada paso, y escribe párrafos explicatorios que justifiquen tus decisiones al tiempo que avanzas en tu solución.  También escribe una conclusión que resuma tus hallazgos y elecciones.\n"
   ]
  },
  {
   "cell_type": "markdown",
   "id": "3MbyzpOQZ5Or",
   "metadata": {
    "id": "3MbyzpOQZ5Or"
   },
   "source": [
    "## Diccionario de datos\n",
    "\n",
    "Hay cinco tablas en el conjunto de datos, y tendrás que usarlas todas para hacer el preprocesamiento de datos y el análisis exploratorio de datos. A continuación se muestra un diccionario de datos que enumera las columnas de cada tabla y describe los datos que contienen.\n",
    "\n",
    "- `instacart_orders.csv`: cada fila corresponde a un pedido en la aplicación Instacart.\n",
    "    - `'order_id'`: número de ID que identifica de manera única cada pedido.\n",
    "    - `'user_id'`: número de ID que identifica de manera única la cuenta de cada cliente.\n",
    "    - `'order_number'`: el número de veces que este cliente ha hecho un pedido.\n",
    "    - `'order_dow'`: día de la semana en que se hizo el pedido (0 si es domingo).\n",
    "    - `'order_hour_of_day'`: hora del día en que se hizo el pedido.\n",
    "    - `'days_since_prior_order'`: número de días transcurridos desde que este cliente hizo su pedido anterior.\n",
    "- `products.csv`: cada fila corresponde a un producto único que pueden comprar los clientes.\n",
    "    - `'product_id'`: número ID que identifica de manera única cada producto.\n",
    "    - `'product_name'`: nombre del producto.\n",
    "    - `'aisle_id'`: número ID que identifica de manera única cada categoría de pasillo de víveres.\n",
    "    - `'department_id'`: número ID que identifica de manera única cada departamento de víveres.\n",
    "- `order_products.csv`: cada fila corresponde a un artículo pedido en un pedido.\n",
    "    - `'order_id'`: número de ID que identifica de manera única cada pedido.\n",
    "    - `'product_id'`: número ID que identifica de manera única cada producto.\n",
    "    - `'add_to_cart_order'`: el orden secuencial en el que se añadió cada artículo en el carrito.\n",
    "    - `'reordered'`: 0 si el cliente nunca ha pedido este producto antes, 1 si lo ha pedido.\n",
    "- `aisles.csv`\n",
    "    - `'aisle_id'`: número ID que identifica de manera única cada categoría de pasillo de víveres.\n",
    "    - `'aisle'`: nombre del pasillo.\n",
    "- `departments.csv`\n",
    "    - `'department_id'`: número ID que identifica de manera única cada departamento de víveres.\n",
    "    - `'department'`: nombre del departamento."
   ]
  },
  {
   "cell_type": "markdown",
   "id": "n3Ha_cNSZ8lK",
   "metadata": {
    "id": "n3Ha_cNSZ8lK"
   },
   "source": [
    "# Paso 1. Descripción de los datos\n",
    "\n",
    "Lee los archivos de datos (`/datasets/instacart_orders.csv`, `/datasets/products.csv`, `/datasets/aisles.csv`, `/datasets/departments.csv` y `/datasets/order_products.csv`) con `pd.read_csv()` usando los parámetros adecuados para leer los datos correctamente. Verifica la información para cada DataFrame creado.\n"
   ]
  },
  {
   "cell_type": "markdown",
   "id": "OmlQPLlyaAfR",
   "metadata": {
    "id": "OmlQPLlyaAfR"
   },
   "source": [
    "## Plan de solución\n",
    "\n",
    "Escribe aquí tu plan de solución para el Paso 1. Descripción de los datos.\n",
    "\n",
    "<font color='#571EEB'>Para el Paso 1 la solución que to planteo es la de importar la librería pandas para poder leer cada uno de los archivos que contienen los datos, y junto a la función \".info()\" y \".sample()\" observar que tipos de datos tienen y algunos ejemplos para tener una mejor visión e incluso saber si existen valores ausentes y duplicados. Finalmente, realizar pruebas de importación de los archivos para saber si habría que incluir el valor de separador de los datos.</font>"
   ]
  },
  {
   "cell_type": "code",
   "execution_count": 2,
   "id": "fbf1adab",
   "metadata": {
    "id": "fbf1adab"
   },
   "outputs": [],
   "source": [
    "# importar librerías\n",
    "import pandas as pd\n",
    "import matplotlib.pyplot as plt"
   ]
  },
  {
   "cell_type": "markdown",
   "id": "036a4342",
   "metadata": {},
   "source": [
    "<div class=\"alert alert-block alert-warning\">\n",
    "<b>Comentario revisor</b> <a class=\"tocSkip\"></a>\n",
    "\n",
    "\n",
    "Recomiendo importar y cargar la librería de matplolib.pyplot para el desarrollo de las diferentes gráficas que te van a ayudar al análisis de los datos. \n",
    "</div>"
   ]
  },
  {
   "cell_type": "markdown",
   "id": "50d455df",
   "metadata": {},
   "source": [
    "<div class=\"alert alert-block alert-success\">\n",
    "<b>Comentario del revisor</b> <a class=\"tocSkip\"></a>\n",
    "\n",
    "Muy buen trabajo con los ajustes!\n",
    "</div>\n"
   ]
  },
  {
   "cell_type": "code",
   "execution_count": 3,
   "id": "ad36396d",
   "metadata": {
    "id": "ad36396d"
   },
   "outputs": [],
   "source": [
    "# leer conjuntos de datos en los DataFrames\n",
    "instacart_orders = pd.read_csv('/datasets/instacart_orders.csv',sep=';')\n",
    "products = pd.read_csv('/datasets/products.csv', sep=';')\n",
    "aisles = pd.read_csv('/datasets/aisles.csv', sep=';')\n",
    "departments = pd.read_csv('/datasets/departments.csv',sep=';')\n",
    "order_products = pd.read_csv('/datasets/order_products.csv',sep=';')"
   ]
  },
  {
   "cell_type": "code",
   "execution_count": 4,
   "id": "ad6a1efa",
   "metadata": {
    "id": "ad6a1efa"
   },
   "outputs": [
    {
     "name": "stdout",
     "output_type": "stream",
     "text": [
      "<class 'pandas.core.frame.DataFrame'>\n",
      "RangeIndex: 478967 entries, 0 to 478966\n",
      "Data columns (total 6 columns):\n",
      " #   Column                  Non-Null Count   Dtype  \n",
      "---  ------                  --------------   -----  \n",
      " 0   order_id                478967 non-null  int64  \n",
      " 1   user_id                 478967 non-null  int64  \n",
      " 2   order_number            478967 non-null  int64  \n",
      " 3   order_dow               478967 non-null  int64  \n",
      " 4   order_hour_of_day       478967 non-null  int64  \n",
      " 5   days_since_prior_order  450148 non-null  float64\n",
      "dtypes: float64(1), int64(5)\n",
      "memory usage: 21.9 MB\n",
      "        order_id  user_id  order_number  order_dow  order_hour_of_day  \\\n",
      "431980    212833    54366             3          4                 11   \n",
      "310438   1381547   162738            12          4                 13   \n",
      "350989   1494165   172420            18          0                 13   \n",
      "58716    1523711   139852            12          0                  0   \n",
      "131363   1033764    36970            36          1                 16   \n",
      "\n",
      "        days_since_prior_order  \n",
      "431980                     3.0  \n",
      "310438                     3.0  \n",
      "350989                    14.0  \n",
      "58716                      6.0  \n",
      "131363                     3.0  \n"
     ]
    }
   ],
   "source": [
    "# mostrar información del DataFrame\n",
    "instacart_orders.info()\n",
    "print(instacart_orders.sample(5))"
   ]
  },
  {
   "cell_type": "code",
   "execution_count": 5,
   "id": "5130e05e",
   "metadata": {
    "id": "5130e05e"
   },
   "outputs": [
    {
     "name": "stdout",
     "output_type": "stream",
     "text": [
      "<class 'pandas.core.frame.DataFrame'>\n",
      "RangeIndex: 49694 entries, 0 to 49693\n",
      "Data columns (total 4 columns):\n",
      " #   Column         Non-Null Count  Dtype \n",
      "---  ------         --------------  ----- \n",
      " 0   product_id     49694 non-null  int64 \n",
      " 1   product_name   48436 non-null  object\n",
      " 2   aisle_id       49694 non-null  int64 \n",
      " 3   department_id  49694 non-null  int64 \n",
      "dtypes: int64(3), object(1)\n",
      "memory usage: 1.5+ MB\n",
      "       product_id                           product_name  aisle_id  \\\n",
      "4469         4470                Cherry Liquid Drink Mix        90   \n",
      "35846       35847   Mini Spaghetti Ring & Meatballs Bowl         4   \n",
      "26915       26916                   Coke de Mexico Glass        77   \n",
      "27168       27169  Lavender Flowers Soap for Hand & Body        25   \n",
      "38804       38805                                    NaN       100   \n",
      "\n",
      "       department_id  \n",
      "4469               7  \n",
      "35846              9  \n",
      "26915              7  \n",
      "27168             11  \n",
      "38804             21  \n"
     ]
    }
   ],
   "source": [
    "# mostrar información del DataFrame\n",
    "products.info()\n",
    "print(products.sample(5))"
   ]
  },
  {
   "cell_type": "code",
   "execution_count": 6,
   "id": "d8370c05",
   "metadata": {
    "id": "d8370c05"
   },
   "outputs": [
    {
     "name": "stdout",
     "output_type": "stream",
     "text": [
      "<class 'pandas.core.frame.DataFrame'>\n",
      "RangeIndex: 134 entries, 0 to 133\n",
      "Data columns (total 2 columns):\n",
      " #   Column    Non-Null Count  Dtype \n",
      "---  ------    --------------  ----- \n",
      " 0   aisle_id  134 non-null    int64 \n",
      " 1   aisle     134 non-null    object\n",
      "dtypes: int64(1), object(1)\n",
      "memory usage: 2.2+ KB\n",
      "    aisle_id                    aisle\n",
      "38        39          seafood counter\n",
      "98        99  canned fruit applesauce\n",
      "35        36                   butter\n",
      "87        88                  spreads\n",
      "30        31             refrigerated\n"
     ]
    }
   ],
   "source": [
    "# mostrar información del DataFrame\n",
    "aisles.info()\n",
    "print(aisles.sample(5))"
   ]
  },
  {
   "cell_type": "code",
   "execution_count": 7,
   "id": "59e2090f",
   "metadata": {
    "id": "59e2090f"
   },
   "outputs": [
    {
     "name": "stdout",
     "output_type": "stream",
     "text": [
      "<class 'pandas.core.frame.DataFrame'>\n",
      "RangeIndex: 21 entries, 0 to 20\n",
      "Data columns (total 2 columns):\n",
      " #   Column         Non-Null Count  Dtype \n",
      "---  ------         --------------  ----- \n",
      " 0   department_id  21 non-null     int64 \n",
      " 1   department     21 non-null     object\n",
      "dtypes: int64(1), object(1)\n",
      "memory usage: 464.0+ bytes\n",
      "    department_id    department\n",
      "2               3        bakery\n",
      "13             14     breakfast\n",
      "14             15  canned goods\n",
      "12             13        pantry\n",
      "11             12  meat seafood\n"
     ]
    }
   ],
   "source": [
    "# mostrar información del DataFrame\n",
    "departments.info()\n",
    "print(departments.sample(5))"
   ]
  },
  {
   "cell_type": "code",
   "execution_count": 8,
   "id": "6fc81694",
   "metadata": {
    "id": "6fc81694"
   },
   "outputs": [
    {
     "name": "stdout",
     "output_type": "stream",
     "text": [
      "<class 'pandas.core.frame.DataFrame'>\n",
      "RangeIndex: 4545007 entries, 0 to 4545006\n",
      "Data columns (total 4 columns):\n",
      " #   Column             Dtype  \n",
      "---  ------             -----  \n",
      " 0   order_id           int64  \n",
      " 1   product_id         int64  \n",
      " 2   add_to_cart_order  float64\n",
      " 3   reordered          int64  \n",
      "dtypes: float64(1), int64(3)\n",
      "memory usage: 138.7 MB\n",
      "         order_id  product_id  add_to_cart_order  reordered\n",
      "2056564   1760370       14850               13.0          1\n",
      "3031132   2765999        9106                7.0          0\n",
      "1026566    230673       41376                4.0          0\n",
      "2244071   2681184       40905                6.0          0\n",
      "731400    2717250       35715               18.0          0\n",
      "order_id               0\n",
      "product_id             0\n",
      "add_to_cart_order    836\n",
      "reordered              0\n",
      "dtype: int64\n"
     ]
    }
   ],
   "source": [
    "# mostrar información del DataFrame\n",
    "order_products.info()\n",
    "print(order_products.sample(5))\n",
    "print(order_products.isna().sum())"
   ]
  },
  {
   "cell_type": "markdown",
   "id": "t75BD19oaR5f",
   "metadata": {
    "id": "t75BD19oaR5f"
   },
   "source": [
    "## Conclusiones\n",
    "\n",
    "Escribe aquí tus conclusiones intermedias sobre el Paso 1. Descripción de los datos.\n",
    "\n",
    "<font color='#571EEB'>La gran mayoría de las tablas presentan todos los datos, pero se puede llegar a observar que en las tablas 'instacart_orders' y 'order_products' existen valores nulos. La verificación y descripción de los datos es una tarea importante dentro del análisis de datos, ya que son da una visión general de a que problema nos enfrentamos. Por ejemplo, nos permite saber si tendremos que realizar mucha o nula limpieza de los datos.</font>  \n"
   ]
  },
  {
   "cell_type": "markdown",
   "id": "8RJHqxVmaVsF",
   "metadata": {
    "id": "8RJHqxVmaVsF"
   },
   "source": [
    "# Paso 2. Preprocesamiento de los datos\n",
    "\n",
    "Preprocesa los datos de la siguiente manera:\n",
    "\n",
    "- Verifica y corrige los tipos de datos (por ejemplo, asegúrate de que las columnas de ID sean números enteros).\n",
    "- Identifica y completa los valores ausentes.\n",
    "- Identifica y elimina los valores duplicados.\n",
    "\n",
    "Asegúrate de explicar qué tipos de valores ausentes y duplicados encontraste, cómo los completaste o eliminaste y por qué usaste esos métodos. ¿Por qué crees que estos valores ausentes y duplicados pueden haber estado presentes en el conjunto de datos?"
   ]
  },
  {
   "cell_type": "markdown",
   "id": "p6poABZQaZYb",
   "metadata": {
    "id": "p6poABZQaZYb"
   },
   "source": [
    "## Plan de solución\n",
    "\n",
    "Escribe aquí tu plan para el Paso 2. Preprocesamiento de los datos.\n",
    "\n",
    "<font color='#571EEB'> Mi plan para el Paso 2 consiste en realizar una limpieza de los datos buscando datos nulos, datos duplicados implìcitos y explìcitos en cada una de las tablas, ya que, por algun valor erroneo puede producirse distuntos resultados a la hora de realizar el análisis.</font>"
   ]
  },
  {
   "cell_type": "markdown",
   "id": "07357848-dc64-4156-9cc3-01ff4365226d",
   "metadata": {
    "id": "07357848-dc64-4156-9cc3-01ff4365226d"
   },
   "source": [
    "## Encuentra y elimina los valores duplicados (y describe cómo tomaste tus decisiones)."
   ]
  },
  {
   "cell_type": "markdown",
   "id": "f179f0a9",
   "metadata": {
    "id": "f179f0a9"
   },
   "source": [
    "### `orders` data frame"
   ]
  },
  {
   "cell_type": "code",
   "execution_count": 9,
   "id": "b99297a5-405a-463d-8535-9adc3da4ad74",
   "metadata": {
    "id": "b99297a5-405a-463d-8535-9adc3da4ad74"
   },
   "outputs": [
    {
     "name": "stdout",
     "output_type": "stream",
     "text": [
      "En la tabla Orders exiten:  0 valores duplicados\n"
     ]
    }
   ],
   "source": [
    "# Revisa si hay pedidos duplicados\n",
    "duplicates = order_products.duplicated().sum()\n",
    "print(\"En la tabla Orders exiten: \", duplicates , \"valores duplicados\")"
   ]
  },
  {
   "cell_type": "markdown",
   "id": "PEkwUX_gvt5A",
   "metadata": {
    "id": "PEkwUX_gvt5A"
   },
   "source": [
    "¿Tienes líneas duplicadas? Si sí, ¿qué tienen en común?"
   ]
  },
  {
   "cell_type": "code",
   "execution_count": 10,
   "id": "0d44de5d",
   "metadata": {
    "id": "0d44de5d"
   },
   "outputs": [
    {
     "name": "stdout",
     "output_type": "stream",
     "text": [
      "        order_id  user_id  order_number  order_dow  order_hour_of_day  \\\n",
      "4838     2766110   162084            41          3                  2   \n",
      "5156     2190225   138285            18          3                  2   \n",
      "15506     553049    58599            13          3                  2   \n",
      "18420     382357   120200            19          3                  2   \n",
      "24691     690242    77357             2          3                  2   \n",
      "...          ...      ...           ...        ...                ...   \n",
      "457013   3384021    14881             6          3                  2   \n",
      "458816    910166   164782            18          3                  2   \n",
      "459635   1680532   106435             6          3                  2   \n",
      "468324    222962    54979            59          3                  2   \n",
      "477526   2592344    46860            38          3                  2   \n",
      "\n",
      "        days_since_prior_order  \n",
      "4838                      16.0  \n",
      "5156                      11.0  \n",
      "15506                      7.0  \n",
      "18420                     11.0  \n",
      "24691                      9.0  \n",
      "...                        ...  \n",
      "457013                    30.0  \n",
      "458816                     4.0  \n",
      "459635                    21.0  \n",
      "468324                     3.0  \n",
      "477526                     3.0  \n",
      "\n",
      "[121 rows x 6 columns]\n",
      "En la tabla Instacart_Orders exiten:  15 valores duplicados\n",
      "        order_id  user_id  order_number  order_dow  order_hour_of_day  \\\n",
      "145574    794638    50898            24          3                  2   \n",
      "223105   2160484   107525            16          3                  2   \n",
      "230807   1918001   188546            14          3                  2   \n",
      "266232   1782114   106752             1          3                  2   \n",
      "273805   1112182   202304            84          3                  2   \n",
      "284038   2845099    31189            11          3                  2   \n",
      "311713   1021560    53767             3          3                  2   \n",
      "321100    408114    68324             4          3                  2   \n",
      "323900   1919531   191501            32          3                  2   \n",
      "345917   2232988    82565             1          3                  2   \n",
      "371905    391768    57671            19          3                  2   \n",
      "394347    467134    63189            21          3                  2   \n",
      "411408   1286742   183220            48          3                  2   \n",
      "415163   2282673    86751            49          3                  2   \n",
      "441599   2125197    14050            48          3                  2   \n",
      "\n",
      "        days_since_prior_order  \n",
      "145574                     2.0  \n",
      "223105                    30.0  \n",
      "230807                    16.0  \n",
      "266232                     NaN  \n",
      "273805                     6.0  \n",
      "284038                     7.0  \n",
      "311713                     9.0  \n",
      "321100                    18.0  \n",
      "323900                     7.0  \n",
      "345917                     NaN  \n",
      "371905                    10.0  \n",
      "394347                     2.0  \n",
      "411408                     4.0  \n",
      "415163                     2.0  \n",
      "441599                     3.0  \n"
     ]
    }
   ],
   "source": [
    "# Basándote en tus hallazgos,\n",
    "# Verifica todos los pedidos que se hicieron el miércoles a las 2:00 a.m.\n",
    "orders_wednesday_2am = instacart_orders.query(\"order_dow == 3 and order_hour_of_day == 2\")\n",
    "\n",
    "# Mostrar los resultados\n",
    "print(orders_wednesday_2am)\n",
    "\n",
    "# Otra verificación debido a que no se aprecia que existan valores duplicados\n",
    "duplicates = instacart_orders.duplicated().sum()\n",
    "print(\"En la tabla Instacart_Orders exiten: \", duplicates , \"valores duplicados\")\n",
    "\n",
    "# Existen valores duplicados, sin embargo, no es apreciable lo que tengan en común.\n",
    "# Filtrar las filas con valores duplicados en el DataFrame instacart_orders\n",
    "filas_duplicadas = instacart_orders[instacart_orders.duplicated()]\n",
    "\n",
    "# Mostrar las filas duplicadas\n",
    "print(filas_duplicadas)\n",
    "\n",
    "# Filtra las filas donde el order_id sea igual a 794638\n",
    "# filas_con_order_id_794638 = instacart_orders.loc[instacart_orders['order_id'] == 2160484]\n",
    "\n",
    "# Imprime las filas resultantes\n",
    "# print(filas_con_order_id_794638)"
   ]
  },
  {
   "cell_type": "markdown",
   "id": "vu2OWyoqwOx5",
   "metadata": {
    "id": "vu2OWyoqwOx5"
   },
   "source": [
    "¿Qué sugiere este resultado? <font color='#571EEB'> El resultado sugiere que existen 15 filas duplicadas, se puede concluir esto debido a que el \"order_id\" es exactamente igual en ambas filas. </font>"
   ]
  },
  {
   "cell_type": "code",
   "execution_count": 11,
   "id": "480563c7",
   "metadata": {
    "id": "480563c7"
   },
   "outputs": [
    {
     "name": "stdout",
     "output_type": "stream",
     "text": [
      "        order_id  user_id  order_number  order_dow  order_hour_of_day  \\\n",
      "0        1515936   183418            11          6                 13   \n",
      "1        1690866   163593             5          5                 12   \n",
      "2        1454967    39980             4          5                 19   \n",
      "3        1768857    82516            56          0                 20   \n",
      "4        3007858   196724             2          4                 12   \n",
      "...          ...      ...           ...        ...                ...   \n",
      "478962   3210681     5617             5          1                 14   \n",
      "478963   3270802   112087             2          3                 13   \n",
      "478964    885349    82944            16          2                 11   \n",
      "478965    216274     4391             3          3                  8   \n",
      "478966   2071924     1730            18          1                 14   \n",
      "\n",
      "        days_since_prior_order  \n",
      "0                         30.0  \n",
      "1                          9.0  \n",
      "2                          2.0  \n",
      "3                         10.0  \n",
      "4                         17.0  \n",
      "...                        ...  \n",
      "478962                     7.0  \n",
      "478963                     6.0  \n",
      "478964                     6.0  \n",
      "478965                     8.0  \n",
      "478966                    15.0  \n",
      "\n",
      "[478952 rows x 6 columns]\n"
     ]
    }
   ],
   "source": [
    "# Elimina los pedidos duplicados\n",
    "instacart_orders_without_duplicates = instacart_orders.drop_duplicates()\n",
    "\n",
    "# Imprime las filas únicas\n",
    "print(instacart_orders_without_duplicates)"
   ]
  },
  {
   "cell_type": "code",
   "execution_count": 12,
   "id": "0b2396a2",
   "metadata": {
    "id": "0b2396a2"
   },
   "outputs": [
    {
     "name": "stdout",
     "output_type": "stream",
     "text": [
      "En la tabla Instacart_Orders exiten:  0 valores duplicados\n"
     ]
    }
   ],
   "source": [
    "# Vuelve a verificar si hay filas duplicadas\n",
    "duplicates = instacart_orders_without_duplicates.duplicated().sum()\n",
    "print(\"En la tabla Instacart_Orders exiten: \", duplicates , \"valores duplicados\")"
   ]
  },
  {
   "cell_type": "code",
   "execution_count": 13,
   "id": "f6113ef1",
   "metadata": {
    "id": "f6113ef1"
   },
   "outputs": [
    {
     "name": "stdout",
     "output_type": "stream",
     "text": [
      "No existen IDs de pedidos duplicados.\n"
     ]
    }
   ],
   "source": [
    "# Vuelve a verificar únicamente si hay IDs duplicados de pedidos\n",
    "ids_duplicados = instacart_orders_without_duplicates['order_id'].value_counts()[instacart_orders_without_duplicates['order_id'].value_counts() > 1]\n",
    "\n",
    "# Si hay algún ID de pedido duplicado, se imprimirán sus ocurrencias\n",
    "if not ids_duplicados.empty:\n",
    "    print(\"Existen IDs de pedidos duplicados:\")\n",
    "    print(ids_duplicados)\n",
    "else:\n",
    "    print(\"No existen IDs de pedidos duplicados.\")"
   ]
  },
  {
   "cell_type": "markdown",
   "id": "5e8905ae",
   "metadata": {
    "id": "5e8905ae"
   },
   "source": [
    "Describe brevemente tus hallazgos y lo que hiciste con ellos"
   ]
  },
  {
   "cell_type": "markdown",
   "id": "cfea0afe",
   "metadata": {},
   "source": [
    "<div class=\"alert alert-block alert-success\">\n",
    "<b>Comentario del revisor</b> <a class=\"tocSkip\"></a>\n",
    "\n",
    "Muy buen trabajo!! Desarrollaste de manera excelente el análisis de duplicados y eliminaste esos casos. \n",
    "    \n",
    "</div>"
   ]
  },
  {
   "cell_type": "markdown",
   "id": "45e6bc46",
   "metadata": {
    "id": "45e6bc46"
   },
   "source": [
    "### `products` data frame"
   ]
  },
  {
   "cell_type": "code",
   "execution_count": 14,
   "id": "5f526b5b-8175-46fa-a0fd-441767d50e64",
   "metadata": {
    "id": "5f526b5b-8175-46fa-a0fd-441767d50e64"
   },
   "outputs": [
    {
     "name": "stdout",
     "output_type": "stream",
     "text": [
      "En la tabla Products exiten:  0 valores duplicados\n"
     ]
    }
   ],
   "source": [
    "# Verifica si hay filas totalmente duplicadas\n",
    "duplicates = products.duplicated().sum()\n",
    "print(\"En la tabla Products exiten: \", duplicates , \"valores duplicados\")"
   ]
  },
  {
   "cell_type": "code",
   "execution_count": 15,
   "id": "88daa4f4",
   "metadata": {
    "id": "88daa4f4"
   },
   "outputs": [
    {
     "name": "stdout",
     "output_type": "stream",
     "text": [
      "No existen IDs de pedidos duplicados.\n"
     ]
    }
   ],
   "source": [
    "# Revisa únicamente si hay ID de departamentos duplicados\n",
    "ids_departments = products['department_id'].value_counts()[products['department_id'].value_counts() > 1]\n",
    "\n",
    "# Si hay algún ID de pedido duplicado, se imprimirán sus ocurrencias\n",
    "if not ids_duplicados.empty:\n",
    "    print(\"Existen IDs de pedidos duplicados:\")\n",
    "    print(ids_duplicados)\n",
    "else:\n",
    "    print(\"No existen IDs de pedidos duplicados.\")"
   ]
  },
  {
   "cell_type": "code",
   "execution_count": 16,
   "id": "c773f0bf",
   "metadata": {
    "id": "c773f0bf"
   },
   "outputs": [
    {
     "name": "stdout",
     "output_type": "stream",
     "text": [
      "['CHOCOLATE SANDWICH COOKIES' 'ALL-SEASONS SALT'\n",
      " 'ROBUST GOLDEN UNSWEETENED OOLONG TEA' ... 'ARTISAN BAGUETTE'\n",
      " 'SMARTBLEND HEALTHY METABOLISM DRY CAT FOOD' 'FRESH FOAMING CLEANSER']\n"
     ]
    }
   ],
   "source": [
    "# Revisa únicamente si hay nombres duplicados de productos (convierte los nombres a letras mayúsculas para compararlos mejor)\n",
    "products['product_name'] = products['product_name'].str.upper()\n",
    "duplicated_names = products['product_name'].unique()\n",
    "print(duplicated_names)"
   ]
  },
  {
   "cell_type": "markdown",
   "id": "979bfd06",
   "metadata": {},
   "source": [
    "<div class=\"alert alert-block alert-warning\">\n",
    "<b>Comentario del revisor</b> <a class=\"tocSkip\"></a>\n",
    "\n",
    "Muy buen trabajo!! Solamente te recomiendo verificar que estamos cambiando los nombres a mayúsculas.\n",
    "    \n",
    "</div>"
   ]
  },
  {
   "cell_type": "markdown",
   "id": "14f7d512",
   "metadata": {},
   "source": [
    "<div class=\"alert alert-block alert-success\">\n",
    "<b>Comentario del revisor</b> <a class=\"tocSkip\"></a>\n",
    "\n",
    "Muy buen trabajo con los ajustes!\n",
    "</div>"
   ]
  },
  {
   "cell_type": "code",
   "execution_count": 17,
   "id": "01efd02e",
   "metadata": {
    "id": "01efd02e"
   },
   "outputs": [
    {
     "name": "stdout",
     "output_type": "stream",
     "text": [
      "Existen nombres duplicados de productos:\n",
      "                                          product_name\n",
      "41                                     BIOTIN 1000 MCG\n",
      "185         FRESH SCENT DISHWASHER DETERGENT WITH DAWN\n",
      "515                             AMERICAN CHEESE SLICES\n",
      "1538                                  CAULIFLOWER HEAD\n",
      "1783               NUTRITION PROTEIN MIX BLUEBERRY NUT\n",
      "...                                                ...\n",
      "49689                    HIGH PERFORMANCE ENERGY DRINK\n",
      "49690                    ORIGINAL PANCAKE & WAFFLE MIX\n",
      "49691  ORGANIC INSTANT OATMEAL LIGHT MAPLE BROWN SUGAR\n",
      "49692                           SPRING WATER BODY WASH\n",
      "49693                          BURRITO- STEAK & CHEESE\n",
      "\n",
      "[207 rows x 1 columns]\n",
      "Empty DataFrame\n",
      "Columns: [product_id, product_name, aisle_id, department_id]\n",
      "Index: []\n",
      "\n",
      " Luego de eliminar los productos duplicados\n",
      "En la tabla Products exiten:  0 valores duplicados\n"
     ]
    }
   ],
   "source": [
    "# Revisa si hay nombres duplicados de productos no faltantes\n",
    "products_no_nan = products[~products['product_name'].isna()]\n",
    "\n",
    "duplicados = products_no_nan[products_no_nan.duplicated(subset=['product_name'], keep=False)]\n",
    "\n",
    "if not duplicados.empty:\n",
    "    print(\"Existen nombres duplicados de productos:\")\n",
    "    print(duplicados[['product_name']])\n",
    "else:\n",
    "    print(\"No existen nombres duplicados de productos.\")\n",
    "    \n",
    "#Validaciòn extra para saber si existen valores duplicados.\n",
    "filas_con_nombres_duplicados = products.loc[products['product_name'] == 'fresh scent dishwasher detergent with dawn']\n",
    "print(filas_con_nombres_duplicados)\n",
    "\n",
    "#Procedimiento para eliminar los productos duplicados. \n",
    "print(\"\\n Luego de eliminar los productos duplicados\")\n",
    "products_without_duplicates = products.drop_duplicates()\n",
    "duplicates = products_without_duplicates.duplicated().sum()\n",
    "print(\"En la tabla Products exiten: \", duplicates , \"valores duplicados\")"
   ]
  },
  {
   "cell_type": "markdown",
   "id": "fdee234c",
   "metadata": {},
   "source": [
    "<div class=\"alert alert-block alert-danger\">\n",
    "<b>Comentario revisor</b> <a class=\"tocSkip\"></a>\n",
    "\n",
    "\n",
    "Muy buen trabajo con los pasos anteriores. Solamente te faltaría complementar con la revisión de los registros con nombres duplicados filtrandon con los registros que no tienen datos faltantes. Para filtrar los registros no faltantes puedes hacer uso de: \n",
    "    \n",
    "    df_products[~(df_products['product_name'].isna())] \n",
    "    \n",
    "Ya solamente tendrías que agregar el filtro de los registros duplicados\n",
    "</div>"
   ]
  },
  {
   "cell_type": "markdown",
   "id": "63711f55",
   "metadata": {},
   "source": [
    "<div class=\"alert alert-block alert-success\">\n",
    "<b>Comentario del revisor</b> <a class=\"tocSkip\"></a>\n",
    "\n",
    "Muy buen trabajo con los ajustes!\n",
    "</div>"
   ]
  },
  {
   "cell_type": "markdown",
   "id": "9da8d293",
   "metadata": {
    "id": "9da8d293"
   },
   "source": [
    "Describe brevemente tus hallazgos y lo que hiciste con ellos.\n",
    "\n",
    "<font color=\"blue\"> En la tabla Products lo que hallé fue que el método \"duplicated()\" no garantíza que se devuelva valores duplicados, pues, en esta tabla existen productos duplicados con un identificador de producto diferente por lo cuál se trata como un producto diferente. En conclusión, es necesario revisar cada uno de las columnas de las tablas para saber si existen o no valores duplicados implícitos o explícitos. </font>"
   ]
  },
  {
   "cell_type": "markdown",
   "id": "60f30db1",
   "metadata": {
    "id": "60f30db1"
   },
   "source": [
    "### `departments` data frame"
   ]
  },
  {
   "cell_type": "code",
   "execution_count": 18,
   "id": "fb410ad4-0fbf-4b80-bb09-23fdea79afe3",
   "metadata": {
    "id": "fb410ad4-0fbf-4b80-bb09-23fdea79afe3"
   },
   "outputs": [
    {
     "name": "stdout",
     "output_type": "stream",
     "text": [
      "En la tabla Departments exiten:  0 valores duplicados\n"
     ]
    }
   ],
   "source": [
    "# Revisa si hay filas totalmente duplicadas\n",
    "departments = pd.read_csv('/datasets/departments.csv',sep=';')\n",
    "departments_duplicates = departments.duplicated().sum()\n",
    "print(\"En la tabla Departments exiten: \", departments_duplicates , \"valores duplicados\")"
   ]
  },
  {
   "cell_type": "code",
   "execution_count": 19,
   "id": "332b12bb",
   "metadata": {
    "id": "332b12bb"
   },
   "outputs": [
    {
     "name": "stdout",
     "output_type": "stream",
     "text": [
      "No existen IDs de departamentos duplicados.\n"
     ]
    }
   ],
   "source": [
    "# Revisa únicamente si hay IDs duplicadas de productos\n",
    "ids_departments_counts = departments['department_id'].value_counts()\n",
    "duplicated_ids = ids_departments_counts[ids_departments_counts > 1]\n",
    "\n",
    "# Si hay algún ID de departamento duplicado, se imprimirán sus ocurrencias\n",
    "if not duplicated_ids.empty:\n",
    "    print(\"Existen IDs de departamentos duplicados:\")\n",
    "    print(duplicated_ids)\n",
    "else:\n",
    "    print(\"No existen IDs de departamentos duplicados.\")"
   ]
  },
  {
   "cell_type": "markdown",
   "id": "bd30d78e",
   "metadata": {
    "id": "bd30d78e"
   },
   "source": [
    "Describe brevemente tus hallazgos y lo que hiciste con ellos.\n",
    "<font color=\"blue\"> Cuando se analizan datos es importante realizar una limpieza de todas las tablas que van a estar involucradas en el análisis aunque la tabla solo tenga dos columnas. En este caso resultó de mucha ayuda no tener datos duplicados. </font>"
   ]
  },
  {
   "cell_type": "markdown",
   "id": "889349c1",
   "metadata": {
    "id": "889349c1"
   },
   "source": [
    "### `aisles` data frame"
   ]
  },
  {
   "cell_type": "code",
   "execution_count": 20,
   "id": "9da89fb9-4679-40f5-ad0d-c34df753a3f8",
   "metadata": {
    "id": "9da89fb9-4679-40f5-ad0d-c34df753a3f8"
   },
   "outputs": [
    {
     "name": "stdout",
     "output_type": "stream",
     "text": [
      "En la tabla Aisles exiten:  0 valores duplicados\n"
     ]
    }
   ],
   "source": [
    "# Revisa si hay filas totalmente duplicadas\n",
    "aisles = pd.read_csv('/datasets/aisles.csv', sep=';')\n",
    "aisles_duplicates = aisles.duplicated().sum()\n",
    "print(\"En la tabla Aisles exiten: \", aisles_duplicates , \"valores duplicados\")"
   ]
  },
  {
   "cell_type": "code",
   "execution_count": 21,
   "id": "da7c2822",
   "metadata": {
    "id": "da7c2822"
   },
   "outputs": [
    {
     "name": "stdout",
     "output_type": "stream",
     "text": [
      "No existen IDs de pedidos duplicados.\n",
      "    aisle_id      aisle\n",
      "69        70  digestion\n"
     ]
    }
   ],
   "source": [
    "# Revisa únicamente si hay IDs duplicadas de productos\n",
    "ids_aisles = aisles['aisle_id'].value_counts()[aisles['aisle_id'].value_counts() > 1]\n",
    "\n",
    "# Si hay algún ID de pedido duplicado, se imprimirán sus ocurrencias\n",
    "if not ids_duplicados.empty:\n",
    "    print(\"Existen IDs de pedidos duplicados:\")\n",
    "    print(ids_duplicados)\n",
    "else:\n",
    "    print(\"No existen IDs de pedidos duplicados.\")\n",
    "    \n",
    "#Otra verificación para sber si existen nombres duplicados. \n",
    "filas_con_nombres_duplicados = aisles.loc[aisles['aisle'] == 'digestion']\n",
    "print(filas_con_nombres_duplicados)"
   ]
  },
  {
   "cell_type": "markdown",
   "id": "ac63826f",
   "metadata": {
    "id": "ac63826f"
   },
   "source": [
    "Describe brevemente tus hallazgos y lo que hiciste con ellos.\n",
    "<font color=\"blue\"> Al igual que el caso de la tabla \"departments\" no existen filas duplicadas implicitamente, ni datos duplicados explicitamente. Sin embargo, es necesario realizar un tratamiento de esta tabla.</font>"
   ]
  },
  {
   "cell_type": "markdown",
   "id": "274cd06a",
   "metadata": {
    "id": "274cd06a"
   },
   "source": [
    "### `order_products` data frame"
   ]
  },
  {
   "cell_type": "code",
   "execution_count": 22,
   "id": "52326689-84a8-4b8f-a881-7c68780f62c9",
   "metadata": {
    "id": "52326689-84a8-4b8f-a881-7c68780f62c9"
   },
   "outputs": [
    {
     "name": "stdout",
     "output_type": "stream",
     "text": [
      "En la tabla Order_products exiten:  0 valores duplicados\n"
     ]
    }
   ],
   "source": [
    "# Revisa si hay filas totalmente duplicadas\n",
    "order_products_duplicates = order_products.duplicated().sum()\n",
    "print(\"En la tabla Order_products exiten: \", order_products_duplicates , \"valores duplicados\")"
   ]
  },
  {
   "cell_type": "code",
   "execution_count": 23,
   "id": "7b861391",
   "metadata": {
    "id": "7b861391"
   },
   "outputs": [
    {
     "name": "stdout",
     "output_type": "stream",
     "text": [
      "Existen datos duplicados en la columna:  ['order_id']\n",
      "367        2867619\n",
      "824         844425\n",
      "1124       3319857\n",
      "1258       1038788\n",
      "1303       2825714\n",
      "            ...   \n",
      "4545002     577211\n",
      "4545003    1219554\n",
      "4545004     692640\n",
      "4545005     319435\n",
      "4545006    1398151\n",
      "Length: 4094961, dtype: object\n",
      "\n",
      "\n",
      "No existen filas duplicadas basadas en 'order_id' y 'product_id'.\n"
     ]
    }
   ],
   "source": [
    "# Vuelve a verificar si hay cualquier otro duplicado engañoso\n",
    "order_products = pd.read_csv('/datasets/order_products.csv',sep=';')\n",
    "\n",
    "#Metodo para saber si existen valores duplicados dentro de una columna de un dataframe. \n",
    "\n",
    "def find_duplicates(df, column_names):\n",
    "    # Concatenar las columnas en una serie de texto\n",
    "    concatenated = df[column_names].astype(str).apply('_'.join, axis=1)\n",
    "    \n",
    "    # Encontrar valores duplicados en la serie\n",
    "    duplicated_values = concatenated[concatenated.duplicated()]\n",
    "    \n",
    "    if not duplicated_values.empty:\n",
    "        print(\"Existen datos duplicados en la columna: \", column_names)\n",
    "        print(duplicated_values)\n",
    "    else:\n",
    "        print(\"No existen datos duplicados en la columna, \", column_names)\n",
    "    \n",
    "    return duplicated_values\n",
    "\n",
    "\n",
    "order_id_duplicados = find_duplicates(order_products, ['order_id'])\n",
    "print(\"\\n\")\n",
    "\n",
    "#Función para saber si existen filas duplicadas tanto en order_id como en product_id\n",
    "duplicates = order_products.duplicated(subset=['order_id', 'product_id'], keep=False)\n",
    "\n",
    "# Filtra el DataFrame original para obtener solo las filas duplicadas\n",
    "duplicated_rows = order_products[duplicates]\n",
    "\n",
    "# Si hay filas duplicadas, imprime sus ocurrencias\n",
    "if not duplicated_rows.empty:\n",
    "    print(\"Existen filas duplicadas basadas en 'order_id' y 'product_id':\")\n",
    "    print(duplicated_rows)\n",
    "else:\n",
    "    print(\"No existen filas duplicadas basadas en 'order_id' y 'product_id'.\")\n",
    "\n"
   ]
  },
  {
   "cell_type": "markdown",
   "id": "0b890492",
   "metadata": {
    "id": "0b890492"
   },
   "source": [
    "Describe brevemente tus hallazgos y lo que hiciste con ellos.\n",
    "\n",
    "<font color=\"blue\"> Al igual que el caso de la tabla \"Products\" el método \"duplicated()\" no garantiza que existan valores duplicados. Al realizar un análisis de datos duplicados en la columna \"order_id\" se pudo observar que si existen valores duplicados, sin embargo, sería un error grave eliminar estos valores, ya que, esta tabla representa fisicamente una orden de un cliente al pedir productos y es normal que el cliente compre o pida varios productos en un solo pedido, por lo cual, es normal que existan valores de order_id duplicados. Por último, lo que si no puede existir es que hayan filas con el mismo order_id y mismo product_id porque ahí si es un error considerado dato duplicado </font>"
   ]
  },
  {
   "cell_type": "markdown",
   "id": "1e46de76",
   "metadata": {
    "id": "1e46de76"
   },
   "source": [
    "## Encuentra y elimina los valores ausentes\n",
    "\n",
    "Al trabajar con valores duplicados, pudimos observar que también nos falta investigar valores ausentes:\n",
    "\n",
    "* La columna `'product_name'` de la tabla products.\n",
    "* La columna `'days_since_prior_order'` de la tabla orders.\n",
    "* La columna `'add_to_cart_order'` de la tabla order_productos."
   ]
  },
  {
   "cell_type": "markdown",
   "id": "c0aebd78",
   "metadata": {
    "id": "c0aebd78"
   },
   "source": [
    "### `products` data frame"
   ]
  },
  {
   "cell_type": "code",
   "execution_count": 24,
   "id": "fe4a8b0f",
   "metadata": {
    "id": "fe4a8b0f"
   },
   "outputs": [
    {
     "name": "stdout",
     "output_type": "stream",
     "text": [
      "Existen:  1258 valores ausentes en la columna product_name\n"
     ]
    }
   ],
   "source": [
    "# Encuentra los valores ausentes en la columna 'product_name'\n",
    "absents_product = products_without_duplicates['product_name'].isna().sum()\n",
    "print(\"Existen: \", absents_product , \"valores ausentes en la columna product_name\")"
   ]
  },
  {
   "cell_type": "markdown",
   "id": "-A6x1AbJhjkp",
   "metadata": {
    "id": "-A6x1AbJhjkp"
   },
   "source": [
    "Describe brevemente cuáles son tus hallazgos.\n",
    "<font color=\"blue\">Se aprecia que existen muchos productos registrados que no tienen nombre lo cuál podría afectar al análisis.</font>"
   ]
  },
  {
   "cell_type": "code",
   "execution_count": 25,
   "id": "e96167bc",
   "metadata": {
    "id": "e96167bc"
   },
   "outputs": [
    {
     "name": "stdout",
     "output_type": "stream",
     "text": [
      "Todos los nombres de productos ausentes están relacionados con el pasillo con ID 100.\n"
     ]
    }
   ],
   "source": [
    "#  ¿Todos los nombres de productos ausentes están relacionados con el pasillo con ID 100?\n",
    "# Filtra las filas donde el nombre del producto está ausente\n",
    "products_absent_names = products_without_duplicates[products_without_duplicates['product_name'].isna()]\n",
    "\n",
    "# Verifica si todos los productos ausentes están relacionados con el pasillo con ID 100\n",
    "all_related_to_aisle_100 = products_absent_names['aisle_id'].eq(100).all()\n",
    "\n",
    "if all_related_to_aisle_100:\n",
    "    print(\"Todos los nombres de productos ausentes están relacionados con el pasillo con ID 100.\")\n",
    "else:\n",
    "    print(\"No todos los nombres de productos ausentes están relacionados con el pasillo con ID 100.\")"
   ]
  },
  {
   "cell_type": "markdown",
   "id": "WRpIfXRphpSL",
   "metadata": {
    "id": "WRpIfXRphpSL"
   },
   "source": [
    "Describe brevemente cuáles son tus hallazgos.\n",
    "<font color=\"blue\">Según el análisis que se ha realizado, se tiene que todos los productos enlazados al pasillo 100 surgierón algún tipo de problema al exportar los datos.</font>"
   ]
  },
  {
   "cell_type": "code",
   "execution_count": 26,
   "id": "8fd0a541",
   "metadata": {
    "id": "8fd0a541"
   },
   "outputs": [
    {
     "name": "stdout",
     "output_type": "stream",
     "text": [
      "Todos los nombres de productos ausentes están relacionados con el departamento con ID 21.\n"
     ]
    }
   ],
   "source": [
    "# ¿Todos los nombres de productos ausentes están relacionados con el departamento con ID 21?\n",
    "# Filtra las filas donde el nombre del producto está ausente\n",
    "products_absent_names = products_without_duplicates[products_without_duplicates['product_name'].isna()]\n",
    "\n",
    "# Verifica si todos los productos ausentes están relacionados con el pasillo con ID 100\n",
    "all_related_to_department_21 = products_absent_names['department_id'].eq(21).all()\n",
    "\n",
    "if all_related_to_department_21:\n",
    "    print(\"Todos los nombres de productos ausentes están relacionados con el departamento con ID 21.\")\n",
    "else:\n",
    "    print(\"No todos los nombres de productos ausentes están relacionados con el departamento con ID 21.\")"
   ]
  },
  {
   "cell_type": "markdown",
   "id": "qDpdYn1Fht_I",
   "metadata": {
    "id": "qDpdYn1Fht_I"
   },
   "source": [
    "Describe brevemente cuáles son tus hallazgos.\n",
    "<font color=\"blue\">Según el análisis que se ha realizado, se tiene que todos los productos enlazados con el departamento ID 21 son valores ausentes.</font>"
   ]
  },
  {
   "cell_type": "code",
   "execution_count": 27,
   "id": "325c3464",
   "metadata": {
    "id": "325c3464"
   },
   "outputs": [
    {
     "name": "stdout",
     "output_type": "stream",
     "text": [
      "       product_id product_name  aisle_id  department_id\n",
      "37             38          NaN       100             21\n",
      "71             72          NaN       100             21\n",
      "109           110          NaN       100             21\n",
      "296           297          NaN       100             21\n",
      "416           417          NaN       100             21\n",
      "...           ...          ...       ...            ...\n",
      "49552       49553          NaN       100             21\n",
      "49574       49575          NaN       100             21\n",
      "49640       49641          NaN       100             21\n",
      "49663       49664          NaN       100             21\n",
      "49668       49669          NaN       100             21\n",
      "\n",
      "[1258 rows x 4 columns]\n"
     ]
    }
   ],
   "source": [
    "# Usa las tablas department y aisle para revisar los datos del pasillo con ID 100 y el departamento con ID 21.\n",
    "products_aisle_department = products_without_duplicates.loc[(products_without_duplicates['aisle_id'] == 100) & (products_without_duplicates['department_id'] == 21)]\n",
    "print(products_aisle_department)"
   ]
  },
  {
   "cell_type": "markdown",
   "id": "nqhSTUPhhvEJ",
   "metadata": {
    "id": "nqhSTUPhhvEJ"
   },
   "source": [
    "Describe brevemente cuáles son tus hallazgos.\n",
    "<font color=\"blue\">Según el análisis que se ha realizado, se puede concluir que existió algun tipo de problema al exportar los datos del pasillo 100 del departamento 21. Lo cuál se debería notificar al proveedor de los datos y si no hay una respuesta que beneficie al análisis colocar un valor predeterminado reemplazando el valor ausente.</font>"
   ]
  },
  {
   "cell_type": "code",
   "execution_count": 28,
   "id": "6b295120",
   "metadata": {
    "id": "6b295120"
   },
   "outputs": [
    {
     "name": "stdout",
     "output_type": "stream",
     "text": [
      "       product_id product_name  aisle_id  department_id\n",
      "37             38      Unknown       100             21\n",
      "71             72      Unknown       100             21\n",
      "109           110      Unknown       100             21\n",
      "296           297      Unknown       100             21\n",
      "416           417      Unknown       100             21\n",
      "...           ...          ...       ...            ...\n",
      "49552       49553      Unknown       100             21\n",
      "49574       49575      Unknown       100             21\n",
      "49640       49641      Unknown       100             21\n",
      "49663       49664      Unknown       100             21\n",
      "49668       49669      Unknown       100             21\n",
      "\n",
      "[1258 rows x 4 columns]\n",
      "Existen:  0 valores ausentes en la columna product_name\n"
     ]
    }
   ],
   "source": [
    "# Completa los nombres de productos ausentes con 'Unknown'\n",
    "products_without_duplicates['product_name'].fillna('Unknown', inplace=True)\n",
    "\n",
    "products_aisle_department = products_without_duplicates.loc[(products_without_duplicates['aisle_id'] == 100) & (products_without_duplicates['department_id'] == 21)]\n",
    "print(products_aisle_department)\n",
    "\n",
    "absents_product = products_without_duplicates['product_name'].isna().sum()\n",
    "print(\"Existen: \", absents_product , \"valores ausentes en la columna product_name\")"
   ]
  },
  {
   "cell_type": "markdown",
   "id": "fc70e5ad",
   "metadata": {
    "id": "fc70e5ad"
   },
   "source": [
    "Describe brevemente tus hallazgos y lo que hiciste con ellos.\n",
    "<font color=\"blue\">Una vez reemplazados los valores ausentes se puede proceder a realizar el análisis de los datos.</font>"
   ]
  },
  {
   "cell_type": "markdown",
   "id": "5d2fd971",
   "metadata": {},
   "source": [
    "<div class=\"alert alert-block alert-success\">\n",
    "<b>Comentario del revisor</b> <a class=\"tocSkip\"></a>\n",
    "\n",
    "Muy buen trabajo!! Desarrollaste de manera excelente el análisis de valores faltantes y los llenaste con \"unknown\".\n",
    "    \n",
    "</div>"
   ]
  },
  {
   "cell_type": "markdown",
   "id": "7eb45c86",
   "metadata": {
    "id": "7eb45c86"
   },
   "source": [
    "### `orders` data frame"
   ]
  },
  {
   "cell_type": "code",
   "execution_count": 29,
   "id": "93e41d96",
   "metadata": {
    "id": "93e41d96"
   },
   "outputs": [
    {
     "name": "stdout",
     "output_type": "stream",
     "text": [
      "order_id                      0\n",
      "user_id                       0\n",
      "order_number                  0\n",
      "order_dow                     0\n",
      "order_hour_of_day             0\n",
      "days_since_prior_order    28817\n",
      "dtype: int64\n"
     ]
    }
   ],
   "source": [
    "# Encuentra los valores ausentes\n",
    "absents_instacart_orders = instacart_orders_without_duplicates.isna().sum()\n",
    "print(absents_instacart_orders)"
   ]
  },
  {
   "cell_type": "code",
   "execution_count": 30,
   "id": "166e5a86",
   "metadata": {
    "id": "166e5a86"
   },
   "outputs": [
    {
     "name": "stdout",
     "output_type": "stream",
     "text": [
      "No hay valores ausentes que no sean el primer pedido del cliente.\n"
     ]
    }
   ],
   "source": [
    "# ¿Hay algún valor ausente que no sea el primer pedido del cliente?\n",
    "# Filtra las filas donde days_since_prior_order sea nulo\n",
    "missing_values = instacart_orders_without_duplicates[instacart_orders_without_duplicates['days_since_prior_order'].isna()]\n",
    "\n",
    "# Verifica si alguno de estos pedidos filtrados corresponde al primer pedido del cliente (order_number = 1)\n",
    "missing_values_not_first_order = missing_values[missing_values['order_number'] != 1]\n",
    "\n",
    "if missing_values_not_first_order.empty:\n",
    "    print(\"No hay valores ausentes que no sean el primer pedido del cliente.\")\n",
    "else:\n",
    "    print(\"Existen valores ausentes que no son el primer pedido del cliente.\")"
   ]
  },
  {
   "cell_type": "markdown",
   "id": "4e23d089",
   "metadata": {
    "id": "4e23d089"
   },
   "source": [
    "Describe brevemente tus hallazgos y lo que hiciste con ellos.\n",
    "<font color=\"blue\">Según el análisis realizado, ninguno de los valores ausentes corresponde al primer pedido del cliente, así que el análisis general de los datos tendrá ciertas complicaciones, pues el punto A-4 pide que se analice, el tiempo que la gente espera hasta hacer su próximo pedido.</font>"
   ]
  },
  {
   "cell_type": "markdown",
   "id": "69dc9ca4",
   "metadata": {
    "id": "69dc9ca4"
   },
   "source": [
    "### `order_products` data frame"
   ]
  },
  {
   "cell_type": "code",
   "execution_count": 31,
   "id": "b8240253",
   "metadata": {
    "id": "b8240253"
   },
   "outputs": [
    {
     "name": "stdout",
     "output_type": "stream",
     "text": [
      "order_id               0\n",
      "product_id             0\n",
      "add_to_cart_order    836\n",
      "reordered              0\n",
      "dtype: int64\n"
     ]
    }
   ],
   "source": [
    "# Encuentra los valores ausentes\n",
    "absents_order_products = order_products.isna().sum()\n",
    "print(absents_order_products)"
   ]
  },
  {
   "cell_type": "code",
   "execution_count": 32,
   "id": "9a78e5ee",
   "metadata": {
    "id": "9a78e5ee"
   },
   "outputs": [
    {
     "name": "stdout",
     "output_type": "stream",
     "text": [
      "El valor mínimo en la columna 'add_to_cart_order' es: 1.0\n",
      "El valor máximo en la columna 'add_to_cart_order' es: 64.0\n"
     ]
    }
   ],
   "source": [
    "# ¿Cuáles son los valores mínimos y máximos en esta columna?\n",
    "min_add_to_cart_order = order_products['add_to_cart_order'].min()\n",
    "max_add_to_cart_order = order_products['add_to_cart_order'].max()\n",
    "\n",
    "print(\"El valor mínimo en la columna 'add_to_cart_order' es:\", min_add_to_cart_order)\n",
    "print(\"El valor máximo en la columna 'add_to_cart_order' es:\", max_add_to_cart_order)"
   ]
  },
  {
   "cell_type": "markdown",
   "id": "-Z2Ja215jW78",
   "metadata": {
    "id": "-Z2Ja215jW78"
   },
   "source": [
    "Describe brevemente cuáles son tus hallazgos.\n",
    "<font color=\"blue\">Según el análisis que se ha realizado, se puede concluir que el anàlisis general no va resultar tan afectado debido a que no es de suma importancia saber cual es el orden de compra de los productos si no si un producto esta presente en diferentes compras. Finalmente, se sabe que una persona compra mínimo 1 artículo y máximo 64.</font>"
   ]
  },
  {
   "cell_type": "code",
   "execution_count": 33,
   "id": "ab9d0c2b",
   "metadata": {
    "id": "ab9d0c2b"
   },
   "outputs": [
    {
     "name": "stdout",
     "output_type": "stream",
     "text": [
      "[2449164 1968313 2926893 1717990 1959075  844733   61355  936852  264710\n",
      " 1564093  129627  293169 2849370 1386261 3308010  903110 2136777 3347453\n",
      " 1888628  165801 2094761 1038146 2997021  813364 2256933  171934 2409109\n",
      " 1730767 1169835  733526  404157 3125735  747668 1800005 1961723  871281\n",
      "  388234 1648217 1477139  102236 1021563 1832957 2721963  678116 1220886\n",
      " 1673227 2999801 1633337 2470674 2625444 1677118 2479011 3383594 1183255\n",
      " 1713430 2652650 1598369 1916118  854647 1302315  888470  180546 2621907\n",
      " 1308785 2729254    9310 2170451 2979697 1625713 1529171]\n"
     ]
    }
   ],
   "source": [
    "# Guarda todas las IDs de pedidos que tengan un valor ausente en 'add_to_cart_order'\n",
    "order_ids_with_missing_add_to_cart_order = order_products[order_products['add_to_cart_order'].isna()]['order_id'].unique()\n",
    "print(order_ids_with_missing_add_to_cart_order)"
   ]
  },
  {
   "cell_type": "code",
   "execution_count": 34,
   "id": "54c31695",
   "metadata": {
    "id": "54c31695"
   },
   "outputs": [
    {
     "name": "stdout",
     "output_type": "stream",
     "text": [
      "No, no todos los pedidos con valores ausentes tienen más de 64 productos.\n"
     ]
    }
   ],
   "source": [
    "# ¿Todos los pedidos con valores ausentes tienen más de 64 productos?\n",
    "# Agrupa todos los pedidos con datos ausentes por su ID de pedido.\n",
    "# Cuenta el número de 'product_id' en cada pedido y revisa el valor mínimo del conteo.\n",
    "\n",
    "# Agrupa los pedidos con datos ausentes por su ID de pedido y cuenta el número de 'product_id' en cada pedido\n",
    "grouped_orders = order_products[order_products['add_to_cart_order'].isna()].groupby('order_id')['product_id'].count()\n",
    "\n",
    "# Revisa el valor mínimo del conteo\n",
    "min_products_count = grouped_orders.min()\n",
    "\n",
    "# Verifica si todos los pedidos con datos ausentes tienen más de 64 productos\n",
    "if min_products_count > 64:\n",
    "    print(\"Sí, todos los pedidos con valores ausentes tienen más de 64 productos.\")\n",
    "else:\n",
    "    print(\"No, no todos los pedidos con valores ausentes tienen más de 64 productos.\")\n"
   ]
  },
  {
   "cell_type": "markdown",
   "id": "p9V6pddtjglj",
   "metadata": {
    "id": "p9V6pddtjglj"
   },
   "source": [
    "Describe brevemente cuáles son tus hallazgos.\n",
    "<font color=\"blue\">Según el análisis que se ha realizado, no todos los pedidos con valores ausentes tienen más de 64 productos.</font>"
   ]
  },
  {
   "cell_type": "code",
   "execution_count": 35,
   "id": "7a987d08",
   "metadata": {
    "id": "7a987d08"
   },
   "outputs": [
    {
     "name": "stdout",
     "output_type": "stream",
     "text": [
      "<class 'pandas.core.frame.DataFrame'>\n",
      "RangeIndex: 4545007 entries, 0 to 4545006\n",
      "Data columns (total 4 columns):\n",
      " #   Column             Dtype\n",
      "---  ------             -----\n",
      " 0   order_id           int64\n",
      " 1   product_id         int64\n",
      " 2   add_to_cart_order  int64\n",
      " 3   reordered          int64\n",
      "dtypes: int64(4)\n",
      "memory usage: 138.7 MB\n"
     ]
    }
   ],
   "source": [
    "# Remplaza los valores ausentes en la columna 'add_to_cart? con 999 y convierte la columna al tipo entero.\n",
    "\n",
    "# Remplaza los valores ausentes en la columna 'add_to_cart_order' con 999\n",
    "order_products['add_to_cart_order'].fillna(999, inplace=True)\n",
    "\n",
    "# Convierte la columna al tipo entero\n",
    "order_products['add_to_cart_order'] = order_products['add_to_cart_order'].astype(int)\n",
    "\n",
    "order_products.info()"
   ]
  },
  {
   "cell_type": "markdown",
   "id": "fea4bcc7",
   "metadata": {
    "id": "fea4bcc7"
   },
   "source": [
    "Describe brevemente tus hallazgos y lo que hiciste con ellos.\n",
    "<font color=\"blue\"> Ahora con el reemplzado de los valores ausentes con 999, se podrá observar que datos no hay que tomar en cuenta a la hora del análisis, además, es mas adecuado que el tipo de dato de la columna sea un entero.</font>"
   ]
  },
  {
   "cell_type": "markdown",
   "id": "RnplPFY1gSrb",
   "metadata": {
    "id": "RnplPFY1gSrb"
   },
   "source": [
    "## Conclusiones\n",
    "\n",
    "Escribe aquí tus conclusiones intermedias sobre el Paso 2. Preprocesamiento de los datos\n",
    "<font color=\"blue\"> En conclusión, se debe realizar un análisis exhaustivo de todos los valores de las diferentes tablas que se tiene, ya que columnas pueden estar con tipos de datos incorrectos que tocaría cambiar, algunos datos ausentes pueden seguir comportamientos que nos dan alguna idea de que podría haber salido mal a la hora de exportar los datos y por último, remplazar los datos ausentes con algún valor que no afecte a la distribución de los datos originales que pueda dar un valor erroneo en el análisis.</font>"
   ]
  },
  {
   "cell_type": "markdown",
   "id": "UjrOIwTcz3ri",
   "metadata": {
    "id": "UjrOIwTcz3ri"
   },
   "source": [
    "# Paso 3. Análisis de los datos\n",
    "\n",
    "Una vez los datos estén procesados y listos, haz el siguiente análisis:"
   ]
  },
  {
   "cell_type": "markdown",
   "id": "turkish-kidney",
   "metadata": {
    "id": "turkish-kidney"
   },
   "source": [
    "# [A] Fácil (deben completarse todos para aprobar)\n",
    "\n",
    "1. Verifica que los valores en las columnas `'order_hour_of_day'` y `'order_dow'` en la tabla orders sean razonables (es decir, `'order_hour_of_day'` oscile entre 0 y 23 y `'order_dow'` oscile entre 0 y 6).\n",
    "2. Crea un gráfico que muestre el número de personas que hacen pedidos dependiendo de la hora del día.\n",
    "3. Crea un gráfico que muestre qué día de la semana la gente hace sus compras.\n",
    "4. Crea un gráfico que muestre el tiempo que la gente espera hasta hacer su siguiente pedido, y comenta sobre los valores mínimos y máximos."
   ]
  },
  {
   "cell_type": "markdown",
   "id": "short-capability",
   "metadata": {
    "id": "short-capability"
   },
   "source": [
    "### [A1] Verifica que los valores sean sensibles"
   ]
  },
  {
   "cell_type": "code",
   "execution_count": 36,
   "id": "growing-fruit",
   "metadata": {
    "id": "growing-fruit"
   },
   "outputs": [
    {
     "name": "stdout",
     "output_type": "stream",
     "text": [
      "Valores mínimos y máximos en 'order_hour_of_day': 0 23\n"
     ]
    }
   ],
   "source": [
    "# Verifica los valores mínimos y máximos en la columna 'order_hour_of_day'\n",
    "min_order_hour = instacart_orders_without_duplicates['order_hour_of_day'].min()\n",
    "max_order_hour = instacart_orders_without_duplicates['order_hour_of_day'].max()\n",
    "\n",
    "print(\"Valores mínimos y máximos en 'order_hour_of_day':\", min_order_hour, max_order_hour)"
   ]
  },
  {
   "cell_type": "code",
   "execution_count": 37,
   "id": "accessory-malaysia",
   "metadata": {
    "id": "accessory-malaysia"
   },
   "outputs": [
    {
     "name": "stdout",
     "output_type": "stream",
     "text": [
      "Valores mínimos y máximos en 'order_dow': 0 6\n"
     ]
    }
   ],
   "source": [
    "# Verifica los valores mínimos y máximos en la columna 'order_dow'\n",
    "min_order_dow = instacart_orders_without_duplicates['order_dow'].min()\n",
    "max_order_dow = instacart_orders_without_duplicates['order_dow'].max()\n",
    "\n",
    "print(\"Valores mínimos y máximos en 'order_dow':\", min_order_dow, max_order_dow)"
   ]
  },
  {
   "cell_type": "markdown",
   "id": "hmR2GNQ6lCsX",
   "metadata": {
    "id": "hmR2GNQ6lCsX"
   },
   "source": [
    "Escribe aquí tus conclusiones\n",
    "<font color=\"blue\"> En base a la verificación realizada se puede decir que todos los valores de estas dos columnas son razonables, no estan fuera del rango que forma el mínimo y máximo.</font>"
   ]
  },
  {
   "cell_type": "markdown",
   "id": "a6743a70",
   "metadata": {
    "id": "a6743a70"
   },
   "source": [
    "### [A2] Para cada hora del día, ¿cuántas personas hacen órdenes?"
   ]
  },
  {
   "cell_type": "code",
   "execution_count": 38,
   "id": "a36cca27",
   "metadata": {
    "id": "a36cca27"
   },
   "outputs": [
    {
     "name": "stderr",
     "output_type": "stream",
     "text": [
      "/tmp/ipykernel_51/2371119685.py:3: SettingWithCopyWarning: \n",
      "A value is trying to be set on a copy of a slice from a DataFrame.\n",
      "Try using .loc[row_indexer,col_indexer] = value instead\n",
      "\n",
      "See the caveats in the documentation: https://pandas.pydata.org/pandas-docs/stable/user_guide/indexing.html#returning-a-view-versus-a-copy\n",
      "  instacart_orders_without_duplicates['order_hour_of_day'] = pd.to_datetime(instacart_orders_without_duplicates['order_hour_of_day'], format='%H').dt.hour\n"
     ]
    },
    {
     "data": {
      "image/png": "[encoded data removed]",
      "text/plain": [
       "<Figure size 1000x600 with 1 Axes>"
      ]
     },
     "metadata": {},
     "output_type": "display_data"
    }
   ],
   "source": [
    "import matplotlib.pyplot as plt\n",
    "# Convertir la columna 'order_hour_of_day' a tipo datetime para asegurarse de que esté en el formato correcto\n",
    "instacart_orders_without_duplicates['order_hour_of_day'] = pd.to_datetime(instacart_orders_without_duplicates['order_hour_of_day'], format='%H').dt.hour\n",
    "\n",
    "# Contar el número de usuarios únicos que hicieron pedidos en cada hora del día\n",
    "orders_by_hour = instacart_orders_without_duplicates.groupby('order_hour_of_day')['user_id'].nunique()\n",
    "\n",
    "# Crear el gráfico de barras\n",
    "plt.figure(figsize=(10, 6))\n",
    "plt.bar(orders_by_hour.index, orders_by_hour.values, color='skyblue')\n",
    "\n",
    "# Etiquetas y título\n",
    "plt.xlabel('Hora del día')\n",
    "plt.ylabel('Número de usuarios únicos')\n",
    "plt.title('Número de usuarios que hacen pedidos según la hora del día')\n",
    "plt.xticks(range(24))  # Asegurarse de que las etiquetas del eje x representen todas las horas del día\n",
    "\n",
    "# Mostrar el gráfico\n",
    "plt.show()"
   ]
  },
  {
   "cell_type": "markdown",
   "id": "11270eed",
   "metadata": {
    "id": "11270eed"
   },
   "source": [
    "Escribe aquí tus conclusiones\n",
    "<font color=\"blue\"> En base al gráfico, se puede observar que la mayoría de los usuarios realizan pedidos apartir de las 8 am hasta las 18 pm. Por otro lado, se puede apreciar que existe mayor preferencia a realizar pedidos por la noche.</font>"
   ]
  },
  {
   "cell_type": "markdown",
   "id": "90ec3502",
   "metadata": {},
   "source": [
    "<div class=\"alert alert-block alert-success\">\n",
    "<b>Comentario revisor</b> <a class=\"tocSkip\"></a>\n",
    "\n",
    "\n",
    "Muy buen trabajo el desarrollar una gráfica para visualizar los resultados\n",
    "</div>"
   ]
  },
  {
   "cell_type": "markdown",
   "id": "documented-command",
   "metadata": {
    "id": "documented-command"
   },
   "source": [
    "### [A3] ¿Qué día de la semana compran víveres las personas?"
   ]
  },
  {
   "cell_type": "code",
   "execution_count": 39,
   "id": "chief-digit",
   "metadata": {
    "id": "chief-digit"
   },
   "outputs": [
    {
     "data": {
      "image/png": "[encoded data removed]",
      "text/plain": [
       "<Figure size 1000x600 with 1 Axes>"
      ]
     },
     "metadata": {},
     "output_type": "display_data"
    }
   ],
   "source": [
    "# Contar el número de usuarios únicos que hicieron pedidos en cada día de la semana\n",
    "orders_by_day = instacart_orders_without_duplicates.groupby('order_dow')['user_id'].nunique()\n",
    "\n",
    "# Crear el gráfico de barras\n",
    "plt.figure(figsize=(10, 6))\n",
    "plt.bar(orders_by_day.index, orders_by_day.values, color='lightgreen')\n",
    "\n",
    "# Etiquetas y título\n",
    "plt.xlabel('Día de la semana')\n",
    "plt.ylabel('Número de usuarios únicos')\n",
    "plt.title('Número de usuarios que hacen pedidos según el día de la semana')\n",
    "plt.xticks(range(7), ['Domingo', 'Lunes', 'Martes', 'Miércoles', 'Jueves', 'Viernes', 'Sábado'])  # Etiquetas personalizadas para los días de la semana\n",
    "\n",
    "# Mostrar el gráfico\n",
    "plt.show()"
   ]
  },
  {
   "cell_type": "markdown",
   "id": "dominant-lightning",
   "metadata": {
    "id": "dominant-lightning"
   },
   "source": [
    "Escribe aquí tus conclusiones\n",
    "<font color=\"blue\"> En base al gráfico, se puede observar que existe una mayor preferencia a comprar viveres los días domingos y lunes.</font>"
   ]
  },
  {
   "cell_type": "markdown",
   "id": "cutting-concert",
   "metadata": {
    "id": "cutting-concert"
   },
   "source": [
    "### [A4] ¿Cuánto tiempo esperan las personas hasta hacer otro pedido? Comenta sobre los valores mínimos y máximos."
   ]
  },
  {
   "cell_type": "code",
   "execution_count": 40,
   "id": "c231f523",
   "metadata": {
    "id": "c231f523"
   },
   "outputs": [
    {
     "name": "stdout",
     "output_type": "stream",
     "text": [
      "Valor mínimo de días transcurridos hasta el siguiente pedido: 0.0\n",
      "Valor máximo de días transcurridos hasta el siguiente pedido: 29.0\n"
     ]
    },
    {
     "data": {
      "image/png": "[encoded data removed]",
      "text/plain": [
       "<Figure size 1000x600 with 1 Axes>"
      ]
     },
     "metadata": {},
     "output_type": "display_data"
    }
   ],
   "source": [
    "# Filtrar los datos para excluir los días iguales a 30\n",
    "filtered_orders = instacart_orders_without_duplicates[instacart_orders_without_duplicates['days_since_prior_order'] != 30]\n",
    "\n",
    "# Crear el histograma\n",
    "plt.figure(figsize=(10, 6))\n",
    "plt.hist(filtered_orders['days_since_prior_order'], bins=30, color='skyblue')  # Ajuste de bins a 29\n",
    "\n",
    "# Etiquetas y título\n",
    "plt.xlabel('Días transcurridos hasta el siguiente pedido')\n",
    "plt.ylabel('Frecuencia')\n",
    "plt.title('Tiempo que la gente espera hasta hacer su siguiente pedido')\n",
    "\n",
    "# Valores mínimos y máximos\n",
    "min_days = filtered_orders['days_since_prior_order'].min()\n",
    "max_days = filtered_orders['days_since_prior_order'].max()\n",
    "print(\"Valor mínimo de días transcurridos hasta el siguiente pedido:\", min_days)\n",
    "print(\"Valor máximo de días transcurridos hasta el siguiente pedido:\", max_days)\n",
    "\n",
    "# Mostrar el gráfico\n",
    "plt.show()\n"
   ]
  },
  {
   "cell_type": "markdown",
   "id": "discrete-vertex",
   "metadata": {
    "id": "discrete-vertex"
   },
   "source": [
    "Escribe aquí tus conclusiones\n",
    "<font color=\"blue\"> En base al gráfico, se puede observar que la mayoría de personas vuelven a realizar pedidos apartir del 6 o 7 día y a los 30 días.</font>"
   ]
  },
  {
   "cell_type": "markdown",
   "id": "80abb113",
   "metadata": {},
   "source": [
    "<div class=\"alert alert-block alert-warning\">\n",
    "<b>Comentario Revisor</b> <a class=\"tocSkip\"></a>\n",
    "\n",
    "Muy buen trabajo, pero pareciera que las personas que tardan 30 días puede ser un error. Entonces te sugiero complementar este análisis con una gráfica donde se muestren los valores sin contar los de 30\n",
    "</div>\n",
    "\n",
    "<div class=\"alert alert-block alert-info\">\n",
    "<b>Respuesta del estudiante.</b> <a class=\"tocSkip\"></a>\n",
    "    No logro entender porque los datos del dìa 30 podrían representar un error, no se si me he equivocado en la limpieza de esos datos. Me ayudaría mucho una pequeña explicación.\n",
    "</div>"
   ]
  },
  {
   "cell_type": "markdown",
   "id": "10914275",
   "metadata": {},
   "source": [
    "<div class=\"alert alert-block alert-info\">\n",
    "<b>Comentario del revisor</b> <a class=\"tocSkip\"></a>\n",
    "\n",
    "Hola, Ariel! Claro, en primer lugar porque lo datos de 30 días son atipicos a los datos que vemos en los demá días, esto podría reflejar que eposiblemente los que tienen 30 en hacer otro pedido sean una suma de valores que no solamente corresponden a 30 días.\n",
    "</div>"
   ]
  },
  {
   "cell_type": "markdown",
   "id": "tight-staff",
   "metadata": {
    "id": "tight-staff"
   },
   "source": [
    "# [B] Intermedio (deben completarse todos para aprobar)\n",
    "\n",
    "1. ¿Existe alguna diferencia entre las distribuciones `'order_hour_of_day'` de los miércoles y los sábados? Traza gráficos de barra de `'order_hour_of_day'` para ambos días en la misma figura y describe las diferencias que observes.\n",
    "2. Grafica la distribución para el número de órdenes que hacen los clientes (es decir, cuántos clientes hicieron solo 1 pedido, cuántos hicieron 2, cuántos 3, y así sucesivamente...).\n",
    "3. ¿Cuáles son los 20 principales productos que se piden con más frecuencia (muestra su identificación y nombre)?"
   ]
  },
  {
   "cell_type": "markdown",
   "id": "packed-classic",
   "metadata": {
    "id": "packed-classic"
   },
   "source": [
    "### [B1] Diferencia entre miércoles y sábados para  `'order_hour_of_day'`. Traza gráficos de barra para los dos días y describe las diferencias que veas."
   ]
  },
  {
   "cell_type": "code",
   "execution_count": 41,
   "id": "d89b8403",
   "metadata": {
    "id": "d89b8403"
   },
   "outputs": [
    {
     "data": {
      "image/png": "[encoded data removed]",
      "text/plain": [
       "<Figure size 1000x600 with 1 Axes>"
      ]
     },
     "metadata": {},
     "output_type": "display_data"
    }
   ],
   "source": [
    "# Convertir 'order_dow' a valores de lunes a domingo (0 a 6)\n",
    "#instacart_orders_without_duplicates['order_dow'] = (instacart_orders_without_duplicates['order_dow'] + 1) % 7\n",
    "\n",
    "# Filtrar los datos para obtener solo los pedidos realizados los miércoles (day_of_week = 3) y los sábados (day_of_week = 6)\n",
    "wednesday_orders = instacart_orders_without_duplicates[instacart_orders_without_duplicates['order_dow'] == 3]\n",
    "saturday_orders = instacart_orders_without_duplicates[instacart_orders_without_duplicates['order_dow'] == 6]\n",
    "\n",
    "# Calcular la frecuencia de las horas de pedido para ambos días\n",
    "wednesday_hour_counts = wednesday_orders['order_hour_of_day'].value_counts().sort_index()\n",
    "saturday_hour_counts = saturday_orders['order_hour_of_day'].value_counts().sort_index()\n",
    "\n",
    "# Crear la figura y los ejes\n",
    "plt.figure(figsize=(10, 6))\n",
    "\n",
    "# Graficar las barras para los pedidos del miércoles\n",
    "plt.bar(wednesday_hour_counts.index, wednesday_hour_counts.values, color='blue', alpha=0.7, label='Miércoles')\n",
    "\n",
    "# Graficar las barras para los pedidos del sábado\n",
    "plt.bar(saturday_hour_counts.index, saturday_hour_counts.values, color='red', alpha=0.7, label='Sábado')\n",
    "\n",
    "# Etiquetas y título\n",
    "plt.xlabel('Hora del día')\n",
    "plt.ylabel('Número de pedidos')\n",
    "plt.title('Distribución de pedidos por hora del día (Miércoles vs. Sábado)')\n",
    "plt.xticks(range(24))  # Asegurar que todas las horas estén etiquetadas en el eje x\n",
    "plt.legend()\n",
    "\n",
    "# Mostrar el gráfico\n",
    "plt.show()"
   ]
  },
  {
   "cell_type": "markdown",
   "id": "61dfb97c",
   "metadata": {},
   "source": [
    "<div class=\"alert alert-block alert-danger\">\n",
    "<b>Comentario revisor</b> <a class=\"tocSkip\"></a>\n",
    "\n",
    "\n",
    "La gráfica la desarrollaste de gran forma. Solamente te recomiendo verificar que el sábado corresponde al día 5. \n",
    "</div>\n",
    "\n",
    "<div class=\"alert alert-block alert-info\">\n",
    "<b>Respuesta del estudiante.</b> <a class=\"tocSkip\"></a>\n",
    "    En las primeras líneas de mi código, si tengo en cuenta que el sábado corresponde al día 5 --> saturday_orders = instacart_orders[instacart_orders['order_dow'] == 5]\n",
    "</div>\n"
   ]
  },
  {
   "cell_type": "code",
   "execution_count": null,
   "id": "94e54e8a",
   "metadata": {
    "id": "94e54e8a"
   },
   "outputs": [],
   "source": []
  },
  {
   "cell_type": "code",
   "execution_count": null,
   "id": "797c90a8",
   "metadata": {
    "id": "797c90a8"
   },
   "outputs": [],
   "source": []
  },
  {
   "cell_type": "code",
   "execution_count": null,
   "id": "35bcea30",
   "metadata": {
    "id": "35bcea30"
   },
   "outputs": [],
   "source": []
  },
  {
   "cell_type": "markdown",
   "id": "charitable-congo",
   "metadata": {
    "id": "charitable-congo"
   },
   "source": [
    "Escribe aquí tus conclusiones\n",
    "<font color=\"blue\"> Aunque en el gráfico de barras parece que los pedidos del día miércoles y sábado son iguales, no es cierto pues se puede ver en el gráfico que el miércoles tiene a ser superior en la mayoría de horas del día.</font>"
   ]
  },
  {
   "cell_type": "markdown",
   "id": "e3891143",
   "metadata": {
    "id": "e3891143"
   },
   "source": [
    "### [B2] ¿Cuál es la distribución para el número de pedidos por cliente?"
   ]
  },
  {
   "cell_type": "code",
   "execution_count": 42,
   "id": "d8c26c23",
   "metadata": {
    "id": "d8c26c23"
   },
   "outputs": [
    {
     "data": {
      "image/png": "[encoded data removed]",
      "text/plain": [
       "<Figure size 1000x600 with 1 Axes>"
      ]
     },
     "metadata": {},
     "output_type": "display_data"
    }
   ],
   "source": [
    "# Contar el número de órdenes por cliente\n",
    "orders_per_user = instacart_orders_without_duplicates['user_id'].value_counts()\n",
    "\n",
    "# Crear el histograma\n",
    "plt.figure(figsize=(10, 6))\n",
    "plt.hist(orders_per_user, bins=range(1, orders_per_user.max() + 2), edgecolor='black')\n",
    "plt.title('Distribución del número de órdenes por cliente')\n",
    "plt.xlabel('Número de órdenes')\n",
    "plt.ylabel('Cantidad de clientes')\n",
    "plt.xticks(range(1, orders_per_user.max() + 1))\n",
    "plt.grid(axis='y', linestyle='--', alpha=0.7)\n",
    "plt.show()"
   ]
  },
  {
   "cell_type": "code",
   "execution_count": null,
   "id": "00e69a66",
   "metadata": {
    "id": "00e69a66"
   },
   "outputs": [],
   "source": []
  },
  {
   "cell_type": "markdown",
   "id": "d2eff7d5",
   "metadata": {
    "id": "d2eff7d5"
   },
   "source": [
    "Escribe aquí tus conclusiones\n",
    "<font color=\"blue\"> En base al gráfico, se puede observar que la gran mayoría de clientes tienden a realizar un solo pedido. Además, a partir del día  20 es casi imposible que un usuario vuelva a realizar un pedido.</font>"
   ]
  },
  {
   "cell_type": "markdown",
   "id": "54a0319c",
   "metadata": {
    "id": "54a0319c"
   },
   "source": [
    "### [B3] ¿Cuáles son los 20 productos más populares (muestra su ID y nombre)?"
   ]
  },
  {
   "cell_type": "code",
   "execution_count": 43,
   "id": "exterior-arizona",
   "metadata": {
    "id": "exterior-arizona",
    "scrolled": true
   },
   "outputs": [
    {
     "name": "stdout",
     "output_type": "stream",
     "text": [
      "Los 20 principales productos que se piden con más frecuencia:\n",
      "BANANA                      66050\n",
      "BAG OF ORGANIC BANANAS      53297\n",
      "ORGANIC STRAWBERRIES        37039\n",
      "ORGANIC BABY SPINACH        33971\n",
      "ORGANIC HASS AVOCADO        29773\n",
      "ORGANIC AVOCADO             24689\n",
      "LARGE LEMON                 21495\n",
      "STRAWBERRIES                20018\n",
      "LIMES                       19690\n",
      "ORGANIC WHOLE MILK          19600\n",
      "ORGANIC RASPBERRIES         19197\n",
      "ORGANIC YELLOW ONION        15898\n",
      "ORGANIC GARLIC              15292\n",
      "ORGANIC ZUCCHINI            14584\n",
      "ORGANIC BLUEBERRIES         13879\n",
      "CUCUMBER KIRBY              13675\n",
      "ORGANIC FUJI APPLE          12544\n",
      "ORGANIC LEMON               12232\n",
      "APPLE HONEYCRISP ORGANIC    11993\n",
      "ORGANIC GRAPE TOMATOES      11781\n",
      "Name: product_name, dtype: int64\n"
     ]
    }
   ],
   "source": [
    "# Combinar las tablas order_products y products usando la columna product_id\n",
    "merged_data = pd.merge(order_products, products_without_duplicates, on='product_id')\n",
    "\n",
    "# Contar la frecuencia de cada producto\n",
    "top_products = merged_data['product_name'].value_counts().head(20)\n",
    "\n",
    "# Imprimir los resultados\n",
    "print(\"Los 20 principales productos que se piden con más frecuencia:\")\n",
    "print(top_products)"
   ]
  },
  {
   "cell_type": "markdown",
   "id": "fc467e8e",
   "metadata": {
    "id": "universal-facial"
   },
   "source": [
    "<div class=\"alert alert-block alert-success\">\n",
    "<b>Comentario del revisor</b> <a class=\"tocSkip\"></a>\n",
    "\n",
    "Muy buen desarrollo de la sección. Desarrollaste de buena manera todos los análisis y lo complementaste con una gráfica. \n",
    "</div>"
   ]
  },
  {
   "cell_type": "code",
   "execution_count": null,
   "id": "bbcdd20b",
   "metadata": {
    "id": "bbcdd20b"
   },
   "outputs": [],
   "source": []
  },
  {
   "cell_type": "markdown",
   "id": "7df00f47",
   "metadata": {
    "id": "7df00f47"
   },
   "source": [
    "Escribe aquí tus conclusiones\n",
    "<font color=\"blue\"> En base al análisis, se puede apreciar que la banana es le producto más comprado de la tienda. Además, existe un mayor apego de los clientes a comprar productos \"organicos\", pues dentro del top existen muchos productos de este tipo.</font>"
   ]
  },
  {
   "cell_type": "markdown",
   "id": "gross-theme",
   "metadata": {
    "id": "gross-theme"
   },
   "source": [
    "# [C] Difícil (deben completarse todos para aprobar)\n",
    "\n",
    "1. ¿Cuántos artículos suelen comprar las personas en un pedido? ¿Cómo es la distribución?\n",
    "2. ¿Cuáles son los 20 principales artículos que vuelven a pedirse con mayor frecuencia (muestra sus nombres e IDs de los productos)?\n",
    "3. Para cada producto, ¿cuál es la tasa de repetición del pedido (número de repeticiones de pedido/total de pedidos?\n",
    "4. Para cada cliente, ¿qué proporción de los productos que pidió ya los había pedido? Calcula la tasa de repetición de pedido para cada usuario en lugar de para cada producto.\n",
    "5. ¿Cuáles son los 20 principales artículos que la gente pone primero en sus carritos (muestra las IDs de los productos, sus nombres, y el número de veces en que fueron el primer artículo en añadirse al carrito)?"
   ]
  },
  {
   "cell_type": "markdown",
   "id": "romantic-deposit",
   "metadata": {
    "id": "romantic-deposit"
   },
   "source": [
    "### [C1] ¿Cuántos artículos compran normalmente las personas en un pedido? ¿Cómo es la distribución?"
   ]
  },
  {
   "cell_type": "code",
   "execution_count": 46,
   "id": "virtual-punch",
   "metadata": {
    "id": "virtual-punch"
   },
   "outputs": [
    {
     "data": {
      "image/png": "[encoded data removed]",
      "text/plain": [
       "<Figure size 1000x600 with 1 Axes>"
      ]
     },
     "metadata": {},
     "output_type": "display_data"
    },
    {
     "name": "stdout",
     "output_type": "stream",
     "text": [
      "Promedio de artículos por pedido: 10.10\n",
      "Mediana de artículos por pedido: 8.0\n"
     ]
    }
   ],
   "source": [
    "# Contar el número de artículos por pedido\n",
    "items_per_order = order_products.groupby('order_id')['product_id'].count()\n",
    "\n",
    "# Calcular estadísticas descriptivas\n",
    "mean_items = items_per_order.mean()\n",
    "median_items = items_per_order.median()\n",
    "\n",
    "# Configurar el tamaño del gráfico\n",
    "plt.figure(figsize=(10, 6))\n",
    "\n",
    "# Visualizar la distribución\n",
    "plt.hist(items_per_order, bins=30, color='skyblue', edgecolor='black')\n",
    "plt.title('Distribución del número de artículos por pedido')\n",
    "plt.xlabel('Número de artículos por pedido')\n",
    "plt.ylabel('Frecuencia')\n",
    "plt.axvline(mean_items, color='red', linestyle='dashed', linewidth=1, label=f'Promedio: {mean_items:.2f}')\n",
    "plt.axvline(median_items, color='green', linestyle='dashed', linewidth=1, label=f'Mediana: {median_items}')\n",
    "plt.legend()\n",
    "plt.show()\n",
    "\n",
    "# Imprimir estadísticas descriptivas\n",
    "print(f\"Promedio de artículos por pedido: {mean_items:.2f}\")\n",
    "print(f\"Mediana de artículos por pedido: {median_items}\")"
   ]
  },
  {
   "cell_type": "code",
   "execution_count": null,
   "id": "sensitive-breathing",
   "metadata": {
    "id": "sensitive-breathing"
   },
   "outputs": [],
   "source": []
  },
  {
   "cell_type": "code",
   "execution_count": null,
   "id": "completed-frank",
   "metadata": {
    "id": "completed-frank"
   },
   "outputs": [],
   "source": []
  },
  {
   "cell_type": "markdown",
   "id": "designed-mortality",
   "metadata": {
    "id": "designed-mortality"
   },
   "source": [
    "Escribe aquí tus conclusiones ¿Cuántos artículos compran normalmente las personas en un pedido? ¿Cómo es la distribución?\n",
    "<font color=\"blue\"> En base al gráfico, se puede observar que las personas compran normalmente de 0 a 8 artículos en su pedido. La distribución de esta gráfica es Pascal con asimetría hacia la derecha.</font>"
   ]
  },
  {
   "cell_type": "markdown",
   "id": "5e6b5537",
   "metadata": {
    "id": "5e6b5537"
   },
   "source": [
    "### [C2] ¿Cuáles son los 20 principales artículos que vuelven a pedirse con mayor frecuencia (muestra sus nombres e IDs de los productos)?"
   ]
  },
  {
   "cell_type": "code",
   "execution_count": 47,
   "id": "9374e55a",
   "metadata": {
    "id": "9374e55a"
   },
   "outputs": [
    {
     "name": "stdout",
     "output_type": "stream",
     "text": [
      "    product_id                                       product_name\n",
      "0        55763                                                NaN\n",
      "1        44450                                   ALLIUM CEPA 30 C\n",
      "2        28639  EXOTIC PAPAYA & HIBISCUS FLOWER SCENTED OIL RE...\n",
      "3        26233               ORGANIC EINKORN GINGER SPICE COOKIES\n",
      "4        23629  RISERVA BALSAMIC VINEGAR & CARAMELIZED ONIONS ...\n",
      "5        18743     DARK CHOCOLATE CHEESECAKE SOFT DESSERT COOKIES\n",
      "6        16251                               DOUBLE CREAM CREMONT\n",
      "7        15044                             QUARK SEA SALT CARAMEL\n",
      "8        14748    SOFT WHITE 200 WATTS GENERAL PURPOSE LIGHT BULB\n",
      "9        13945                        2 IN 1 WHITENING TOOTHPASTE\n",
      "10       13327                       100% COLOMBIAN MEDIUM COFFEE\n",
      "11       11145                 UNBLEACHED WHITE FINE PASTRY FLOUR\n",
      "12       10411                                   CAULIFLOWER HEAD\n",
      "13       10076                              CHUNK LIGHT YELLOWFIN\n",
      "14        9538                       INSTANT LUNCH CHICKEN FLAVOR\n",
      "15        8989                      OLIVE OIL & BALSAMIC DRESSING\n",
      "16        8836                                   JALAPENO CASHEWS\n",
      "17        8799                           1ST FOODS SWEET POTATOES\n",
      "18        8412                           GREEN PEAS NO SALT ADDED\n",
      "19        8389    8.1 OZ. WHEAT THIN TOASTED CHIPS ROASTED GARLIC\n"
     ]
    }
   ],
   "source": [
    "# Filtrar los productos que se han vuelto a pedir\n",
    "reordered_products = order_products[order_products['reordered'] == 1]\n",
    "\n",
    "# Unir los datos de reordenamiento con los nombres de los productos\n",
    "df_merge = reordered_products.merge(products_without_duplicates[['product_id', 'product_name']], on='product_id')\n",
    "\n",
    "# Contar la frecuencia de reordenamiento para cada producto y ordenarlos\n",
    "top_reordered_products = df_merge.groupby(['product_id', 'product_name']).size().sort_values(ascending=False).head(20)\n",
    "\n",
    "# Convertir el resultado a un DataFrame para una mejor visualización\n",
    "top_reordered_products_df = top_reordered_products.reset_index(name='reorder_count')\n",
    "\n",
    "# Imprimir los nombres e IDs de los 20 principales productos que se vuelven a pedir con mayor frecuencia\n",
    "print(top_reordered_products_df)"
   ]
  },
  {
   "cell_type": "code",
   "execution_count": null,
   "id": "possible-change",
   "metadata": {
    "id": "possible-change",
    "scrolled": true
   },
   "outputs": [],
   "source": []
  },
  {
   "cell_type": "code",
   "execution_count": null,
   "id": "professional-surfing",
   "metadata": {
    "id": "professional-surfing",
    "scrolled": true
   },
   "outputs": [],
   "source": []
  },
  {
   "cell_type": "code",
   "execution_count": null,
   "id": "48dd3658",
   "metadata": {
    "id": "48dd3658"
   },
   "outputs": [],
   "source": []
  },
  {
   "cell_type": "markdown",
   "id": "80e70c74",
   "metadata": {
    "id": "80e70c74"
   },
   "source": [
    "Escribe aquí tus conclusiones\n",
    "<font color=\"blue\"> En base al análisis, se observa que entre el la lista de los 20 productos que se vuelven a pedir es un producto desconocido, pero luego de él está el producto \"allium cepa 30 c\" que es el producto que se vuelve a pedir con mayor frecuencia.</font>"
   ]
  },
  {
   "cell_type": "markdown",
   "id": "9d312b14",
   "metadata": {
    "id": "9d312b14"
   },
   "source": [
    "### [C3] Para cada producto, ¿cuál es la proporción de las veces que se pide y que se vuelve a pedir?"
   ]
  },
  {
   "cell_type": "code",
   "execution_count": 48,
   "id": "8ae9f4b1",
   "metadata": {
    "id": "8ae9f4b1"
   },
   "outputs": [
    {
     "name": "stdout",
     "output_type": "stream",
     "text": [
      "1     0.564286\n",
      "2          NaN\n",
      "3     0.738095\n",
      "4     0.510204\n",
      "7     0.500000\n",
      "8     0.315789\n",
      "9     0.761905\n",
      "10    0.448071\n",
      "11    0.625000\n",
      "12    0.390244\n",
      "13    0.500000\n",
      "14         NaN\n",
      "17         NaN\n",
      "18    0.533333\n",
      "19         NaN\n",
      "21         NaN\n",
      "22    0.500000\n",
      "23    0.380952\n",
      "24         NaN\n",
      "25    0.674576\n",
      "Name: product_id, dtype: float64\n"
     ]
    }
   ],
   "source": [
    "# Contar el número total de pedidos para cada producto\n",
    "total_orders = order_products['product_id'].value_counts()\n",
    "\n",
    "# Filtrar los productos que se han vuelto a pedir\n",
    "reordered_products = order_products[order_products['reordered'] == 1]\n",
    "\n",
    "# Contar el número de repeticiones de pedido para cada producto\n",
    "reorder_counts = reordered_products['product_id'].value_counts()\n",
    "\n",
    "# Asegurarse de que todos los productos tengan un conteo de repeticiones\n",
    "reorder_counts = reorder_counts.reindex(total_orders.index, fill_value=0)\n",
    "\n",
    "# Calcular la tasa de repetición del pedido para cada producto\n",
    "reorder_rate = reorder_counts / total_orders\n",
    "\n",
    "# Imprimir la tasa de repetición del pedido para los primeros 20 productos\n",
    "print(reorder_rate.head(20))"
   ]
  },
  {
   "cell_type": "code",
   "execution_count": 47,
   "id": "103e7fe1",
   "metadata": {
    "id": "103e7fe1"
   },
   "outputs": [
    {
     "ename": "SyntaxError",
     "evalue": "invalid syntax (3011035816.py, line 1)",
     "output_type": "error",
     "traceback": [
      "\u001b[0;36m  Cell \u001b[0;32mIn[47], line 1\u001b[0;36m\u001b[0m\n\u001b[0;31m    <div class=\"alert alert-block alert-info\">\u001b[0m\n\u001b[0m    ^\u001b[0m\n\u001b[0;31mSyntaxError\u001b[0m\u001b[0;31m:\u001b[0m invalid syntax\n"
     ]
    }
   ],
   "source": []
  },
  {
   "cell_type": "code",
   "execution_count": 48,
   "id": "75fea7c6",
   "metadata": {},
   "outputs": [
    {
     "ename": "SyntaxError",
     "evalue": "invalid syntax (3011035816.py, line 1)",
     "output_type": "error",
     "traceback": [
      "\u001b[0;36m  Cell \u001b[0;32mIn[48], line 1\u001b[0;36m\u001b[0m\n\u001b[0;31m    <div class=\"alert alert-block alert-info\">\u001b[0m\n\u001b[0m    ^\u001b[0m\n\u001b[0;31mSyntaxError\u001b[0m\u001b[0;31m:\u001b[0m invalid syntax\n"
     ]
    }
   ],
   "source": []
  },
  {
   "cell_type": "code",
   "execution_count": null,
   "id": "social-individual",
   "metadata": {
    "id": "social-individual"
   },
   "outputs": [],
   "source": []
  },
  {
   "cell_type": "markdown",
   "id": "I10dEIAyldcO",
   "metadata": {
    "id": "I10dEIAyldcO"
   },
   "source": [
    "Escribe aquí tus conclusiones\n",
    "<font color=\"blue\"> En base al gráfico, se puede observar que aunque se haya realizado una limpieza exhaustiva de los datos, aùn sigue habiendo valores ausentes el momento de realizar calculos.</font>"
   ]
  },
  {
   "cell_type": "markdown",
   "id": "subject-boxing",
   "metadata": {
    "id": "subject-boxing"
   },
   "source": [
    "### [C4] Para cada cliente, ¿qué proporción de sus productos ya los había pedido?"
   ]
  },
  {
   "cell_type": "code",
   "execution_count": 49,
   "id": "medical-couple",
   "metadata": {
    "id": "medical-couple",
    "scrolled": true
   },
   "outputs": [
    {
     "name": "stdout",
     "output_type": "stream",
     "text": [
      "user_id\n",
      "2     0.040000\n",
      "4          NaN\n",
      "5     0.666667\n",
      "6          NaN\n",
      "7     0.923077\n",
      "11    0.200000\n",
      "12    0.250000\n",
      "13    0.611111\n",
      "14    0.296296\n",
      "15    0.750000\n",
      "16    0.461538\n",
      "17    0.575758\n",
      "19    0.244444\n",
      "20         NaN\n",
      "21    0.421053\n",
      "22    1.000000\n",
      "24    0.500000\n",
      "26    0.437500\n",
      "27    0.652174\n",
      "28    0.447368\n",
      "Name: product_id, dtype: float64\n"
     ]
    }
   ],
   "source": [
    "# Unir los datos de pedidos y productos\n",
    "merged_data = pd.merge(order_products, instacart_orders_without_duplicates, on='order_id')\n",
    "\n",
    "# Filtrar los productos que se han vuelto a pedir\n",
    "reordered_products = merged_data[merged_data['reordered'] == 1]\n",
    "\n",
    "# Contar el número total de productos pedidos por cada cliente\n",
    "total_products_per_user = merged_data.groupby('user_id')['product_id'].nunique()\n",
    "\n",
    "# Contar el número de productos que se han vuelto a pedir por cada cliente\n",
    "reordered_products_per_user = reordered_products.groupby('user_id')['product_id'].nunique()\n",
    "\n",
    "# Asegurarse de que todos los clientes tengan un conteo de repeticiones\n",
    "reordered_products_per_user = reordered_products_per_user.reindex(total_products_per_user.index, fill_value=0)\n",
    "\n",
    "# Calcular la tasa de repetición de pedido para cada cliente\n",
    "reorder_rate_per_user = reordered_products_per_user / total_products_per_user\n",
    "\n",
    "# Imprimir la tasa de repetición de pedido para los primeros 20 clientes\n",
    "print(reorder_rate_per_user.head(20))"
   ]
  },
  {
   "cell_type": "markdown",
   "id": "2f9c67bf",
   "metadata": {
    "id": "8892e4b4"
   },
   "source": [
    "<div class=\"alert alert-block alert-success\">\n",
    "<b>Comentario del revisor</b> <a class=\"tocSkip\"></a>\n",
    "\n",
    "Muy buen trabajo con los ajustes!\n",
    "</div>"
   ]
  },
  {
   "cell_type": "markdown",
   "id": "BgJSvXDsleXz",
   "metadata": {
    "id": "BgJSvXDsleXz"
   },
   "source": [
    "Escribe aquí tus conclusiones\n",
    "<font color=\"blue\"> En base al análisis, se puede observar que muchos clientes vuelven a pedir casi el 50% de los productos que ya compraron.</font>"
   ]
  },
  {
   "cell_type": "markdown",
   "id": "92d35137",
   "metadata": {
    "id": "92d35137"
   },
   "source": [
    "### [C5] ¿Cuáles son los 20 principales artículos que las personas ponen primero en sus carritos?"
   ]
  },
  {
   "cell_type": "code",
   "execution_count": 50,
   "id": "0ae57274",
   "metadata": {
    "id": "0ae57274",
    "scrolled": true
   },
   "outputs": [
    {
     "name": "stdout",
     "output_type": "stream",
     "text": [
      "BANANA                         15562\n",
      "BAG OF ORGANIC BANANAS         11026\n",
      "ORGANIC WHOLE MILK              4363\n",
      "ORGANIC STRAWBERRIES            3946\n",
      "ORGANIC HASS AVOCADO            3390\n",
      "ORGANIC BABY SPINACH            3336\n",
      "ORGANIC AVOCADO                 3044\n",
      "SPRING WATER                    2336\n",
      "STRAWBERRIES                    2308\n",
      "ORGANIC RASPBERRIES             2024\n",
      "SPARKLING WATER GRAPEFRUIT      1914\n",
      "ORGANIC HALF & HALF             1797\n",
      "LARGE LEMON                     1737\n",
      "SODA                            1733\n",
      "ORGANIC REDUCED FAT MILK        1397\n",
      "LIMES                           1370\n",
      "HASS AVOCADOS                   1340\n",
      "ORGANIC REDUCED FAT 2% MILK     1310\n",
      "HALF & HALF                     1309\n",
      "ORGANIC YELLOW ONION            1246\n",
      "Name: product_name, dtype: int64\n"
     ]
    }
   ],
   "source": [
    "# Unir los datos de productos con los datos de los primeros artículos en el carrito\n",
    "first_items = order_products[order_products['add_to_cart_order'] == 1]\n",
    "\n",
    "# Unir los datos de los primeros artículos con los nombres de los productos\n",
    "first_items_with_names = pd.merge(first_items, products, on='product_id')\n",
    "\n",
    "# Contar el número de veces que cada producto fue el primero en el carrito\n",
    "top_first_items = first_items_with_names['product_name'].value_counts().head(20)\n",
    "\n",
    "# Imprimir los 20 principales artículos\n",
    "print(top_first_items)"
   ]
  },
  {
   "cell_type": "markdown",
   "id": "38ee112e",
   "metadata": {
    "id": "forty-netherlands",
    "scrolled": true
   },
   "source": [
    "<div class=\"alert alert-block alert-success\">\n",
    "<b>Comentario del revisor</b> <a class=\"tocSkip\"></a>\n",
    "\n",
    "Muy buen desarrollo de la sección. Desarrollaste de buena manera todos los análisis y lo complementaste con una gráfica. \n",
    "</div>\n",
    "\n",
    "<div class=\"alert alert-block alert-info\">\n",
    "<b>Respuesta del estudiante.</b> <a class=\"tocSkip\"></a>\n",
    "Tanto en los ejercicios C2,C3 y C4 tengo dudas. \n",
    "En C2 ¿Realmente, el primer dato debe ser nulo? o ¿Me he equivocado en la limpieza de los datos? \n",
    "En C3, ¿Es realista, que exista esos valores nulos? o ¿De igual forma me he equivocado en la limpieza de los datos?\n",
    "Lo mismo me sucede en C4. \n",
    "</div>"
   ]
  },
  {
   "cell_type": "markdown",
   "id": "9e7a2cfe",
   "metadata": {
    "id": "08e41ec2"
   },
   "source": [
    "<div class=\"alert alert-block alert-info\">\n",
    "<b>Comentario del revisor</b> <a class=\"tocSkip\"></a>\n",
    "\n",
    "Hola, Ariel! Respecto a tus dudas te dejo mis respuespas por pregunta:\n",
    "    \n",
    "    - C2: Como bien mencionas no es correcto que el primer dato sea nulo. Dado que estos no son nombres de productos. Para resolver esto te puedes guiar del siguiente ejemplo y adaptarlo a las bases que usas: \n",
    "        reorder_products = df_order_products[df_order_products['reordered'] == 1]\n",
    "        df_merge = reorder_products.merge(df_products, on='product_id')\n",
    "        top_reordered_products = df_merge.groupby(['product_id', 'product_name']).size().sort_values(ascending=False)\n",
    "    - C3: En este caso los valores nulos son los casos en el que la proporción es cero. Entonces antes de hacer el análisis puedes cambiar los valores nulos por cero\n",
    "    - C4: Mismo comentario para C4\n",
    "    \n",
    "De igual manera aprovecho para comentarte que en el ejercicio B1  es necesario verificar que los días corresponden a 2 y 5. En el ejercicio 5.1 consideramos miércoles como 3  \n",
    "</div>"
   ]
  },
  {
   "cell_type": "markdown",
   "id": "28ce9872",
   "metadata": {
    "id": "28ce9872"
   },
   "source": [
    "Escribe aquí tus conclusiones <font color=\"blue\"> En base al análisis, se puede observar que existe una mayor preferencia a agregar bananas y otros productos orgánicos como los primeros en colocarse en la canasta de compras.</font>"
   ]
  },
  {
   "cell_type": "markdown",
   "id": "uITbFCEoDosC",
   "metadata": {
    "id": "uITbFCEoDosC"
   },
   "source": [
    "### Conclusion general del proyecto:"
   ]
  },
  {
   "cell_type": "code",
   "execution_count": 65,
   "id": "Nk-4GS7mDwqY",
   "metadata": {
    "id": "Nk-4GS7mDwqY"
   },
   "outputs": [],
   "source": [
    "#En conclusión, general los clientes tienen a comprar mayormente productos orgánicos como las bananas, siendo ademàs, \n",
    "#los primeros productos agregados al carrito. Por otro lado, los días domingos y lunes son los días donde las personas tienden\n",
    "# a realizar compras. Además, normalmente de 0 a 8 artículos son comprados en el mismo pedido.\n",
    "# Por último, para mejorar el negocio y tener mejores resultados, sería adecuado invertir mayormente en la \n",
    "# compra de productos reflejados en la lista de los 20 productos mas comprados. Finalmente, sería adecuado comprobar si existe\n",
    "# algun tipo de conjunto de productos para colocarlos juntos y hacer la compra de estos productos mas facil para el cliente. "
   ]
  },
  {
   "cell_type": "markdown",
   "id": "eb7cdd14",
   "metadata": {},
   "source": [
    "En general creo que hiciste un muy buen trabajo con el proyecto, pudiste limpiar y trabajar las bases de datos de beuna manera, análisis de duplicados, y de valores faltantes. Además dearrollaste de buena manera los diferentes anális que se solicitaban y cuando podías los complementabas con greaficas. No obstante, recuerda que siempre podemos mejorar y te menciono algunos puntos que debes considerar:\n",
    "\n",
    "* Revisar que los filtros sean correctos en algunos apartados con base en la indicación\n",
    "    \n",
    "    \n",
    "*  Realizar análisis complementarios eliminando los valores que parecen ser atípicos. \n",
    "    \n",
    "\n",
    "    \n",
    "*  Profundizar en los resultados intermedios y en la conclusión final.\n",
    "\n",
    "</div>"
   ]
  },
  {
   "cell_type": "markdown",
   "id": "bb9efa9c",
   "metadata": {},
   "source": [
    "<div class=\"alert alert-block alert-success\">\n",
    "<b>Comentario del revisor</b> <a class=\"tocSkip\"></a>\n",
    "\n",
    "Muy buen trabajo con los ajustes! Que sigas disfrutando los siguientes cursos!\n",
    "</div>"
   ]
  }
 ],
 "metadata": {
  "ExecuteTimeLog": [
   {
    "duration": 4293,
    "start_time": "2024-06-04T00:55:54.315Z"
   },
   {
    "duration": 1710,
    "start_time": "2024-06-04T00:55:58.612Z"
   },
   {
    "duration": 38,
    "start_time": "2024-06-04T00:56:02.628Z"
   },
   {
    "duration": 25,
    "start_time": "2024-06-04T00:56:07.491Z"
   },
   {
    "duration": 16,
    "start_time": "2024-06-04T00:56:11.158Z"
   },
   {
    "duration": 15,
    "start_time": "2024-06-04T00:56:14.212Z"
   },
   {
    "duration": 329,
    "start_time": "2024-06-04T00:56:16.651Z"
   },
   {
    "duration": 1385,
    "start_time": "2024-06-04T00:56:22.622Z"
   },
   {
    "duration": 350,
    "start_time": "2024-06-04T00:56:26.991Z"
   },
   {
    "duration": 175,
    "start_time": "2024-06-04T00:56:44.850Z"
   },
   {
    "duration": 161,
    "start_time": "2024-06-04T00:56:48.460Z"
   },
   {
    "duration": 146,
    "start_time": "2024-06-04T00:56:51.356Z"
   },
   {
    "duration": 21,
    "start_time": "2024-06-04T00:56:55.029Z"
   },
   {
    "duration": 8,
    "start_time": "2024-06-04T00:56:57.231Z"
   },
   {
    "duration": 40,
    "start_time": "2024-06-04T00:57:00.062Z"
   },
   {
    "duration": 63,
    "start_time": "2024-06-04T00:57:05.366Z"
   },
   {
    "duration": 11,
    "start_time": "2024-06-04T01:39:48.183Z"
   },
   {
    "duration": 6,
    "start_time": "2024-06-04T01:39:50.479Z"
   },
   {
    "duration": 14,
    "start_time": "2024-06-04T01:39:53.370Z"
   },
   {
    "duration": 10,
    "start_time": "2024-06-04T01:39:55.236Z"
   },
   {
    "duration": 1307,
    "start_time": "2024-06-04T01:39:58.190Z"
   },
   {
    "duration": 49618,
    "start_time": "2024-06-04T01:40:02.025Z"
   },
   {
    "duration": 8,
    "start_time": "2024-06-04T01:41:06.335Z"
   },
   {
    "duration": 11,
    "start_time": "2024-06-04T01:41:08.745Z"
   },
   {
    "duration": 9,
    "start_time": "2024-06-04T01:41:11.840Z"
   },
   {
    "duration": 14,
    "start_time": "2024-06-04T01:41:15.215Z"
   },
   {
    "duration": 18,
    "start_time": "2024-06-04T01:41:19.534Z"
   },
   {
    "duration": 11,
    "start_time": "2024-06-04T01:41:29.223Z"
   },
   {
    "duration": 10,
    "start_time": "2024-06-04T01:41:33.324Z"
   },
   {
    "duration": 26,
    "start_time": "2024-06-04T01:41:50.051Z"
   },
   {
    "duration": 51,
    "start_time": "2024-06-04T01:41:52.061Z"
   },
   {
    "duration": 10,
    "start_time": "2024-06-04T01:41:54.944Z"
   },
   {
    "duration": 13,
    "start_time": "2024-06-04T01:41:57.453Z"
   },
   {
    "duration": 43,
    "start_time": "2024-06-04T01:42:00.190Z"
   },
   {
    "duration": 6,
    "start_time": "2024-06-04T01:42:16.972Z"
   },
   {
    "duration": 6,
    "start_time": "2024-06-04T01:42:19.418Z"
   },
   {
    "duration": 566,
    "start_time": "2024-06-04T01:42:28.995Z"
   },
   {
    "duration": 349,
    "start_time": "2024-06-04T01:58:14.993Z"
   },
   {
    "duration": 336,
    "start_time": "2024-06-04T01:58:23.162Z"
   },
   {
    "duration": 331,
    "start_time": "2024-06-05T01:07:22.762Z"
   },
   {
    "duration": 4420,
    "start_time": "2024-06-05T01:07:47.024Z"
   },
   {
    "duration": 1704,
    "start_time": "2024-06-05T01:07:53.278Z"
   },
   {
    "duration": 39,
    "start_time": "2024-06-05T01:07:56.357Z"
   },
   {
    "duration": 20,
    "start_time": "2024-06-05T01:07:59.722Z"
   },
   {
    "duration": 15,
    "start_time": "2024-06-05T01:08:02.358Z"
   },
   {
    "duration": 16,
    "start_time": "2024-06-05T01:08:04.858Z"
   },
   {
    "duration": 320,
    "start_time": "2024-06-05T01:08:06.705Z"
   },
   {
    "duration": 1350,
    "start_time": "2024-06-05T01:08:10.520Z"
   },
   {
    "duration": 364,
    "start_time": "2024-06-05T01:08:14.105Z"
   },
   {
    "duration": 181,
    "start_time": "2024-06-05T01:08:17.162Z"
   },
   {
    "duration": 156,
    "start_time": "2024-06-05T01:08:19.322Z"
   },
   {
    "duration": 139,
    "start_time": "2024-06-05T01:08:21.010Z"
   },
   {
    "duration": 29,
    "start_time": "2024-06-05T01:08:23.133Z"
   },
   {
    "duration": 8,
    "start_time": "2024-06-05T01:08:25.066Z"
   },
   {
    "duration": 47,
    "start_time": "2024-06-05T01:08:27.122Z"
   },
   {
    "duration": 63,
    "start_time": "2024-06-05T01:08:29.239Z"
   },
   {
    "duration": 10,
    "start_time": "2024-06-05T01:08:33.248Z"
   },
   {
    "duration": 7,
    "start_time": "2024-06-05T01:08:34.847Z"
   },
   {
    "duration": 10,
    "start_time": "2024-06-05T01:08:36.810Z"
   },
   {
    "duration": 11,
    "start_time": "2024-06-05T01:08:38.557Z"
   },
   {
    "duration": 1322,
    "start_time": "2024-06-05T01:08:41.101Z"
   },
   {
    "duration": 8,
    "start_time": "2024-06-05T01:09:33.659Z"
   },
   {
    "duration": 50792,
    "start_time": "2024-06-05T01:09:33.670Z"
   },
   {
    "duration": 1358,
    "start_time": "2024-06-05T01:10:24.466Z"
   },
   {
    "duration": 10,
    "start_time": "2024-06-05T01:10:25.832Z"
   },
   {
    "duration": 727,
    "start_time": "2024-06-05T01:10:43.146Z"
   },
   {
    "duration": 1609,
    "start_time": "2024-06-05T01:10:45.995Z"
   },
   {
    "duration": 39,
    "start_time": "2024-06-05T01:10:48.068Z"
   },
   {
    "duration": 22,
    "start_time": "2024-06-05T01:10:50.751Z"
   },
   {
    "duration": 15,
    "start_time": "2024-06-05T01:10:52.915Z"
   },
   {
    "duration": 15,
    "start_time": "2024-06-05T01:10:55.511Z"
   },
   {
    "duration": 333,
    "start_time": "2024-06-05T01:10:57.564Z"
   },
   {
    "duration": 1446,
    "start_time": "2024-06-05T01:11:01.078Z"
   },
   {
    "duration": 324,
    "start_time": "2024-06-05T01:11:04.090Z"
   },
   {
    "duration": 197,
    "start_time": "2024-06-05T01:11:08.149Z"
   },
   {
    "duration": 184,
    "start_time": "2024-06-05T01:11:10.752Z"
   },
   {
    "duration": 164,
    "start_time": "2024-06-05T01:11:13.116Z"
   },
   {
    "duration": 27,
    "start_time": "2024-06-05T01:11:16.103Z"
   },
   {
    "duration": 8,
    "start_time": "2024-06-05T01:11:18.183Z"
   },
   {
    "duration": 46,
    "start_time": "2024-06-05T01:11:20.409Z"
   },
   {
    "duration": 66,
    "start_time": "2024-06-05T01:11:23.480Z"
   },
   {
    "duration": 10,
    "start_time": "2024-06-05T01:11:28.592Z"
   },
   {
    "duration": 7,
    "start_time": "2024-06-05T01:11:30.557Z"
   },
   {
    "duration": 9,
    "start_time": "2024-06-05T01:11:32.662Z"
   },
   {
    "duration": 12,
    "start_time": "2024-06-05T01:11:35.022Z"
   },
   {
    "duration": 1354,
    "start_time": "2024-06-05T01:11:39.725Z"
   },
   {
    "duration": 49565,
    "start_time": "2024-06-05T01:11:43.757Z"
   },
   {
    "duration": 7,
    "start_time": "2024-06-05T01:12:41.689Z"
   },
   {
    "duration": 10,
    "start_time": "2024-06-05T01:12:43.812Z"
   },
   {
    "duration": 10,
    "start_time": "2024-06-05T01:12:45.745Z"
   },
   {
    "duration": 12,
    "start_time": "2024-06-05T01:12:48.293Z"
   },
   {
    "duration": 23,
    "start_time": "2024-06-05T01:12:50.601Z"
   },
   {
    "duration": 9,
    "start_time": "2024-06-05T01:12:53.189Z"
   },
   {
    "duration": 11,
    "start_time": "2024-06-05T01:12:55.178Z"
   },
   {
    "duration": 32,
    "start_time": "2024-06-05T01:12:57.254Z"
   },
   {
    "duration": 49,
    "start_time": "2024-06-05T01:12:59.086Z"
   },
   {
    "duration": 11,
    "start_time": "2024-06-05T01:13:01.065Z"
   },
   {
    "duration": 12,
    "start_time": "2024-06-05T01:13:04.316Z"
   },
   {
    "duration": 40,
    "start_time": "2024-06-05T01:13:06.325Z"
   },
   {
    "duration": 6,
    "start_time": "2024-06-05T01:13:09.954Z"
   },
   {
    "duration": 6,
    "start_time": "2024-06-05T01:13:11.753Z"
   },
   {
    "duration": 536,
    "start_time": "2024-06-05T01:13:14.653Z"
   },
   {
    "duration": 340,
    "start_time": "2024-06-05T01:13:20.418Z"
   },
   {
    "duration": 301,
    "start_time": "2024-06-05T01:14:01.910Z"
   },
   {
    "duration": 515,
    "start_time": "2024-06-05T01:22:00.253Z"
   },
   {
    "duration": 408,
    "start_time": "2024-06-05T01:23:38.907Z"
   },
   {
    "duration": 1479,
    "start_time": "2024-06-05T01:23:43.368Z"
   },
   {
    "duration": 993,
    "start_time": "2024-06-05T01:24:13.288Z"
   },
   {
    "duration": 289,
    "start_time": "2024-06-05T01:24:21.169Z"
   },
   {
    "duration": 350,
    "start_time": "2024-06-05T01:24:24.633Z"
   },
   {
    "duration": 5134,
    "start_time": "2024-06-05T01:24:40.391Z"
   },
   {
    "duration": 11,
    "start_time": "2024-06-05T01:27:01.846Z"
   },
   {
    "duration": 7,
    "start_time": "2024-06-05T01:27:35.043Z"
   },
   {
    "duration": 145,
    "start_time": "2024-06-05T01:30:38.744Z"
   },
   {
    "duration": 4505,
    "start_time": "2024-06-06T01:15:54.786Z"
   },
   {
    "duration": 1762,
    "start_time": "2024-06-06T01:17:28.510Z"
   },
   {
    "duration": 40,
    "start_time": "2024-06-06T01:17:35.735Z"
   },
   {
    "duration": 21,
    "start_time": "2024-06-06T01:17:49.049Z"
   },
   {
    "duration": 15,
    "start_time": "2024-06-06T01:17:51.928Z"
   },
   {
    "duration": 17,
    "start_time": "2024-06-06T01:17:55.541Z"
   },
   {
    "duration": 335,
    "start_time": "2024-06-06T01:18:07.711Z"
   },
   {
    "duration": 1366,
    "start_time": "2024-06-06T01:18:53.936Z"
   },
   {
    "duration": 351,
    "start_time": "2024-06-06T01:20:12.027Z"
   },
   {
    "duration": 178,
    "start_time": "2024-06-06T01:21:06.863Z"
   },
   {
    "duration": 181,
    "start_time": "2024-06-06T01:21:31.129Z"
   },
   {
    "duration": 11,
    "start_time": "2024-06-06T01:22:09.961Z"
   },
   {
    "duration": 144,
    "start_time": "2024-06-06T01:22:34.629Z"
   },
   {
    "duration": 29,
    "start_time": "2024-06-06T01:24:01.388Z"
   },
   {
    "duration": 9,
    "start_time": "2024-06-06T01:24:11.301Z"
   },
   {
    "duration": 43,
    "start_time": "2024-06-06T01:24:54.914Z"
   },
   {
    "duration": 66,
    "start_time": "2024-06-06T01:26:21.169Z"
   },
   {
    "duration": 12,
    "start_time": "2024-06-06T01:28:36.754Z"
   },
   {
    "duration": 6,
    "start_time": "2024-06-06T01:28:53.914Z"
   },
   {
    "duration": 11,
    "start_time": "2024-06-06T01:31:01.012Z"
   },
   {
    "duration": 12,
    "start_time": "2024-06-06T01:31:34.730Z"
   },
   {
    "duration": 1376,
    "start_time": "2024-06-06T01:33:07.839Z"
   },
   {
    "duration": 50454,
    "start_time": "2024-06-06T01:34:28.610Z"
   },
   {
    "duration": 8,
    "start_time": "2024-06-06T01:37:53.595Z"
   },
   {
    "duration": 10,
    "start_time": "2024-06-06T01:38:48.594Z"
   },
   {
    "duration": 10,
    "start_time": "2024-06-06T01:39:32.633Z"
   },
   {
    "duration": 12,
    "start_time": "2024-06-06T01:40:07.485Z"
   },
   {
    "duration": 25,
    "start_time": "2024-06-06T01:42:55.529Z"
   },
   {
    "duration": 10,
    "start_time": "2024-06-06T01:45:03.985Z"
   },
   {
    "duration": 11,
    "start_time": "2024-06-06T01:45:56.852Z"
   },
   {
    "duration": 27,
    "start_time": "2024-06-06T01:47:42.449Z"
   },
   {
    "duration": 51,
    "start_time": "2024-06-06T01:47:55.302Z"
   },
   {
    "duration": 12,
    "start_time": "2024-06-06T01:50:25.412Z"
   },
   {
    "duration": 13,
    "start_time": "2024-06-06T01:50:35.626Z"
   },
   {
    "duration": 40,
    "start_time": "2024-06-06T01:51:29.094Z"
   },
   {
    "duration": 6,
    "start_time": "2024-06-06T01:53:30.011Z"
   },
   {
    "duration": 9,
    "start_time": "2024-06-06T01:53:43.922Z"
   },
   {
    "duration": 531,
    "start_time": "2024-06-06T01:54:23.424Z"
   },
   {
    "duration": 564,
    "start_time": "2024-06-06T01:55:25.845Z"
   },
   {
    "duration": 396,
    "start_time": "2024-06-06T01:59:21.778Z"
   },
   {
    "duration": 303,
    "start_time": "2024-06-06T02:00:16.581Z"
   },
   {
    "duration": 316,
    "start_time": "2024-06-06T02:00:26.632Z"
   },
   {
    "duration": 495,
    "start_time": "2024-06-06T02:01:16.229Z"
   },
   {
    "duration": 401,
    "start_time": "2024-06-06T02:01:51.415Z"
   },
   {
    "duration": 1493,
    "start_time": "2024-06-06T02:06:41.484Z"
   },
   {
    "duration": 1031,
    "start_time": "2024-06-06T02:11:14.106Z"
   },
   {
    "duration": 260,
    "start_time": "2024-06-06T02:11:24.654Z"
   },
   {
    "duration": 338,
    "start_time": "2024-06-06T02:11:48.644Z"
   },
   {
    "duration": 5373,
    "start_time": "2024-06-06T02:16:30.318Z"
   },
   {
    "duration": 148,
    "start_time": "2024-06-06T02:16:53.554Z"
   },
   {
    "duration": 386,
    "start_time": "2024-06-07T01:19:42.795Z"
   },
   {
    "duration": 6444,
    "start_time": "2024-06-07T01:43:17.422Z"
   },
   {
    "duration": 8,
    "start_time": "2024-06-07T01:43:29.277Z"
   },
   {
    "duration": 3244,
    "start_time": "2024-06-07T01:43:37.703Z"
   },
   {
    "duration": 85,
    "start_time": "2024-06-07T01:43:42.637Z"
   },
   {
    "duration": 39,
    "start_time": "2024-06-07T01:43:49.873Z"
   },
   {
    "duration": 45,
    "start_time": "2024-06-07T01:43:54.542Z"
   },
   {
    "duration": 38,
    "start_time": "2024-06-07T01:43:57.970Z"
   },
   {
    "duration": 549,
    "start_time": "2024-06-07T01:44:00.533Z"
   },
   {
    "duration": 2029,
    "start_time": "2024-06-07T01:44:05.998Z"
   },
   {
    "duration": 537,
    "start_time": "2024-06-07T01:44:10.136Z"
   },
   {
    "duration": 344,
    "start_time": "2024-06-07T01:44:14.715Z"
   },
   {
    "duration": 275,
    "start_time": "2024-06-07T01:44:17.487Z"
   },
   {
    "duration": 257,
    "start_time": "2024-06-07T01:44:19.781Z"
   },
   {
    "duration": 47,
    "start_time": "2024-06-07T01:44:23.300Z"
   },
   {
    "duration": 12,
    "start_time": "2024-06-07T01:44:25.229Z"
   },
   {
    "duration": 68,
    "start_time": "2024-06-07T01:44:27.603Z"
   },
   {
    "duration": 162,
    "start_time": "2024-06-07T01:44:57.644Z"
   },
   {
    "duration": 64,
    "start_time": "2024-06-07T01:45:04.014Z"
   },
   {
    "duration": 14,
    "start_time": "2024-06-07T01:45:05.837Z"
   },
   {
    "duration": 27,
    "start_time": "2024-06-07T01:45:07.871Z"
   },
   {
    "duration": 20,
    "start_time": "2024-06-07T01:45:09.494Z"
   },
   {
    "duration": 1960,
    "start_time": "2024-06-07T01:45:11.872Z"
   },
   {
    "duration": 69462,
    "start_time": "2024-06-07T01:45:15.084Z"
   },
   {
    "duration": 12,
    "start_time": "2024-06-07T01:46:42.583Z"
   },
   {
    "duration": 23,
    "start_time": "2024-06-07T01:46:45.085Z"
   },
   {
    "duration": 12,
    "start_time": "2024-06-07T01:46:47.609Z"
   },
   {
    "duration": 21,
    "start_time": "2024-06-07T01:46:49.980Z"
   },
   {
    "duration": 35,
    "start_time": "2024-06-07T01:46:52.451Z"
   },
   {
    "duration": 26,
    "start_time": "2024-06-07T01:46:54.643Z"
   },
   {
    "duration": 25,
    "start_time": "2024-06-07T01:46:56.694Z"
   },
   {
    "duration": 49,
    "start_time": "2024-06-07T01:46:58.697Z"
   },
   {
    "duration": 113,
    "start_time": "2024-06-07T01:47:00.565Z"
   },
   {
    "duration": 57,
    "start_time": "2024-06-07T01:47:02.769Z"
   },
   {
    "duration": 30,
    "start_time": "2024-06-07T01:47:04.868Z"
   },
   {
    "duration": 79,
    "start_time": "2024-06-07T01:47:06.921Z"
   },
   {
    "duration": 8,
    "start_time": "2024-06-07T01:47:10.306Z"
   },
   {
    "duration": 21,
    "start_time": "2024-06-07T01:47:11.955Z"
   },
   {
    "duration": 877,
    "start_time": "2024-06-07T01:47:15.905Z"
   },
   {
    "duration": 613,
    "start_time": "2024-06-07T01:47:23.248Z"
   },
   {
    "duration": 654,
    "start_time": "2024-06-07T01:47:27.489Z"
   },
   {
    "duration": 707,
    "start_time": "2024-06-07T01:47:37.047Z"
   },
   {
    "duration": 763,
    "start_time": "2024-06-07T01:48:20.096Z"
   },
   {
    "duration": 2477,
    "start_time": "2024-06-07T01:48:24.546Z"
   },
   {
    "duration": 12,
    "start_time": "2024-06-08T00:57:19.198Z"
   }
  ],
  "colab": {
   "provenance": []
  },
  "kernelspec": {
   "display_name": "Python 3 (ipykernel)",
   "language": "python",
   "name": "python3"
  },
  "language_info": {
   "codemirror_mode": {
    "name": "ipython",
    "version": 3
   },
   "file_extension": ".py",
   "mimetype": "text/x-python",
   "name": "python",
   "nbconvert_exporter": "python",
   "pygments_lexer": "ipython3",
   "version": "3.9.19"
  },
  "toc": {
   "base_numbering": 1,
   "nav_menu": {},
   "number_sections": true,
   "sideBar": true,
   "skip_h1_title": true,
   "title_cell": "Table of Contents",
   "title_sidebar": "Contents",
   "toc_cell": false,
   "toc_position": {},
   "toc_section_display": true,
   "toc_window_display": false
  },
  "vscode": {
   "interpreter": {
    "hash": "01a7be9ec63e704a62cefc5fe7a4756944464ee731be31632bdf42a4cb4688cf"
   }
  }
 },
 "nbformat": 4,
 "nbformat_minor": 5
}

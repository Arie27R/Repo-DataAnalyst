{
 "cells": [
  {
   "cell_type": "markdown",
   "metadata": {},
   "source": [
    "\n",
    "¡Hola!\n",
    "\n",
    "Mi nombre es Tonatiuh Cruz. Me complace revisar tu proyecto hoy.\n",
    "\n",
    "Al identificar cualquier error inicialmente, simplemente los destacaré. Te animo a localizar y abordar los problemas de forma independiente como parte de tu preparación para un rol como data-scientist. En un entorno profesional, tu líder de equipo seguiría un enfoque similar. Si encuentras la tarea desafiante, proporcionaré una pista más específica en la próxima iteración.\n",
    "\n",
    "Encontrarás mis comentarios a continuación - **por favor no los muevas, modifiques o elimines**.\n",
    "\n",
    "Puedes encontrar mis comentarios en cajas verdes, amarillas o rojas como esta:\n",
    "\n",
    "<div class=\"alert alert-block alert-success\">\n",
    "<b>Comentario del revisor</b> <a class=\"tocSkip\"></a>\n",
    "\n",
    "Éxito. Todo está hecho correctamente.\n",
    "</div>\n",
    "\n",
    "<div class=\"alert alert-block alert-warning\">\n",
    "<b>Comentario del revisor</b> <a class=\"tocSkip\"></a>\n",
    "\n",
    "Observaciones. Algunas recomendaciones.\n",
    "</div>\n",
    "\n",
    "<div class=\"alert alert-block alert-danger\">\n",
    "<b>Comentario del revisor</b> <a class=\"tocSkip\"></a>\n",
    "\n",
    "Necesita corrección. El bloque requiere algunas correcciones. El trabajo no puede ser aceptado con comentarios en rojo.\n",
    "</div>\n",
    "\n",
    "Puedes responderme utilizando esto:\n",
    "\n",
    "<div class=\"alert alert-block alert-info\">\n",
    "<b>Respuesta del estudiante.</b> <a class=\"tocSkip\"></a>"
   ]
  },
  {
   "cell_type": "markdown",
   "metadata": {},
   "source": [
    "# Preferencias de los pasajeros y el impacto de los factores externos en los viajes de taxi"
   ]
  },
  {
   "cell_type": "markdown",
   "metadata": {},
   "source": [
    "## Introducción"
   ]
  },
  {
   "cell_type": "markdown",
   "metadata": {},
   "source": [
    "### Objetivo"
   ]
  },
  {
   "cell_type": "markdown",
   "metadata": {},
   "source": [
    "Encontrar patrones en la información disponible. Con la finalidad de comprender las preferencias de los pasajeros y el impacto de los factores externos en los viajes. Se analizará los datos de los competidores y se probará una hipótesis sobre el impacto del clima en la frecuencia de los viajes."
   ]
  },
  {
   "cell_type": "markdown",
   "metadata": {},
   "source": [
    "### Datos"
   ]
  },
  {
   "cell_type": "markdown",
   "metadata": {},
   "source": [
    "\"/datasets/project_sql_result_01.csv\": contiene los siguientes datos:\n",
    "\n",
    "* company_name: nombre de la empresa de taxis\n",
    "\n",
    "* trips_amount: el número de viajes de cada compañía de taxis el 15 y 16 de noviembre de 2017. \n",
    "\n",
    "\"/datasets/project_sql_result_04.csv.\": contiene los siguientes datos:\n",
    "\n",
    "* dropoff_location_name: barrios de Chicago donde finalizaron los viajes\n",
    "\n",
    "* average_trips: el promedio de viajes que terminaron en cada barrio en noviembre de 2017.\n",
    "\n",
    "\"/datasets/project_sql_result_07.csv\": contiene datos sobre viajes desde el Loop hasta el Aeropuerto Internacional O'Hare. Estos son los valores de campo de la tabla:\n",
    "\n",
    "* start_ts: fecha y hora de la recogida\n",
    "* weather_conditions: condiciones climáticas en el momento en el que comenzó el viaje\n",
    "* duration_seconds: duración del viaje en segundos"
   ]
  },
  {
   "cell_type": "markdown",
   "metadata": {},
   "source": [
    "<div class=\"alert alert-block alert-success\">\n",
    "\n",
    "<b>Comentario del revisor</b> <a class=\"tocSkip\"></a>\n",
    "\n",
    "\n",
    "Ariel, excelente trabajo agregando una introducción al proyecto donde se especifiquen claramente los objetivos y se explique el propósito del mismo. Es esencial hacer esto para establecer las bases del proyecto y aclarar lo que buscamos alcanzar. Con la introducción, queda de manera clarar el análisis que desarrollaremos en el proyecto y cómo lo pretendemos abordar.</div>"
   ]
  },
  {
   "cell_type": "markdown",
   "metadata": {},
   "source": [
    "## Tratamiento inicial de los datos"
   ]
  },
  {
   "cell_type": "markdown",
   "metadata": {},
   "source": [
    "### Importación de librerías"
   ]
  },
  {
   "cell_type": "code",
   "execution_count": 1,
   "metadata": {},
   "outputs": [],
   "source": [
    "import pandas as pd \n",
    "from scipy import stats\n",
    "import numpy as np\n",
    "import matplotlib.pyplot as plt\n",
    "import seaborn as sns"
   ]
  },
  {
   "cell_type": "markdown",
   "metadata": {},
   "source": [
    "### Carga de datos"
   ]
  },
  {
   "cell_type": "markdown",
   "metadata": {},
   "source": [
    "#### Datos viajes de taxis por compañia"
   ]
  },
  {
   "cell_type": "code",
   "execution_count": 2,
   "metadata": {},
   "outputs": [],
   "source": [
    "df_company_taxi_trips = pd.read_csv('/datasets/project_sql_result_01.csv')"
   ]
  },
  {
   "cell_type": "markdown",
   "metadata": {},
   "source": [
    "<div class=\"alert alert-block alert-success\">\n",
    "<b>Comentario del revisor:</b> <a class=\"tocSkip\"></a>\n",
    "    \n",
    "Has realizado un excelente trabajo al importar los datos y las bibliotecas necesarias.\n",
    "\n",
    "</div>"
   ]
  },
  {
   "cell_type": "code",
   "execution_count": 3,
   "metadata": {},
   "outputs": [
    {
     "name": "stdout",
     "output_type": "stream",
     "text": [
      "                      company_name  trips_amount\n",
      "0                        Flash Cab         19558\n",
      "1        Taxi Affiliation Services         11422\n",
      "2                Medallion Leasing         10367\n",
      "3                       Yellow Cab          9888\n",
      "4  Taxi Affiliation Service Yellow          9299\n"
     ]
    }
   ],
   "source": [
    "# Impresión de una muestra de los datos para los datos de viajes de taxis por compañia\n",
    "print(df_company_taxi_trips.head())"
   ]
  },
  {
   "cell_type": "code",
   "execution_count": 4,
   "metadata": {},
   "outputs": [
    {
     "name": "stdout",
     "output_type": "stream",
     "text": [
      "<class 'pandas.core.frame.DataFrame'>\n",
      "RangeIndex: 64 entries, 0 to 63\n",
      "Data columns (total 2 columns):\n",
      " #   Column        Non-Null Count  Dtype \n",
      "---  ------        --------------  ----- \n",
      " 0   company_name  64 non-null     object\n",
      " 1   trips_amount  64 non-null     int64 \n",
      "dtypes: int64(1), object(1)\n",
      "memory usage: 1.1+ KB\n",
      "En la tabla df_company_taxi exiten:  0 valores duplicados\n"
     ]
    }
   ],
   "source": [
    "# Imprime la información general/resumida sobre el DataFrame\n",
    "df_company_taxi_trips.info()\n",
    "\n",
    "duplicates = df_company_taxi_trips.duplicated().sum()\n",
    "print(\"En la tabla \"\"df_company_taxi\"\" exiten: \", duplicates , \"valores duplicados\")"
   ]
  },
  {
   "cell_type": "markdown",
   "metadata": {},
   "source": [
    "#### Datos de barrios donde termino cada viaje de taxi"
   ]
  },
  {
   "cell_type": "code",
   "execution_count": 5,
   "metadata": {},
   "outputs": [],
   "source": [
    "df_neighborhood_taxi_trips = pd.read_csv('/datasets/project_sql_result_04.csv')"
   ]
  },
  {
   "cell_type": "code",
   "execution_count": 6,
   "metadata": {},
   "outputs": [
    {
     "name": "stdout",
     "output_type": "stream",
     "text": [
      "  dropoff_location_name  average_trips\n",
      "0                  Loop   10727.466667\n",
      "1           River North    9523.666667\n",
      "2         Streeterville    6664.666667\n",
      "3             West Loop    5163.666667\n",
      "4                O'Hare    2546.900000\n"
     ]
    }
   ],
   "source": [
    "# Impresión de una muestra de los datos para los datos de barrios en donde termino cada viaje\n",
    "print(df_neighborhood_taxi_trips.head())"
   ]
  },
  {
   "cell_type": "code",
   "execution_count": 7,
   "metadata": {},
   "outputs": [
    {
     "name": "stdout",
     "output_type": "stream",
     "text": [
      "<class 'pandas.core.frame.DataFrame'>\n",
      "RangeIndex: 94 entries, 0 to 93\n",
      "Data columns (total 2 columns):\n",
      " #   Column                 Non-Null Count  Dtype  \n",
      "---  ------                 --------------  -----  \n",
      " 0   dropoff_location_name  94 non-null     object \n",
      " 1   average_trips          94 non-null     float64\n",
      "dtypes: float64(1), object(1)\n",
      "memory usage: 1.6+ KB\n",
      "En la tabla df_neighborhood_taxi_trips exiten:  0 valores duplicados\n"
     ]
    }
   ],
   "source": [
    "# Imprime la información general/resumida sobre el DataFrame\n",
    "df_neighborhood_taxi_trips.info()\n",
    "\n",
    "duplicates = df_neighborhood_taxi_trips.duplicated().sum()\n",
    "print(\"En la tabla \"\"df_neighborhood_taxi_trips\"\" exiten: \", duplicates , \"valores duplicados\")"
   ]
  },
  {
   "cell_type": "markdown",
   "metadata": {},
   "source": [
    "#### Datos sobre viajes desde el Loop hasta el Aeropuerto Internacional O'Hare"
   ]
  },
  {
   "cell_type": "code",
   "execution_count": 8,
   "metadata": {},
   "outputs": [],
   "source": [
    "df_hipotesis_test = pd.read_csv('/datasets/project_sql_result_07.csv')"
   ]
  },
  {
   "cell_type": "code",
   "execution_count": 9,
   "metadata": {},
   "outputs": [
    {
     "name": "stdout",
     "output_type": "stream",
     "text": [
      "              start_ts weather_conditions  duration_seconds\n",
      "0  2017-11-25 16:00:00               Good            2410.0\n",
      "1  2017-11-25 14:00:00               Good            1920.0\n",
      "2  2017-11-25 12:00:00               Good            1543.0\n",
      "3  2017-11-04 10:00:00               Good            2512.0\n",
      "4  2017-11-11 07:00:00               Good            1440.0\n"
     ]
    }
   ],
   "source": [
    "# Impresión de una muestra de los datos para los datos de barrios en donde termino cada viaje\n",
    "print(df_hipotesis_test.head())"
   ]
  },
  {
   "cell_type": "code",
   "execution_count": 10,
   "metadata": {},
   "outputs": [
    {
     "name": "stdout",
     "output_type": "stream",
     "text": [
      "<class 'pandas.core.frame.DataFrame'>\n",
      "RangeIndex: 1068 entries, 0 to 1067\n",
      "Data columns (total 3 columns):\n",
      " #   Column              Non-Null Count  Dtype  \n",
      "---  ------              --------------  -----  \n",
      " 0   start_ts            1068 non-null   object \n",
      " 1   weather_conditions  1068 non-null   object \n",
      " 2   duration_seconds    1068 non-null   float64\n",
      "dtypes: float64(1), object(2)\n",
      "memory usage: 25.2+ KB\n",
      "En la tabla df_hipotesis_test exiten:  197 valores duplicados\n",
      "En la tabla df_hipotesis_test exiten:  0 valores duplicados luego de eliminar los duplicados\n"
     ]
    }
   ],
   "source": [
    "# Imprime la información general/resumida sobre el DataFrame\n",
    "df_hipotesis_test.info()\n",
    "\n",
    "duplicates = df_hipotesis_test.duplicated().sum()\n",
    "print(\"En la tabla \"\"df_hipotesis_test\"\" exiten: \", duplicates , \"valores duplicados\")\n",
    "\n",
    "# Eliminar filas duplicadas\n",
    "df_hipotesis_test = df_hipotesis_test.drop_duplicates()\n",
    "\n",
    "duplicates = df_hipotesis_test.duplicated().sum()\n",
    "print(\"En la tabla \"\"df_hipotesis_test\"\" exiten: \", duplicates , \"valores duplicados luego de eliminar los duplicados\")"
   ]
  },
  {
   "cell_type": "markdown",
   "metadata": {},
   "source": [
    "<div class=\"alert alert-block alert-danger\">\n",
    "\n",
    "<b>Comentario del revisor</b> <a class=\"tocSkip\"></a>\n",
    "\n",
    "Para estos análisis iniciales te recomiendo verificar si contamos con registros duplicados</div>\n",
    "\n"
   ]
  },
  {
   "cell_type": "markdown",
   "metadata": {},
   "source": [
    "<div class=\"alert alert-block alert-success\">\n",
    "<b>Comentario del revisor</b> <a class=\"tocSkip\"></a>\n",
    "\n",
    "Gran trabajo con los ajustes!\n",
    "</div>"
   ]
  },
  {
   "cell_type": "markdown",
   "metadata": {},
   "source": [
    "### Preparamiento de los datos"
   ]
  },
  {
   "cell_type": "markdown",
   "metadata": {},
   "source": [
    "#### Corrección de datos / Dataframe \"df_company_taxi_trips\"\n",
    "\n",
    "<font color='#613EF0'>Luego de realizar las correcciones del dataframe se concluyó lo siguiente:</font>\n",
    "\n",
    "- <font color='#613EF0'>No existe datos ausentes ni duplicados en las dos columnas del dataframe.</font>\n",
    "- <font color='#613EF0'>Los tipos de datos son correctos y adecuados para empezar a realizar un análisis.</font>"
   ]
  },
  {
   "cell_type": "code",
   "execution_count": 11,
   "metadata": {},
   "outputs": [
    {
     "name": "stdout",
     "output_type": "stream",
     "text": [
      "----------------------COLUMNA COMPANY NAME------------------------\n",
      "Existen:  0 valores ausentes en la columna company_name\n",
      "---------------------------------------------------------------\n",
      "Companias existentes en el dataset:\n",
      "['flash cab' 'taxi affiliation services' 'medallion leasing' 'yellow cab'\n",
      " 'taxi affiliation service yellow' 'chicago carriage cab corp'\n",
      " 'city service' 'sun taxi' 'star north management llc'\n",
      " 'blue ribbon taxi association inc.' 'choice taxi association'\n",
      " 'globe taxi' 'dispatch taxi affiliation' 'nova taxi affiliation llc'\n",
      " 'patriot taxi dba peace taxi association' 'checker taxi affiliation'\n",
      " 'blue diamond' 'chicago medallion management' '24 seven taxi'\n",
      " 'chicago medallion leasing inc' 'checker taxi' 'american united'\n",
      " 'chicago independents' 'koam taxi association' 'chicago taxicab'\n",
      " 'top cab affiliation' 'gold coast taxi' 'service taxi association'\n",
      " '5 star taxi' '303 taxi' 'setare inc' 'american united taxi affiliation'\n",
      " 'leonard cab co' 'metro jet taxi a' 'norshore cab'\n",
      " '6742 - 83735 tasha ride inc' '3591 - 63480 chuks cab'\n",
      " '1469 - 64126 omar jada' '6743 - 78771 luhak corp'\n",
      " '0118 - 42111 godfrey s. awir' '6574 - babylon express inc.'\n",
      " 'chicago star taxicab' '1085 - 72312 n and w cab co'\n",
      " '2809 - 95474 c & d cab co inc.' '2092 - 61288 sbeih company'\n",
      " '3011 - 66308 jbl cab inc.' '3620 - 52292 david k. cab corp.'\n",
      " '4615 - 83503 tyrone henderson' '3623 - 72222 arrington enterprises'\n",
      " '5074 - 54002 ahzmi inc' '2823 - 73307 lee express inc'\n",
      " '4623 - 27290 jay kim' '3721 - santamaria express'\n",
      " '5006 - 39261 salifu bawa' '2192 - 73487 zeymane corp'\n",
      " '6057 - 24657 richard addo' '5997 - 65283 aw services inc.' 'metro group'\n",
      " '5062 - 34841 sam mestas' '4053 - 40193 adwar h. nikola'\n",
      " '2733 - 74600 benny jona' '5874 - 73628 sergey cab corp.'\n",
      " '2241 - 44667 - felman corp' '3556 - 36214 rc andrews cab']\n",
      "---------------------------------------------------------------\n",
      "----------------------COLUMNA Trips_Amount------------------------\n",
      "Existen:  0 valores ausentes en la columna trips_amount\n",
      "Valor máximo en 'trips_amount': 19558\n",
      "Valor mínimo en 'trips_amount': 2\n"
     ]
    }
   ],
   "source": [
    "print(\"----------------------COLUMNA COMPANY NAME------------------------\")\n",
    "\n",
    "# Convertir todos los nombres en la columna 'Name' a minúsculas\n",
    "df_company_taxi_trips['company_name'] = df_company_taxi_trips['company_name'].str.lower()\n",
    "\n",
    "#Verificar si existen valores ausentes en esta columna\n",
    "absents_names = df_company_taxi_trips['company_name'].isna().sum()\n",
    "print(\"Existen: \", absents_names, \"valores ausentes en la columna \"\"company_name\")\n",
    "\n",
    "print(\"---------------------------------------------------------------\")\n",
    "\n",
    "unique_companies = df_company_taxi_trips['company_name'].unique()\n",
    "print(\"Companias existentes en el dataset:\")\n",
    "print(unique_companies)\n",
    "\n",
    "print(\"---------------------------------------------------------------\")\n",
    "\n",
    "print(\"----------------------COLUMNA Trips_Amount------------------------\")\n",
    "\n",
    "#Verificar si existen valores ausentes en esta columna\n",
    "absents_trips_amount = df_company_taxi_trips['trips_amount'].isna().sum()\n",
    "print(\"Existen: \", absents_trips_amount, \"valores ausentes en la columna \"\"trips_amount\")\n",
    "\n",
    "# Obtener el valor máximo y mínimo de la columna 'Year_of_Release'\n",
    "max_trips_amount = df_company_taxi_trips['trips_amount'].max()\n",
    "min_trips_amount = df_company_taxi_trips['trips_amount'].min()\n",
    "\n",
    "print(\"Valor máximo en 'trips_amount':\", max_trips_amount)\n",
    "print(\"Valor mínimo en 'trips_amount':\", min_trips_amount)"
   ]
  },
  {
   "cell_type": "markdown",
   "metadata": {},
   "source": [
    "#### Corrección de datos / Dataframe \"df_neighborhood_taxi_trips\"\n",
    "\n",
    "<font color='#613EF0'>Luego de realizar las correcciones del dataframe se concluyó lo siguiente:</font>\n",
    "\n",
    "- <font color='#613EF0'>No existe datos ausentes ni duplicados en las dos columnas del dataframe.</font>\n",
    "- <font color='#613EF0'>Los tipos de datos son correctos y adecuados para empezar a realizar un análisis.</font>"
   ]
  },
  {
   "cell_type": "code",
   "execution_count": 12,
   "metadata": {},
   "outputs": [
    {
     "name": "stdout",
     "output_type": "stream",
     "text": [
      "----------------------COLUMNA Dropoff_location_name------------------------\n",
      "Existen:  0 valores ausentes en la columna dropoff_location_name\n",
      "Nombres de localizaciones de llegada existentes en el dataset:\n",
      "['loop' 'river north' 'streeterville' 'west loop' \"o'hare\" 'lake view'\n",
      " 'grant park' 'museum campus' 'gold coast' 'sheffield & depaul'\n",
      " 'lincoln park' 'east village' 'little italy, uic' 'uptown'\n",
      " 'near south side' 'garfield ridge' 'logan square' 'edgewater' 'west town'\n",
      " 'old town' 'rush & division' 'north center' 'lincoln square'\n",
      " 'rogers park' 'west ridge' 'irving park' 'hyde park' 'avondale'\n",
      " 'wicker park' 'albany park' 'united center' 'lower west side' 'douglas'\n",
      " 'portage park' 'humboldt park' 'norwood park' 'kenwood' 'bridgeport'\n",
      " 'armour square' 'jefferson park' 'bucktown' 'north park' 'garfield park'\n",
      " 'mckinley park' 'belmont cragin' 'boystown' 'chinatown' 'grand boulevard'\n",
      " 'austin' 'sauganash,forest glen' 'south shore' 'woodlawn'\n",
      " 'little village' 'jackson park' 'north lawndale' 'dunning'\n",
      " 'ukrainian village' 'hermosa' 'englewood' 'chatham' 'new city'\n",
      " 'grand crossing' 'brighton park' 'andersonville' 'oakland' 'ashburn'\n",
      " 'washington park' 'auburn gresham' 'clearing' 'roseland' 'wrigleyville'\n",
      " 'edison park' 'south chicago' 'chicago lawn' 'beverly' 'calumet heights'\n",
      " 'washington heights' 'archer heights' 'gage park' 'fuller park'\n",
      " 'west lawn' 'morgan park' 'south deering' 'avalon park' 'west pullman'\n",
      " 'montclare' 'west elsdon' 'pullman' 'undef' 'mount greenwood' 'hegewisch'\n",
      " 'burnside' 'east side' 'riverdale']\n",
      "----------------------COLUMNA Average_trips------------------------\n",
      "Existen:  0 valores ausentes en la columna absents_average_trips\n",
      "Valor máximo en 'average_trips': 10727.466666666667\n",
      "Valor mínimo en 'average_trips': 1.8\n"
     ]
    }
   ],
   "source": [
    "print(\"----------------------COLUMNA Dropoff_location_name------------------------\")\n",
    "\n",
    "# Convertir todos los nombres en la columna 'Name' a minúsculas\n",
    "df_neighborhood_taxi_trips['dropoff_location_name'] = df_neighborhood_taxi_trips['dropoff_location_name'].str.lower()\n",
    "\n",
    "#Verificar si existen valores ausentes en esta columna\n",
    "absents_location_name = df_neighborhood_taxi_trips['dropoff_location_name'].isna().sum()\n",
    "print(\"Existen: \", absents_location_name, \"valores ausentes en la columna \"\"dropoff_location_name\")\n",
    "\n",
    "# Reemplazar valores ausentes en la columna 'Name' con \"unknown\"\n",
    "df_neighborhood_taxi_trips['dropoff_location_name'] = df_neighborhood_taxi_trips['dropoff_location_name'].fillna('unknown')\n",
    "\n",
    "unique_dropoff_location_name = df_neighborhood_taxi_trips['dropoff_location_name'].unique()\n",
    "print(\"Nombres de localizaciones de llegada existentes en el dataset:\")\n",
    "print(unique_dropoff_location_name)\n",
    "\n",
    "print(\"----------------------COLUMNA Average_trips------------------------\")\n",
    "\n",
    "#Verificar si existen valores ausentes en esta columna\n",
    "absents_average_trips = df_neighborhood_taxi_trips['average_trips'].isna().sum()\n",
    "print(\"Existen: \", absents_average_trips, \"valores ausentes en la columna \"\"absents_average_trips\")\n",
    "\n",
    "# Obtener el valor máximo y mínimo de la columna 'average_trips'\n",
    "max_average_trips = df_neighborhood_taxi_trips['average_trips'].max()\n",
    "min_average_trips = df_neighborhood_taxi_trips['average_trips'].min()\n",
    "\n",
    "print(\"Valor máximo en 'average_trips':\", max_average_trips)\n",
    "print(\"Valor mínimo en 'average_trips':\", min_average_trips)"
   ]
  },
  {
   "cell_type": "markdown",
   "metadata": {},
   "source": [
    "#### Corrección de datos / Dataframe \"df_hipotesis_test\"\n",
    "\n",
    "<font color='#613EF0'>Luego de realizar las correcciones del dataframe se concluyó lo siguiente:</font>\n",
    "\n",
    "- <font color='#613EF0'>No existe datos ausentes ni duplicados en las tres columnas del dataframe.</font>\n",
    "- <font color='#613EF0'>Excluyendo la columna \"start_ts\", los tipos de datos son correctos y adecuados para empezar a realizar un análisis.</font> "
   ]
  },
  {
   "cell_type": "code",
   "execution_count": 13,
   "metadata": {},
   "outputs": [
    {
     "name": "stdout",
     "output_type": "stream",
     "text": [
      "----------------------COLUMNA start_ts------------------------\n",
      "Existen:  0 valores ausentes en la columna start_ts\n",
      "datetime64[ns]\n",
      "-------------------Columna weather_conditions --------------------------\n",
      "Existen:  0 valores ausentes en la columna weather_conditions\n",
      "Condiciones de clima existentes en el dataset:\n",
      "['good' 'bad']\n",
      "----------------------COLUMNA Duration_seconds------------------------\n",
      "Existen:  0 valores ausentes en la columna duration_seconds\n",
      "Valor máximo en 'duration_seconds': 7440.0\n",
      "Valor mínimo en 'duration_seconds': 0.0\n"
     ]
    }
   ],
   "source": [
    "print(\"----------------------COLUMNA start_ts------------------------\")\n",
    "\n",
    "#Verificar si existen valores ausentes en esta columna\n",
    "absents_start_ts = df_hipotesis_test['start_ts'].isna().sum()\n",
    "print(\"Existen: \", absents_start_ts, \"valores ausentes en la columna\" \" start_ts\")\n",
    "\n",
    "# Transformar los datos de 'start_ts' en tipo datetime\n",
    "df_hipotesis_test['start_ts'] = pd.to_datetime(df_hipotesis_test['start_ts'])\n",
    "\n",
    "# Verificar el tipo de datos después de la transformación\n",
    "print(df_hipotesis_test['start_ts'].dtype)\n",
    "\n",
    "print(\"-------------------Columna weather_conditions --------------------------\")\n",
    "\n",
    "# Convertir todos los nombres en la columna 'Name' a minúsculas\n",
    "df_hipotesis_test['weather_conditions'] = df_hipotesis_test['weather_conditions'].str.lower()\n",
    "\n",
    "#Verificar si existen valores ausentes en esta columna\n",
    "absents_weather_conditions = df_hipotesis_test['weather_conditions'].isna().sum()\n",
    "print(\"Existen: \", absents_weather_conditions, \"valores ausentes en la columna\" \" weather_conditions\")\n",
    "\n",
    "unique_dropoff_weather_conditions = df_hipotesis_test['weather_conditions'].unique()\n",
    "print(\"Condiciones de clima existentes en el dataset:\")\n",
    "print(unique_dropoff_weather_conditions)\n",
    " \n",
    "print(\"----------------------COLUMNA Duration_seconds------------------------\")\n",
    "\n",
    "#Verificar si existen valores ausentes en esta columna\n",
    "absents_duration_seconds = df_hipotesis_test['duration_seconds'].isna().sum()\n",
    "print(\"Existen: \", absents_duration_seconds, \"valores ausentes en la columna \"\"duration_seconds\")\n",
    "\n",
    "# Obtener el valor máximo y mínimo de la columna 'Year_of_Release'\n",
    "max_duration_seconds = df_hipotesis_test['duration_seconds'].max()\n",
    "min_duration_seconds = df_hipotesis_test['duration_seconds'].min()\n",
    "\n",
    "print(\"Valor máximo en 'duration_seconds':\", max_duration_seconds)\n",
    "print(\"Valor mínimo en 'duration_seconds':\", min_duration_seconds)"
   ]
  },
  {
   "cell_type": "markdown",
   "metadata": {},
   "source": [
    "## Analisis de los datos"
   ]
  },
  {
   "cell_type": "markdown",
   "metadata": {},
   "source": [
    "### Identificar los 10 principales barrios en términos de finalización del recorrido\n",
    "\n",
    "<font color='#613EF0'>Se puede observar que la gran mayoría de los viajes finalizan en el barrio Loop. Quiza esto se deba a que es algun tipo de zona comercial o un vecindario muy popular con gente que tiene accesibilidad a pagar taxis para el regreso a su casa.</font>"
   ]
  },
  {
   "cell_type": "code",
   "execution_count": 14,
   "metadata": {},
   "outputs": [
    {
     "name": "stdout",
     "output_type": "stream",
     "text": [
      "  dropoff_location_name  average_trips\n",
      "0                  loop   10727.466667\n",
      "1           river north    9523.666667\n",
      "2         streeterville    6664.666667\n",
      "3             west loop    5163.666667\n",
      "4                o'hare    2546.900000\n",
      "5             lake view    2420.966667\n",
      "6            grant park    2068.533333\n",
      "7         museum campus    1510.000000\n",
      "8            gold coast    1364.233333\n",
      "9    sheffield & depaul    1259.766667\n"
     ]
    }
   ],
   "source": [
    "# Ordenar los datos por 'average_trips' en orden descendente\n",
    "df_boroughs_sorted = df_neighborhood_taxi_trips.sort_values(by='average_trips', ascending=False)\n",
    "\n",
    "# Seleccionar los 10 principales barrios\n",
    "top_10_boroughs = df_boroughs_sorted.head(10)\n",
    "\n",
    "# Mostrar los resultados\n",
    "print(top_10_boroughs)"
   ]
  },
  {
   "cell_type": "markdown",
   "metadata": {},
   "source": [
    "### Gráficos\n",
    "\n",
    "<font color='#613EF0'>Se puede observar que la gran mayoría de los viajes finalizan en el barrio Loop. Quiza esto se deba a que es algun tipo de zona comercial o un vecindario muy popular con gente que tiene accesibilidad a pagar taxis para el regreso a su casa.</font>\n",
    "\n",
    "CONCLUSIONES\n",
    "\n",
    "- <font color='#613EF0'>Cuando existen muchas categorías como en el caso de todas las compañias de taxis existentes, es complicado representar todos los datos de este problema. Ahora, con lo visto en el gráfico se observa que la compañia \"Flash Cab\" tiene el monopolio de las compañias de taxis, pues sobrepasa en gran medida en número de viajes con otras compañias. Tal vez exista un error en los datos, pero sin este análisis de errores, no se puede contradecir el hecho de que Flash Cab es la líder en viajes de taxi.</font>\n",
    "\n",
    "- <font color='#613EF0'>Los barrios Loop y River North son los destinos mas pedidos en los viajes de taxis. Quiza se deba a que son zonas comerciales o vecindarios con gente que tiene acceso a gran cantidad de viajes en taxi.</font>"
   ]
  },
  {
   "cell_type": "markdown",
   "metadata": {},
   "source": [
    "#### Empresas de taxis y número de viajes"
   ]
  },
  {
   "cell_type": "code",
   "execution_count": 18,
   "metadata": {},
   "outputs": [
    {
     "data": {
      "image/png": "[encoded data removed]",
      "text/plain": [
       "<Figure size 1200x600 with 1 Axes>"
      ]
     },
     "metadata": {},
     "output_type": "display_data"
    }
   ],
   "source": [
    "# Ordenar el DataFrame por trips_amount en orden descendente y seleccionar el top 10\n",
    "df_top_10 = df_company_taxi_trips.sort_values(by='trips_amount', ascending=False).head(10)\n",
    "\n",
    "# Crear el gráfico de las 10 principales empresas de taxis y número de viajes\n",
    "plt.figure(figsize=(12, 6))\n",
    "plt.bar(df_top_10['company_name'], df_top_10['trips_amount'], color='blue')\n",
    "plt.xlabel('Empresa de Taxis')\n",
    "plt.ylabel('Número de Viajes')\n",
    "plt.title('Top 10 Empresas de Taxis por Número de Viajes')\n",
    "plt.xticks(rotation=90)\n",
    "plt.show()"
   ]
  },
  {
   "cell_type": "markdown",
   "metadata": {},
   "source": [
    "<div class=\"alert alert-block alert-danger\">\n",
    "\n",
    "<b>Comentario del revisor</b> <a class=\"tocSkip\"></a>\n",
    "\n",
    "Muy buen trabajo con el desarrollo de la gráfica para visualizar los resultados. Solamente dado que al cliente le interesa el top 10 de las principales empresas con número de viajes, te recomiendo complementar este análisis con una gráfica solamente mostrando el top 10.</div>"
   ]
  },
  {
   "cell_type": "markdown",
   "metadata": {},
   "source": [
    "<div class=\"alert alert-block alert-success\">\n",
    "<b>Comentario del revisor</b> <a class=\"tocSkip\"></a>\n",
    "\n",
    "Gran trabajo con los ajustes!\n",
    "</div>"
   ]
  },
  {
   "cell_type": "markdown",
   "metadata": {},
   "source": [
    "####  Los 10 barrios principales por número de finalizaciones"
   ]
  },
  {
   "cell_type": "code",
   "execution_count": 16,
   "metadata": {},
   "outputs": [
    {
     "data": {
      "image/png": "[encoded data removed]",
      "text/plain": [
       "<Figure size 1200x600 with 1 Axes>"
      ]
     },
     "metadata": {},
     "output_type": "display_data"
    }
   ],
   "source": [
    "# Crear el gráfico de los 10 principales barrios por número de finalizaciones de viajes\n",
    "plt.figure(figsize=(12, 6))\n",
    "plt.bar(top_10_boroughs['dropoff_location_name'], top_10_boroughs['average_trips'], color='green')\n",
    "plt.xlabel('Barrio')\n",
    "plt.ylabel('Promedio de Viajes')\n",
    "plt.title('Top 10 Barrios por Número de Finalizaciones de Viajes')\n",
    "plt.xticks(rotation=90)\n",
    "plt.show()"
   ]
  },
  {
   "cell_type": "markdown",
   "metadata": {},
   "source": [
    "<div class=\"alert alert-block alert-success\">\n",
    "\n",
    "<b>Comentario del revisor</b> <a class=\"tocSkip\"></a>\n",
    "\n",
    "Excelente trabajo con el desarrollo de este análisis y lo complementaste con una gráfica.\n",
    "    </div>"
   ]
  },
  {
   "cell_type": "markdown",
   "metadata": {},
   "source": [
    "## Pruebas de Hipótesis"
   ]
  },
  {
   "cell_type": "markdown",
   "metadata": {},
   "source": [
    "### ¿La duración promedio de los viajes desde el Loop hasta el Aeropuerto Internacional O'Hare cambia los sábados lluviosos?.\n",
    "\n",
    "#### Procedimiento\n",
    "\n",
    "1.- Planteamiento de las hipótesis:\n",
    "\n",
    "Hipótesis nula (H0): La duración promedio de los viajes desde el Loop hasta el Aeropuerto Internacional O'Hare no cambia los sábados lluviosos.\n",
    "Hipótesis alternativa (H1): La duración promedio de los viajes desde el Loop hasta el Aeropuerto Internacional O'Hare cambia los sábados lluviosos.\n",
    "\n",
    "2.- Criterio para probar las hipótesis:\n",
    "Se utilizará un prueba t de dos muestras (t-test) para comparar las duraciones promedio de los viajes en sábados lluviosos contra los sábados no lluviosos. Esta prueba es adecuada para comparar las medias de dos grupos independientes.\n",
    "\n",
    "3.- Nivel de significación (α):\n",
    "Se utilizará un nivel de significación de 0.04."
   ]
  },
  {
   "cell_type": "code",
   "execution_count": 19,
   "metadata": {},
   "outputs": [
    {
     "name": "stdout",
     "output_type": "stream",
     "text": [
      "Estadístico de Levene: 0.000586951625283602\n",
      "Valor p de Levene: 0.9806770360671218\n",
      "Estadístico t: 5.427957689754561\n",
      "Valor p: 7.397770692813658e-08\n",
      "Rechazamos la hipótesis nula. La duración promedio de los viajes cambia los sábados lluviosos.\n"
     ]
    }
   ],
   "source": [
    "# Filtrar los datos para seleccionar solo los sábados\n",
    "df_hipotesis_test['day_of_week'] = df_hipotesis_test['start_ts'].dt.dayofweek\n",
    "df_saturdays = df_hipotesis_test[df_hipotesis_test['day_of_week'] == 5]\n",
    "\n",
    "# Filtrar los viajes de sábados lluviosos y no lluviosos\n",
    "rainy_saturdays = df_saturdays[df_saturdays['weather_conditions'] == 'bad']['duration_seconds']\n",
    "non_rainy_saturdays = df_saturdays[df_saturdays['weather_conditions'] == 'good']['duration_seconds']\n",
    "\n",
    "# Realizar la prueba de Levene para verificar si las varianzas son iguales\n",
    "levene_stat, levene_p = stats.levene(rainy_saturdays, non_rainy_saturdays)\n",
    "\n",
    "# Imprimir los resultados de la prueba de Levene\n",
    "print(f'Estadístico de Levene: {levene_stat}')\n",
    "print(f'Valor p de Levene: {levene_p}')\n",
    "\n",
    "# Determinar si las varianzas son iguales o no\n",
    "equal_var = levene_p > 0.05\n",
    "\n",
    "# Realizar la prueba t de dos muestras considerando el resultado de Levene\n",
    "t_stat, p_value = stats.ttest_ind(rainy_saturdays, non_rainy_saturdays, equal_var=equal_var)\n",
    "\n",
    "# Imprimir los resultados\n",
    "print(f'Estadístico t: {t_stat}')\n",
    "print(f'Valor p: {p_value}')\n",
    "\n",
    "# Decidir sobre la hipótesis nula\n",
    "alpha = 0.05\n",
    "if p_value < alpha:\n",
    "    print(\"Rechazamos la hipótesis nula. La duración promedio de los viajes cambia los sábados lluviosos.\")\n",
    "else:\n",
    "    print(\"No rechazamos la hipótesis nula. La duración promedio de los viajes no cambia los sábados lluviosos.\")"
   ]
  },
  {
   "cell_type": "markdown",
   "metadata": {},
   "source": [
    " <div class=\"alert alert-block alert-danger\">\n",
    "<b>Comentario revisor</b> <a class=\"tocSkip\"></a>\n",
    "\n",
    "Para esta prueba te recomiendo hacer una prueba de  Levene  para mostrar si las varianzas son iguales y agregarlo dentro de la función. Actualmente lo colocas como equal_var=False. Para esto, primero debes calcular las varianzas para cada uno de los días (lluvioso y no lluvioso) debes de hacer uso de la siguiente función: \n",
    "    \n",
    "    levene(rainy_saturday_trips['duration_seconds'], non_rainy_saturday_trips ['duration_seconds'])\n",
    "    \n",
    "Adoptaremos un nivel de significancia de 0.05; si el valor p resultante es mayor a 0.05, no podemos rechazar la hipótesis nula, y si es menor a 0.05, rechazamos la hipótesis nula, indicando que las varianzas no son iguales. \n",
    "    \n",
    "Solamente recuerda que la prueba de levene no es sustituto a la prueba de st.ttest_ind, más bien es complemento para saber que colocar dentro del elemento \"equal_var\".  Es por eso que para terminar la prueba debes de realizar la prueba de st.ttest_ind considernado el resultado de la prueba realizada de levene.  \n",
    "</div>"
   ]
  },
  {
   "cell_type": "markdown",
   "metadata": {},
   "source": [
    "<font color='#613EF0'>Debido a un valor p aproximado de 7.397770692813658e-08 se puede rechazar la hipótesis nula, lo que sugiere que la duración promedio de los viajes cambia los sábados lluviosos.</font>"
   ]
  },
  {
   "cell_type": "markdown",
   "metadata": {},
   "source": [
    "<div class=\"alert alert-block alert-success\">\n",
    "<b>Comentario del revisor</b> <a class=\"tocSkip\"></a>\n",
    "\n",
    "Gran trabajo con los ajustes!\n",
    "</div>"
   ]
  },
  {
   "cell_type": "markdown",
   "metadata": {},
   "source": [
    "## Conclusiones generales"
   ]
  },
  {
   "cell_type": "markdown",
   "metadata": {},
   "source": [
    "- <font color='#613EF0'>Antes de realizar un análisis sobre un conjunto de datos, es sumamente importante la limpieza de los mismos, pues, los resultados pueden verse comprometidos, no ser efectivos o inclusive mostar un resultado diferente si esta etapa del análisis no es aplicada correctamente.</font>\n",
    "\n",
    "- <font color='#613EF0'> Cuando existen muchas categorías como en el caso de todas las compañias de taxis existentes, es complicado representar todos los datos de este problema. Ahora, con lo visto en el gráfico se observa que la compañia \"Flash Cab\" tiene el monopolio de las compañias de taxis, pues sobrepasa en gran medida en número de viajes con otras compañias. Tal vez exista un error en los datos, pero sin este análisis de errores, no se puede contradecir el hecho de que Flash Cab es la líder en viajes de taxi.</font>\n",
    "\n",
    "- <font color='#613EF0'>Los barrios Loop y River North son los destinos mas pedidos en los viajes de taxis. Quiza se deba a que son zonas comerciales o vecindarios con gente que tiene acceso a gran cantidad de viajes en taxi.</font>\n",
    "\n",
    "- <font color='#613EF0'>Es totalmente normal que la duración promedio de los viajes cambien los día lluviosos, ya que, existe un aumento del tráfico debido a las condiciones de la calle. Quiza en otros días, no cambie la duración promedio de los viajes, pero ese es otro análisis que se debe realizar.</font>"
   ]
  },
  {
   "cell_type": "markdown",
   "metadata": {},
   "source": [
    "<div class=\"alert alert-block alert-warning\">\n",
    "<b>Comentario revisor</b> <a class=\"tocSkip\"></a>\n",
    "\n",
    "En general, considero que realizaste un excelente trabajo con el proyecto. Lograste limpiar y organizar las bases de datos eficazmente. Además, tu análisis exploratorio fue exhaustivo, presentando resultados relevantes que serán muy útiles para la toma de decisiones. También, desarrollaste las pruebas de hipótesis de manera acertada. Sin embargo, siempre hay espacio para mejorar y quisiera señalar algunos aspectos que podrías considerar:\n",
    "\n",
    "\n",
    "* Realizar un análisis de duplicados\n",
    "    \n",
    "*  Realizar análisis complementarios eliminando los valores que parecen ser atípicos.    \n",
    "    \n",
    "*  Considerar desarrollar un análisis para comprobar los supuestos de la prueba de hipótesis (varianzas iguales)\n",
    "\n",
    "    \n",
    "</div>"
   ]
  },
  {
   "cell_type": "markdown",
   "metadata": {},
   "source": [
    "<div class=\"alert alert-block alert-success\">\n",
    "<b>Comentario del revisor</b> <a class=\"tocSkip\"></a>\n",
    "\n",
    "Gran trabajo con los ajustes! Que sigas disfrutando los siguientes cursos!\n",
    "</div>"
   ]
  }
 ],
 "metadata": {
  "ExecuteTimeLog": [
   {
    "duration": 5399,
    "start_time": "2024-08-06T00:53:32.571Z"
   },
   {
    "duration": 15,
    "start_time": "2024-08-06T00:58:44.528Z"
   },
   {
    "duration": 8,
    "start_time": "2024-08-06T00:59:07.751Z"
   },
   {
    "duration": 17,
    "start_time": "2024-08-06T00:59:33.607Z"
   },
   {
    "duration": 24,
    "start_time": "2024-08-06T00:59:47.566Z"
   },
   {
    "duration": 12,
    "start_time": "2024-08-06T01:08:22.746Z"
   },
   {
    "duration": 19,
    "start_time": "2024-08-06T01:08:53.274Z"
   },
   {
    "duration": 7,
    "start_time": "2024-08-06T01:08:59.505Z"
   },
   {
    "duration": 15,
    "start_time": "2024-08-06T01:09:01.807Z"
   },
   {
    "duration": 14,
    "start_time": "2024-08-06T01:09:08.479Z"
   },
   {
    "duration": 12,
    "start_time": "2024-08-06T01:56:35.529Z"
   },
   {
    "duration": 14,
    "start_time": "2024-08-06T01:56:52.213Z"
   },
   {
    "duration": 13,
    "start_time": "2024-08-06T01:57:00.660Z"
   },
   {
    "duration": 492,
    "start_time": "2024-08-06T02:18:17.043Z"
   },
   {
    "duration": 16,
    "start_time": "2024-08-06T02:18:28.047Z"
   },
   {
    "duration": 23,
    "start_time": "2024-08-06T02:18:37.486Z"
   },
   {
    "duration": 9,
    "start_time": "2024-08-06T02:26:52.655Z"
   },
   {
    "duration": 13,
    "start_time": "2024-08-06T02:32:45.274Z"
   },
   {
    "duration": 19,
    "start_time": "2024-08-06T02:48:05.506Z"
   },
   {
    "duration": 5468,
    "start_time": "2024-08-07T00:06:10.578Z"
   },
   {
    "duration": 15,
    "start_time": "2024-08-07T00:06:16.050Z"
   },
   {
    "duration": 10,
    "start_time": "2024-08-07T00:06:16.067Z"
   },
   {
    "duration": 21,
    "start_time": "2024-08-07T00:06:16.093Z"
   },
   {
    "duration": 17,
    "start_time": "2024-08-07T00:06:16.117Z"
   },
   {
    "duration": 8,
    "start_time": "2024-08-07T00:06:16.137Z"
   },
   {
    "duration": 45,
    "start_time": "2024-08-07T00:06:16.148Z"
   },
   {
    "duration": 18,
    "start_time": "2024-08-07T00:06:16.197Z"
   },
   {
    "duration": 7,
    "start_time": "2024-08-07T00:06:16.219Z"
   },
   {
    "duration": 19,
    "start_time": "2024-08-07T00:06:16.232Z"
   },
   {
    "duration": 47,
    "start_time": "2024-08-07T00:06:16.254Z"
   },
   {
    "duration": 1354,
    "start_time": "2024-08-07T00:06:16.304Z"
   },
   {
    "duration": 0,
    "start_time": "2024-08-07T00:06:17.662Z"
   },
   {
    "duration": 15,
    "start_time": "2024-08-07T00:08:10.137Z"
   },
   {
    "duration": 13,
    "start_time": "2024-08-07T00:08:25.550Z"
   },
   {
    "duration": 21,
    "start_time": "2024-08-07T00:09:34.293Z"
   },
   {
    "duration": 109,
    "start_time": "2024-08-07T00:09:41.556Z"
   },
   {
    "duration": 104,
    "start_time": "2024-08-07T00:10:15.705Z"
   },
   {
    "duration": 18,
    "start_time": "2024-08-07T00:19:54.855Z"
   },
   {
    "duration": 10,
    "start_time": "2024-08-07T00:36:23.721Z"
   },
   {
    "duration": 2022,
    "start_time": "2024-08-07T00:42:58.381Z"
   },
   {
    "duration": 324,
    "start_time": "2024-08-07T00:45:03.379Z"
   },
   {
    "duration": 1903,
    "start_time": "2024-08-07T00:49:00.288Z"
   },
   {
    "duration": 2199,
    "start_time": "2024-08-07T00:49:50.937Z"
   },
   {
    "duration": 1930,
    "start_time": "2024-08-07T00:50:09.167Z"
   },
   {
    "duration": 23,
    "start_time": "2024-08-07T01:07:40.677Z"
   },
   {
    "duration": 15,
    "start_time": "2024-08-07T01:10:56.340Z"
   },
   {
    "duration": 8,
    "start_time": "2024-08-07T01:16:20.516Z"
   },
   {
    "duration": 10,
    "start_time": "2024-08-07T01:16:40.155Z"
   },
   {
    "duration": 19,
    "start_time": "2024-08-07T01:17:46.699Z"
   },
   {
    "duration": 1320,
    "start_time": "2024-08-07T01:17:53.628Z"
   },
   {
    "duration": 12,
    "start_time": "2024-08-07T01:17:54.952Z"
   },
   {
    "duration": 23,
    "start_time": "2024-08-07T01:17:54.967Z"
   },
   {
    "duration": 15,
    "start_time": "2024-08-07T01:17:54.995Z"
   },
   {
    "duration": 9,
    "start_time": "2024-08-07T01:17:55.014Z"
   },
   {
    "duration": 8,
    "start_time": "2024-08-07T01:17:55.027Z"
   },
   {
    "duration": 57,
    "start_time": "2024-08-07T01:17:55.038Z"
   },
   {
    "duration": 12,
    "start_time": "2024-08-07T01:17:55.103Z"
   },
   {
    "duration": 9,
    "start_time": "2024-08-07T01:17:55.118Z"
   },
   {
    "duration": 16,
    "start_time": "2024-08-07T01:17:55.133Z"
   },
   {
    "duration": 48,
    "start_time": "2024-08-07T01:17:55.152Z"
   },
   {
    "duration": 15,
    "start_time": "2024-08-07T01:17:55.203Z"
   },
   {
    "duration": 19,
    "start_time": "2024-08-07T01:17:55.221Z"
   },
   {
    "duration": 8,
    "start_time": "2024-08-07T01:17:55.244Z"
   },
   {
    "duration": 1952,
    "start_time": "2024-08-07T01:17:55.291Z"
   },
   {
    "duration": 364,
    "start_time": "2024-08-07T01:17:57.246Z"
   },
   {
    "duration": 19,
    "start_time": "2024-08-07T01:17:57.613Z"
   },
   {
    "duration": 1317,
    "start_time": "2024-08-07T01:18:14.872Z"
   },
   {
    "duration": 10,
    "start_time": "2024-08-07T01:18:16.194Z"
   },
   {
    "duration": 9,
    "start_time": "2024-08-07T01:18:16.207Z"
   },
   {
    "duration": 15,
    "start_time": "2024-08-07T01:18:16.221Z"
   },
   {
    "duration": 8,
    "start_time": "2024-08-07T01:18:16.242Z"
   },
   {
    "duration": 9,
    "start_time": "2024-08-07T01:18:16.290Z"
   },
   {
    "duration": 16,
    "start_time": "2024-08-07T01:18:16.304Z"
   },
   {
    "duration": 10,
    "start_time": "2024-08-07T01:18:16.324Z"
   },
   {
    "duration": 9,
    "start_time": "2024-08-07T01:18:16.338Z"
   },
   {
    "duration": 17,
    "start_time": "2024-08-07T01:18:16.392Z"
   },
   {
    "duration": 15,
    "start_time": "2024-08-07T01:18:16.412Z"
   },
   {
    "duration": 13,
    "start_time": "2024-08-07T01:18:16.431Z"
   },
   {
    "duration": 53,
    "start_time": "2024-08-07T01:18:16.448Z"
   },
   {
    "duration": 10,
    "start_time": "2024-08-07T01:18:16.506Z"
   },
   {
    "duration": 2004,
    "start_time": "2024-08-07T01:18:16.519Z"
   },
   {
    "duration": 388,
    "start_time": "2024-08-07T01:18:18.526Z"
   },
   {
    "duration": 16,
    "start_time": "2024-08-07T01:18:18.917Z"
   },
   {
    "duration": 18,
    "start_time": "2024-08-07T01:18:27.996Z"
   },
   {
    "duration": 16,
    "start_time": "2024-08-07T01:18:35.524Z"
   },
   {
    "duration": 16,
    "start_time": "2024-08-07T01:18:38.907Z"
   },
   {
    "duration": 16,
    "start_time": "2024-08-07T01:18:41.827Z"
   },
   {
    "duration": 16,
    "start_time": "2024-08-07T01:18:50.515Z"
   },
   {
    "duration": 1379,
    "start_time": "2024-08-07T01:18:57.875Z"
   },
   {
    "duration": 9,
    "start_time": "2024-08-07T01:18:59.257Z"
   },
   {
    "duration": 30,
    "start_time": "2024-08-07T01:18:59.269Z"
   },
   {
    "duration": 19,
    "start_time": "2024-08-07T01:18:59.303Z"
   },
   {
    "duration": 11,
    "start_time": "2024-08-07T01:18:59.325Z"
   },
   {
    "duration": 8,
    "start_time": "2024-08-07T01:18:59.339Z"
   },
   {
    "duration": 48,
    "start_time": "2024-08-07T01:18:59.350Z"
   },
   {
    "duration": 12,
    "start_time": "2024-08-07T01:18:59.402Z"
   },
   {
    "duration": 7,
    "start_time": "2024-08-07T01:18:59.422Z"
   },
   {
    "duration": 15,
    "start_time": "2024-08-07T01:18:59.436Z"
   },
   {
    "duration": 45,
    "start_time": "2024-08-07T01:18:59.454Z"
   },
   {
    "duration": 15,
    "start_time": "2024-08-07T01:18:59.503Z"
   },
   {
    "duration": 18,
    "start_time": "2024-08-07T01:18:59.523Z"
   },
   {
    "duration": 9,
    "start_time": "2024-08-07T01:18:59.544Z"
   },
   {
    "duration": 1931,
    "start_time": "2024-08-07T01:18:59.592Z"
   },
   {
    "duration": 367,
    "start_time": "2024-08-07T01:19:01.526Z"
   },
   {
    "duration": 19,
    "start_time": "2024-08-07T01:19:01.897Z"
   },
   {
    "duration": 16,
    "start_time": "2024-08-07T01:19:07.025Z"
   },
   {
    "duration": 1330,
    "start_time": "2024-08-07T01:26:20.838Z"
   },
   {
    "duration": 22,
    "start_time": "2024-08-07T01:26:22.172Z"
   },
   {
    "duration": 11,
    "start_time": "2024-08-07T01:26:22.198Z"
   },
   {
    "duration": 22,
    "start_time": "2024-08-07T01:26:22.219Z"
   },
   {
    "duration": 9,
    "start_time": "2024-08-07T01:26:22.248Z"
   },
   {
    "duration": 7,
    "start_time": "2024-08-07T01:26:22.260Z"
   },
   {
    "duration": 16,
    "start_time": "2024-08-07T01:26:22.294Z"
   },
   {
    "duration": 15,
    "start_time": "2024-08-07T01:26:22.313Z"
   },
   {
    "duration": 8,
    "start_time": "2024-08-07T01:26:22.331Z"
   },
   {
    "duration": 53,
    "start_time": "2024-08-07T01:26:22.343Z"
   },
   {
    "duration": 15,
    "start_time": "2024-08-07T01:26:22.399Z"
   },
   {
    "duration": 14,
    "start_time": "2024-08-07T01:26:22.418Z"
   },
   {
    "duration": 56,
    "start_time": "2024-08-07T01:26:22.435Z"
   },
   {
    "duration": 19,
    "start_time": "2024-08-07T01:26:22.498Z"
   },
   {
    "duration": 2118,
    "start_time": "2024-08-07T01:26:22.521Z"
   },
   {
    "duration": 431,
    "start_time": "2024-08-07T01:26:24.644Z"
   },
   {
    "duration": 28,
    "start_time": "2024-08-07T01:26:25.078Z"
   },
   {
    "duration": 16,
    "start_time": "2024-08-07T14:03:30.744Z"
   },
   {
    "duration": 4937,
    "start_time": "2024-08-17T18:05:06.905Z"
   },
   {
    "duration": 12,
    "start_time": "2024-08-17T18:05:11.848Z"
   },
   {
    "duration": 10,
    "start_time": "2024-08-17T18:05:11.863Z"
   },
   {
    "duration": 37,
    "start_time": "2024-08-17T18:05:11.880Z"
   },
   {
    "duration": 10,
    "start_time": "2024-08-17T18:05:11.920Z"
   },
   {
    "duration": 7,
    "start_time": "2024-08-17T18:05:11.933Z"
   },
   {
    "duration": 16,
    "start_time": "2024-08-17T18:05:11.943Z"
   },
   {
    "duration": 51,
    "start_time": "2024-08-17T18:05:11.962Z"
   },
   {
    "duration": 415,
    "start_time": "2024-08-17T18:05:12.016Z"
   },
   {
    "duration": 0,
    "start_time": "2024-08-17T18:05:12.434Z"
   },
   {
    "duration": 0,
    "start_time": "2024-08-17T18:05:12.437Z"
   },
   {
    "duration": 0,
    "start_time": "2024-08-17T18:05:12.438Z"
   },
   {
    "duration": 0,
    "start_time": "2024-08-17T18:05:12.441Z"
   },
   {
    "duration": 0,
    "start_time": "2024-08-17T18:05:12.443Z"
   },
   {
    "duration": 0,
    "start_time": "2024-08-17T18:05:12.444Z"
   },
   {
    "duration": 0,
    "start_time": "2024-08-17T18:05:12.447Z"
   },
   {
    "duration": 0,
    "start_time": "2024-08-17T18:05:12.449Z"
   },
   {
    "duration": 1287,
    "start_time": "2024-08-17T18:06:02.518Z"
   },
   {
    "duration": 10,
    "start_time": "2024-08-17T18:06:03.812Z"
   },
   {
    "duration": 9,
    "start_time": "2024-08-17T18:06:03.825Z"
   },
   {
    "duration": 17,
    "start_time": "2024-08-17T18:06:03.837Z"
   },
   {
    "duration": 8,
    "start_time": "2024-08-17T18:06:03.858Z"
   },
   {
    "duration": 50,
    "start_time": "2024-08-17T18:06:03.869Z"
   },
   {
    "duration": 16,
    "start_time": "2024-08-17T18:06:03.923Z"
   },
   {
    "duration": 9,
    "start_time": "2024-08-17T18:06:03.942Z"
   },
   {
    "duration": 7,
    "start_time": "2024-08-17T18:06:03.954Z"
   },
   {
    "duration": 62,
    "start_time": "2024-08-17T18:06:03.964Z"
   },
   {
    "duration": 13,
    "start_time": "2024-08-17T18:06:04.029Z"
   },
   {
    "duration": 12,
    "start_time": "2024-08-17T18:06:04.045Z"
   },
   {
    "duration": 62,
    "start_time": "2024-08-17T18:06:04.060Z"
   },
   {
    "duration": 9,
    "start_time": "2024-08-17T18:06:04.129Z"
   },
   {
    "duration": 1852,
    "start_time": "2024-08-17T18:06:04.141Z"
   },
   {
    "duration": 352,
    "start_time": "2024-08-17T18:06:05.997Z"
   },
   {
    "duration": 16,
    "start_time": "2024-08-17T18:06:06.352Z"
   },
   {
    "duration": 22,
    "start_time": "2024-08-17T18:15:48.086Z"
   },
   {
    "duration": 22,
    "start_time": "2024-08-17T18:16:36.982Z"
   },
   {
    "duration": 1300,
    "start_time": "2024-08-17T18:16:49.029Z"
   },
   {
    "duration": 10,
    "start_time": "2024-08-17T18:16:50.332Z"
   },
   {
    "duration": 8,
    "start_time": "2024-08-17T18:16:50.346Z"
   },
   {
    "duration": 17,
    "start_time": "2024-08-17T18:16:50.358Z"
   },
   {
    "duration": 9,
    "start_time": "2024-08-17T18:16:50.413Z"
   },
   {
    "duration": 7,
    "start_time": "2024-08-17T18:16:50.426Z"
   },
   {
    "duration": 18,
    "start_time": "2024-08-17T18:16:50.436Z"
   },
   {
    "duration": 11,
    "start_time": "2024-08-17T18:16:50.457Z"
   },
   {
    "duration": 43,
    "start_time": "2024-08-17T18:16:50.471Z"
   },
   {
    "duration": 20,
    "start_time": "2024-08-17T18:16:50.522Z"
   },
   {
    "duration": 11,
    "start_time": "2024-08-17T18:16:50.545Z"
   },
   {
    "duration": 54,
    "start_time": "2024-08-17T18:16:50.559Z"
   },
   {
    "duration": 15,
    "start_time": "2024-08-17T18:16:50.616Z"
   },
   {
    "duration": 9,
    "start_time": "2024-08-17T18:16:50.634Z"
   },
   {
    "duration": 1907,
    "start_time": "2024-08-17T18:16:50.646Z"
   },
   {
    "duration": 344,
    "start_time": "2024-08-17T18:16:52.556Z"
   },
   {
    "duration": 20,
    "start_time": "2024-08-17T18:16:52.902Z"
   },
   {
    "duration": 332,
    "start_time": "2024-08-17T18:24:18.448Z"
   },
   {
    "duration": 14,
    "start_time": "2024-08-17T18:40:40.060Z"
   }
  ],
  "kernelspec": {
   "display_name": "Python 3 (ipykernel)",
   "language": "python",
   "name": "python3"
  },
  "language_info": {
   "codemirror_mode": {
    "name": "ipython",
    "version": 3
   },
   "file_extension": ".py",
   "mimetype": "text/x-python",
   "name": "python",
   "nbconvert_exporter": "python",
   "pygments_lexer": "ipython3",
   "version": "3.9.19"
  },
  "toc": {
   "base_numbering": 1,
   "nav_menu": {},
   "number_sections": true,
   "sideBar": true,
   "skip_h1_title": true,
   "title_cell": "Table of Contents",
   "title_sidebar": "Contents",
   "toc_cell": false,
   "toc_position": {},
   "toc_section_display": true,
   "toc_window_display": false
  }
 },
 "nbformat": 4,
 "nbformat_minor": 2
}

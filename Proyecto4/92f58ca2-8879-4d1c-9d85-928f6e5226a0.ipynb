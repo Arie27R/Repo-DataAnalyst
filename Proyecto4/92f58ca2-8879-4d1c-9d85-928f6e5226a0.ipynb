{
 "cells": [
  {
   "cell_type": "markdown",
   "metadata": {},
   "source": [
    "\n",
    "¡Hola!\n",
    "\n",
    "Mi nombre es Tonatiuh Cruz. Me complace revisar tu proyecto hoy.\n",
    "\n",
    "Al identificar cualquier error inicialmente, simplemente los destacaré. Te animo a localizar y abordar los problemas de forma independiente como parte de tu preparación para un rol como data-scientist. En un entorno profesional, tu líder de equipo seguiría un enfoque similar. Si encuentras la tarea desafiante, proporcionaré una pista más específica en la próxima iteración.\n",
    "\n",
    "Encontrarás mis comentarios a continuación - **por favor no los muevas, modifiques o elimines**.\n",
    "\n",
    "Puedes encontrar mis comentarios en cajas verdes, amarillas o rojas como esta:\n",
    "\n",
    "<div class=\"alert alert-block alert-success\">\n",
    "<b>Comentario del revisor</b> <a class=\"tocSkip\"></a>\n",
    "\n",
    "Éxito. Todo está hecho correctamente.\n",
    "</div>\n",
    "\n",
    "<div class=\"alert alert-block alert-warning\">\n",
    "<b>Comentario del revisor</b> <a class=\"tocSkip\"></a>\n",
    "\n",
    "Observaciones. Algunas recomendaciones.\n",
    "</div>\n",
    "\n",
    "<div class=\"alert alert-block alert-danger\">\n",
    "<b>Comentario del revisor</b> <a class=\"tocSkip\"></a>\n",
    "\n",
    "Necesita corrección. El bloque requiere algunas correcciones. El trabajo no puede ser aceptado con comentarios en rojo.\n",
    "</div>\n",
    "\n",
    "Puedes responderme utilizando esto:\n",
    "\n",
    "<div class=\"alert alert-block alert-info\">\n",
    "<b>Respuesta del estudiante.</b> <a class=\"tocSkip\"></a>"
   ]
  },
  {
   "cell_type": "markdown",
   "metadata": {
    "id": "3rYiDeEH0q0f"
   },
   "source": [
    "# ¿Cuál es la mejor tarifa?\n",
    "\n",
    "Trabajas como analista para el operador de telecomunicaciones Megaline. La empresa ofrece a sus clientes dos tarifas de prepago, Surf y Ultimate. El departamento comercial quiere saber cuál de las tarifas genera más ingresos para poder ajustar el presupuesto de publicidad.\n",
    "\n",
    "Vas a realizar un análisis preliminar de las tarifas basado en una selección de clientes relativamente pequeña. Tendrás los datos de 500 clientes de Megaline: quiénes son los clientes, de dónde son, qué tarifa usan, así como la cantidad de llamadas que hicieron y los mensajes de texto que enviaron en 2018. Tu trabajo es analizar el comportamiento de los clientes y determinar qué tarifa de prepago genera más ingresos."
   ]
  },
  {
   "cell_type": "markdown",
   "metadata": {
    "id": "VNddPNRQ0q0w"
   },
   "source": [
    "[Te proporcionamos algunos comentarios para orientarte mientras completas este proyecto. Pero debes asegurarte de eliminar todos los comentarios entre corchetes antes de entregar tu proyecto.]\n",
    "\n",
    "[Antes de sumergirte en el análisis de datos, explica por tu propia cuenta el propósito del proyecto y las acciones que planeas realizar.]\n",
    "\n",
    "[Ten en cuenta que estudiar, modificar y analizar datos es un proceso iterativo. Es normal volver a los pasos anteriores y corregirlos/ampliarlos para permitir nuevos pasos.]"
   ]
  },
  {
   "cell_type": "markdown",
   "metadata": {
    "id": "MQi4IPy70q0y"
   },
   "source": [
    "## Inicialización"
   ]
  },
  {
   "cell_type": "code",
   "execution_count": 1,
   "metadata": {
    "id": "MtYIuBxu0q0z"
   },
   "outputs": [],
   "source": [
    "# Cargar todas las librerías\n",
    "import pandas as pd\n",
    "import numpy as np\n",
    "import math\n",
    "import matplotlib.pyplot as pl\n",
    "import seaborn as sns"
   ]
  },
  {
   "cell_type": "markdown",
   "metadata": {},
   "source": [
    "<div class=\"alert alert-block alert-warning\">\n",
    "<b>Comentario revisor</b> <a class=\"tocSkip\"></a>\n",
    "\n",
    "\n",
    "Recomiendo cargar la libreria math. De esta manera, puedes realizar redondeos con otros métodos. \n",
    "</div>"
   ]
  },
  {
   "cell_type": "markdown",
   "metadata": {},
   "source": [
    "<div class=\"alert alert-block alert-success\">\n",
    "<b>Comentario del revisor</b> <a class=\"tocSkip\"></a>\n",
    "\n",
    "Muy buen trabajo con los ajustes!\n",
    "</div>"
   ]
  },
  {
   "cell_type": "markdown",
   "metadata": {
    "id": "4ysWWC5i0q00"
   },
   "source": [
    "## Cargar datos"
   ]
  },
  {
   "cell_type": "code",
   "execution_count": 2,
   "metadata": {
    "id": "CCqPW7rS0q01"
   },
   "outputs": [],
   "source": [
    "# Carga los archivos de datos en diferentes DataFrames\n",
    "df_users = pd.read_csv('/datasets/megaline_users.csv')\n",
    "df_calls = pd.read_csv('/datasets/megaline_calls.csv')\n",
    "df_messages = pd.read_csv('/datasets/megaline_messages.csv')\n",
    "df_internet = pd.read_csv('/datasets/megaline_internet.csv')\n",
    "df_plans = pd.read_csv('/datasets/megaline_plans.csv')"
   ]
  },
  {
   "cell_type": "markdown",
   "metadata": {
    "id": "69qqoJ3r0q01"
   },
   "source": [
    "## Preparar los datos"
   ]
  },
  {
   "cell_type": "markdown",
   "metadata": {
    "id": "vUuZw80S0q01"
   },
   "source": [
    "[Los datos para este proyecto se dividen en varias tablas. Explora cada una para tener una comprensión inicial de los datos. Si es necesario, haz las correcciones requeridas en cada tabla.]"
   ]
  },
  {
   "cell_type": "markdown",
   "metadata": {
    "id": "ohBhimvH0q01"
   },
   "source": [
    "## Tarifas"
   ]
  },
  {
   "cell_type": "code",
   "execution_count": 3,
   "metadata": {
    "id": "GptqP3Q40q02"
   },
   "outputs": [
    {
     "name": "stdout",
     "output_type": "stream",
     "text": [
      "<class 'pandas.core.frame.DataFrame'>\n",
      "RangeIndex: 2 entries, 0 to 1\n",
      "Data columns (total 8 columns):\n",
      " #   Column                 Non-Null Count  Dtype  \n",
      "---  ------                 --------------  -----  \n",
      " 0   messages_included      2 non-null      int64  \n",
      " 1   mb_per_month_included  2 non-null      int64  \n",
      " 2   minutes_included       2 non-null      int64  \n",
      " 3   usd_monthly_pay        2 non-null      int64  \n",
      " 4   usd_per_gb             2 non-null      int64  \n",
      " 5   usd_per_message        2 non-null      float64\n",
      " 6   usd_per_minute         2 non-null      float64\n",
      " 7   plan_name              2 non-null      object \n",
      "dtypes: float64(2), int64(5), object(1)\n",
      "memory usage: 256.0+ bytes\n"
     ]
    }
   ],
   "source": [
    "# Imprime la información general/resumida sobre el DataFrame de las tarifas\n",
    "df_plans.info()"
   ]
  },
  {
   "cell_type": "code",
   "execution_count": 4,
   "metadata": {
    "id": "64xzjwL70q02"
   },
   "outputs": [
    {
     "name": "stdout",
     "output_type": "stream",
     "text": [
      "   messages_included  mb_per_month_included  minutes_included  \\\n",
      "0                 50                  15360               500   \n",
      "1               1000                  30720              3000   \n",
      "\n",
      "   usd_monthly_pay  usd_per_gb  usd_per_message  usd_per_minute plan_name  \n",
      "0               20          10             0.03            0.03      surf  \n",
      "1               70           7             0.01            0.01  ultimate  \n",
      "En la tabla Plans exiten:  0 valores duplicados\n"
     ]
    }
   ],
   "source": [
    "# Imprime una muestra de los datos para las tarifas\n",
    "print(df_plans.head())\n",
    "\n",
    "duplicates = df_plans.duplicated().sum()\n",
    "print(\"En la tabla Plans exiten: \", duplicates , \"valores duplicados\")"
   ]
  },
  {
   "cell_type": "markdown",
   "metadata": {
    "id": "mEc_3_hs0q02"
   },
   "source": [
    "[Describe lo que ves y observas en la información general y en la muestra de datos impresa para el precio de datos anterior. ¿Hay algún problema (tipos de datos no adecuados, datos ausentes, etc.) que pudieran necesitar investigación y cambios adicionales? ¿Cómo se puede arreglar?]\n",
    "\n",
    "<font color='#571EEB'>Realizando un analisis muy meticuloso en los datos de este Data Frame, se puede llegar a concluir que no existen problemas significantes en los datos. No hay datos ausentes, todos los tipos de datos son correctos, y la información coincide con la descripción de las dos tarifas mencionadas.</font>  "
   ]
  },
  {
   "cell_type": "markdown",
   "metadata": {
    "id": "R3C05i1l0q03"
   },
   "source": [
    "## Corregir datos"
   ]
  },
  {
   "cell_type": "markdown",
   "metadata": {
    "id": "bIi8StZI0q03"
   },
   "source": [
    "[Corrige los problemas obvios con los datos basándote en las observaciones iniciales.]\n",
    "\n",
    "<font color='#571EEB'>Realizando un analisis de los datos de las Tarifas, como se tendrá que realizar operaciones con los datos de la columna \"mb_per_month_included\" se debe realizar una transformación de MB a GB en esta columna.</font>\n"
   ]
  },
  {
   "cell_type": "code",
   "execution_count": 5,
   "metadata": {
    "id": "Y7SVmjGn0q03"
   },
   "outputs": [
    {
     "name": "stdout",
     "output_type": "stream",
     "text": [
      "   messages_included  mb_per_month_included  minutes_included  \\\n",
      "0                 50                   15.0               500   \n",
      "1               1000                   30.0              3000   \n",
      "\n",
      "   usd_monthly_pay  usd_per_gb  usd_per_message  usd_per_minute plan_name  \n",
      "0               20          10             0.03            0.03      surf  \n",
      "1               70           7             0.01            0.01  ultimate  \n"
     ]
    }
   ],
   "source": [
    "df_plans['mb_per_month_included'] = df_plans['mb_per_month_included'].apply(lambda x: round(x / 1024, 2))\n",
    "                                                                            \n",
    "print(df_plans.head())"
   ]
  },
  {
   "cell_type": "markdown",
   "metadata": {
    "id": "LJir7bml0q03"
   },
   "source": [
    "## Enriquecer los datos"
   ]
  },
  {
   "cell_type": "markdown",
   "metadata": {
    "id": "eqADpCfg0q04"
   },
   "source": [
    "[Agrega factores adicionales a los datos si crees que pudieran ser útiles.]"
   ]
  },
  {
   "cell_type": "markdown",
   "metadata": {
    "id": "gfcIEuXV0q04"
   },
   "source": [
    "\n",
    "<div class=\"alert alert-block alert-warning\">\n",
    "<b>Comentario Revisor</b> <a class=\"tocSkip\"></a>\n",
    "\n",
    "Muy buen trabajo, solamente te sugiero que en este apartado menciones un poco sobre la transformación que se debe realizar de megabytes a gigabytes. \n",
    "</div>\n",
    "\n",
    "<div class=\"alert alert-block alert-info\">\n",
    "<b>Respuesta del estudiante.</b> <a class=\"tocSkip\"></a>\n",
    "    No se si lo que realice esté correcto. \n",
    "</div>"
   ]
  },
  {
   "cell_type": "markdown",
   "metadata": {},
   "source": [
    "<div class=\"alert alert-block alert-success\">\n",
    "<b>Comentario del revisor</b> <a class=\"tocSkip\"></a>\n",
    "\n",
    "Hola, Ariel! Es correcta la forma en la que lo realizaste. Excelente trabajo!\n",
    "</div>"
   ]
  },
  {
   "cell_type": "markdown",
   "metadata": {
    "id": "1n2X6WXf0q04"
   },
   "source": [
    "## Usuarios/as"
   ]
  },
  {
   "cell_type": "code",
   "execution_count": 6,
   "metadata": {
    "id": "2NgjWFqx0q05"
   },
   "outputs": [
    {
     "name": "stdout",
     "output_type": "stream",
     "text": [
      "<class 'pandas.core.frame.DataFrame'>\n",
      "RangeIndex: 500 entries, 0 to 499\n",
      "Data columns (total 8 columns):\n",
      " #   Column      Non-Null Count  Dtype \n",
      "---  ------      --------------  ----- \n",
      " 0   user_id     500 non-null    int64 \n",
      " 1   first_name  500 non-null    object\n",
      " 2   last_name   500 non-null    object\n",
      " 3   age         500 non-null    int64 \n",
      " 4   city        500 non-null    object\n",
      " 5   reg_date    500 non-null    object\n",
      " 6   plan        500 non-null    object\n",
      " 7   churn_date  34 non-null     object\n",
      "dtypes: int64(2), object(6)\n",
      "memory usage: 31.4+ KB\n"
     ]
    }
   ],
   "source": [
    "# Imprime la información general/resumida sobre el DataFrame de usuarios\n",
    "df_users.info()"
   ]
  },
  {
   "cell_type": "code",
   "execution_count": 7,
   "metadata": {
    "id": "1IN1L9uh0q05"
   },
   "outputs": [
    {
     "name": "stdout",
     "output_type": "stream",
     "text": [
      "     user_id first_name  last_name  age  \\\n",
      "206     1206    Angelic  Singleton   21   \n",
      "256     1256     Johnny       Wise   53   \n",
      "475     1475      Arlen     Sutton   66   \n",
      "439     1439      Moses    Cabrera   28   \n",
      "46      1046      Beata     Hooper   67   \n",
      "79      1079      Brian     Mccall   48   \n",
      "176     1176   Terrance    Shaffer   75   \n",
      "47      1047        Yuk     French   22   \n",
      "141     1141    Kirstie     Hodges   46   \n",
      "318     1318       Huey      Walsh   54   \n",
      "\n",
      "                                          city    reg_date      plan  \\\n",
      "206              Providence-Warwick, RI-MA MSA  2018-07-09      surf   \n",
      "256     Chicago-Naperville-Elgin, IL-IN-WI MSA  2018-09-11      surf   \n",
      "475        Dallas-Fort Worth-Arlington, TX MSA  2018-05-28  ultimate   \n",
      "439   Riverside-San Bernardino-Ontario, CA MSA  2018-01-04      surf   \n",
      "46          Boston-Cambridge-Newton, MA-NH MSA  2018-02-19      surf   \n",
      "79   New York-Newark-Jersey City, NY-NJ-PA MSA  2018-01-26      surf   \n",
      "176  New York-Newark-Jersey City, NY-NJ-PA MSA  2018-10-03      surf   \n",
      "47        Indianapolis-Carmel-Anderson, IN MSA  2018-06-16  ultimate   \n",
      "141  New York-Newark-Jersey City, NY-NJ-PA MSA  2018-06-26      surf   \n",
      "318      Atlanta-Sandy Springs-Roswell, GA MSA  2018-09-29      surf   \n",
      "\n",
      "    churn_date  \n",
      "206        NaN  \n",
      "256        NaN  \n",
      "475        NaN  \n",
      "439        NaN  \n",
      "46         NaN  \n",
      "79         NaN  \n",
      "176        NaN  \n",
      "47         NaN  \n",
      "141        NaN  \n",
      "318        NaN  \n",
      "En la tabla Users exiten:  0 valores duplicados\n",
      "Existen:  466 valores ausentes en la columna churn_date\n"
     ]
    }
   ],
   "source": [
    "# Imprime una muestra de datos para usuarios\n",
    "print(df_users.sample(10))\n",
    "\n",
    "duplicates = df_users.duplicated().sum()\n",
    "print(\"En la tabla Users exiten: \", duplicates , \"valores duplicados\")\n",
    "\n",
    "absents_users = df_users['churn_date'].isna().sum()\n",
    "print(\"Existen: \", absents_users , \"valores ausentes en la columna churn_date\")"
   ]
  },
  {
   "cell_type": "markdown",
   "metadata": {
    "id": "dCZoUq4f0q06"
   },
   "source": [
    "[Describe lo que ves y observas en la información general y en la muestra de datos impresa para el precio de datos anterior. ¿Hay algún problema (tipos de datos no adecuados, datos ausentes, etc.) que pudieran necesitar investigación y cambios adicionales? ¿Cómo se puede arreglar?]\n",
    "\n",
    "<font color='#571EEB'>Al realizar un análisis a este conjunto de datos se pude concluir lo siguiente: primero, a mi parecer el identificador de un usuario no debería ser de tipo entero, pues jamas se realizará algun tipo de operación aritmetica con este dato; segundo, existen muchos datos ausentes que se sabe que es debido a que los usuarios aún tenían los planes activados, por lo cual lo mas optimo es conservar esos datos ausentes y agregar una nueva columna para saber si un usuario esta activo o no.</font>\n",
    "\n",
    "<font color='#571EEB'> Nota: A menos se que realice un análisis de datos directamente con la base de datos SQLserver, ya que en ese caso, la consulta de datos tipo integer es mas veloz a comparación a la consulta de datos tipo string (object).\n",
    "</font>  "
   ]
  },
  {
   "cell_type": "markdown",
   "metadata": {
    "id": "BX5FQh_I0q06"
   },
   "source": [
    "### Corregir los datos"
   ]
  },
  {
   "cell_type": "markdown",
   "metadata": {
    "id": "8OdKMwJv0q06"
   },
   "source": [
    "[Corrige los problemas obvios con los datos basándote en las observaciones iniciales.]"
   ]
  },
  {
   "cell_type": "code",
   "execution_count": 8,
   "metadata": {
    "id": "yUqX-K0C0q07"
   },
   "outputs": [
    {
     "name": "stdout",
     "output_type": "stream",
     "text": [
      "object\n",
      "<class 'pandas.core.frame.DataFrame'>\n",
      "RangeIndex: 500 entries, 0 to 499\n",
      "Data columns (total 8 columns):\n",
      " #   Column      Non-Null Count  Dtype         \n",
      "---  ------      --------------  -----         \n",
      " 0   user_id     500 non-null    object        \n",
      " 1   first_name  500 non-null    object        \n",
      " 2   last_name   500 non-null    object        \n",
      " 3   age         500 non-null    int64         \n",
      " 4   city        500 non-null    object        \n",
      " 5   reg_date    500 non-null    datetime64[ns]\n",
      " 6   plan        500 non-null    object        \n",
      " 7   churn_date  34 non-null     object        \n",
      "dtypes: datetime64[ns](1), int64(1), object(6)\n",
      "memory usage: 31.4+ KB\n"
     ]
    }
   ],
   "source": [
    "# Convertir la columna 'user_id' a tipo objeto (string)\n",
    "df_users['user_id'] = df_users['user_id'].astype(str)\n",
    "\n",
    "# Verificar el nuevo tipo de la columna 'user_id'\n",
    "print(df_users['user_id'].dtype)\n",
    "\n",
    "#Transformar los datos de reg_date en tipo datetime\n",
    "df_users['reg_date'] = pd.to_datetime(df_users['reg_date'], format='%Y-%m-%d')\n",
    "\n",
    "# Mostrar el DataFrame para confirmar el cambio\n",
    "df_users.info()"
   ]
  },
  {
   "cell_type": "markdown",
   "metadata": {
    "id": "ycwuARJp0q07"
   },
   "source": [
    "### Enriquecer los datos"
   ]
  },
  {
   "cell_type": "markdown",
   "metadata": {
    "id": "96NIh4CJ0q08"
   },
   "source": [
    "[Agrega factores adicionales a los datos si crees que pudieran ser útiles.]"
   ]
  },
  {
   "cell_type": "code",
   "execution_count": 9,
   "metadata": {
    "id": "iq0AaBS90q08"
   },
   "outputs": [
    {
     "name": "stdout",
     "output_type": "stream",
     "text": [
      "    user_id first_name  last_name  age  \\\n",
      "477    1477     Magaly      Rivas   52   \n",
      "52     1052     Edmond    Hopkins   47   \n",
      "286    1286      Casie  Castaneda   52   \n",
      "333    1333       Macy      David   57   \n",
      "12     1012    Jonelle    Mcbride   59   \n",
      "\n",
      "                                         city   reg_date      plan  \\\n",
      "477  Riverside-San Bernardino-Ontario, CA MSA 2018-08-24  ultimate   \n",
      "52   Houston-The Woodlands-Sugar Land, TX MSA 2018-03-05      surf   \n",
      "286                 New Haven-Milford, CT MSA 2018-12-07      surf   \n",
      "333    Los Angeles-Long Beach-Anaheim, CA MSA 2018-11-24  ultimate   \n",
      "12     Chicago-Naperville-Elgin, IL-IN-WI MSA 2018-06-28      surf   \n",
      "\n",
      "     churn_date  is_active  \n",
      "477         NaN       True  \n",
      "52          NaN       True  \n",
      "286         NaN       True  \n",
      "333         NaN       True  \n",
      "12   2018-11-16      False  \n"
     ]
    }
   ],
   "source": [
    "# Crear una nueva columna 'is_active' basada en la presencia de valores nulos en 'churn_date'\n",
    "df_users['is_active'] = df_users['churn_date'].isna()\n",
    "print(df_users.sample(5))"
   ]
  },
  {
   "cell_type": "markdown",
   "metadata": {},
   "source": [
    "<div class=\"alert alert-block alert-danger\">\n",
    "<b>Comentario Revisor</b> <a class=\"tocSkip\"></a>\n",
    "\n",
    "Para hacer la transformación de reg_date a un datatime puedes hacer uso de la siguiente función:\n",
    "    \n",
    "    pd.to_datetime(user['reg_date'], format='%Y-%m-%d')\n",
    "    \n",
    "te recomiendo agregar el argumento \"format='%Y-%m-%d'\" dentro de la función to_datetime(). De esta manera, puedes asegurarte siempre de que el formato de la fecha que deseas cambiar sea el que necesitas. Los mismo para las otras variables que son fechas de otras bases de datos.\n",
    "</div>"
   ]
  },
  {
   "cell_type": "markdown",
   "metadata": {},
   "source": [
    "<div class=\"alert alert-block alert-success\">\n",
    "<b>Comentario del revisor</b> <a class=\"tocSkip\"></a>\n",
    "\n",
    "Muy buen trabajo con los ajustes!\n",
    "</div>"
   ]
  },
  {
   "cell_type": "markdown",
   "metadata": {
    "id": "o7MeKCid0q08"
   },
   "source": [
    "## Llamadas"
   ]
  },
  {
   "cell_type": "code",
   "execution_count": 10,
   "metadata": {
    "id": "6dDlnoDm0q08"
   },
   "outputs": [
    {
     "name": "stdout",
     "output_type": "stream",
     "text": [
      "<class 'pandas.core.frame.DataFrame'>\n",
      "RangeIndex: 137735 entries, 0 to 137734\n",
      "Data columns (total 4 columns):\n",
      " #   Column     Non-Null Count   Dtype  \n",
      "---  ------     --------------   -----  \n",
      " 0   id         137735 non-null  object \n",
      " 1   user_id    137735 non-null  int64  \n",
      " 2   call_date  137735 non-null  object \n",
      " 3   duration   137735 non-null  float64\n",
      "dtypes: float64(1), int64(1), object(2)\n",
      "memory usage: 4.2+ MB\n"
     ]
    }
   ],
   "source": [
    "# Imprime la información general/resumida sobre el DataFrame de las llamadas\n",
    "df_calls.info()"
   ]
  },
  {
   "cell_type": "code",
   "execution_count": 11,
   "metadata": {
    "id": "kuh1vlNB0q09",
    "scrolled": true
   },
   "outputs": [
    {
     "name": "stdout",
     "output_type": "stream",
     "text": [
      "              id  user_id   call_date  duration\n",
      "70930   1252_337     1252  2018-06-16      2.82\n",
      "21326    1079_39     1079  2018-11-18     14.65\n",
      "120968  1423_165     1423  2018-10-30      3.40\n",
      "120678   1421_20     1421  2018-11-15      4.23\n",
      "101048  1361_150     1361  2018-09-28      1.18\n",
      "30633   1114_565     1114  2018-11-28      4.73\n",
      "77327   1277_403     1277  2018-09-28     13.51\n",
      "37501   1141_522     1141  2018-10-23      9.14\n",
      "126514    1450_8     1450  2018-12-11      0.00\n",
      "113291   1398_74     1398  2018-12-27     12.07\n",
      "En la tabla Calls exiten:  0 valores duplicados\n",
      "Existen:  0 valores ausentes en la columna id\n"
     ]
    }
   ],
   "source": [
    "# Imprime una muestra de datos para las llamadas\n",
    "print(df_calls.sample(10))\n",
    "\n",
    "duplicates = df_calls.duplicated().sum()\n",
    "print(\"En la tabla Calls exiten: \", duplicates , \"valores duplicados\")\n",
    "\n",
    "absents_calls = df_calls['id'].isna().sum()\n",
    "print(\"Existen: \", absents_calls , \"valores ausentes en la columna id\")"
   ]
  },
  {
   "cell_type": "markdown",
   "metadata": {
    "id": "DOAxYJSx0q09"
   },
   "source": [
    "[Describe lo que ves y observas en la información general y en la muestra de datos impresa para el precio de datos anterior. ¿Hay algún problema (tipos de datos no adecuados, datos ausentes, etc.) que pudieran necesitar investigación y cambios adicionales? ¿Cómo se puede arreglar?]\n",
    "\n",
    "<font color='#571EEB'>Al realizar un análisis a este conjunto de datos se pude concluir que el único cambio que yo aplicaría es cambiar el tipo de dato object por un datetime en la columna \"call_date\" debido al trabajo que se debe realizar en el punto 1.12.</font>  "
   ]
  },
  {
   "cell_type": "markdown",
   "metadata": {
    "id": "S7hzxmbX0q0-"
   },
   "source": [
    "### Corregir los datos"
   ]
  },
  {
   "cell_type": "markdown",
   "metadata": {
    "id": "YxWyAjD20q0-"
   },
   "source": [
    "[Corrige los problemas obvios con los datos basándote en las observaciones iniciales.]"
   ]
  },
  {
   "cell_type": "code",
   "execution_count": 12,
   "metadata": {
    "id": "S2r8xA4f0q0-"
   },
   "outputs": [
    {
     "name": "stdout",
     "output_type": "stream",
     "text": [
      "<class 'pandas.core.frame.DataFrame'>\n",
      "RangeIndex: 137735 entries, 0 to 137734\n",
      "Data columns (total 4 columns):\n",
      " #   Column     Non-Null Count   Dtype         \n",
      "---  ------     --------------   -----         \n",
      " 0   id         137735 non-null  object        \n",
      " 1   user_id    137735 non-null  int64         \n",
      " 2   call_date  137735 non-null  datetime64[ns]\n",
      " 3   duration   137735 non-null  float64       \n",
      "dtypes: datetime64[ns](1), float64(1), int64(1), object(1)\n",
      "memory usage: 4.2+ MB\n"
     ]
    }
   ],
   "source": [
    "# Convertir la columna 'user_id' a tipo integer \n",
    "df_calls['user_id'] = df_calls['user_id'].astype(int)\n",
    "\n",
    "# Convertir la columna 'call_date' a datetime\n",
    "df_calls['call_date'] = pd.to_datetime(df_calls['call_date'],  format='%Y-%m-%d')\n",
    "\n",
    "# Mostrar el DataFrame para confirmar el cambio\n",
    "df_calls.info()"
   ]
  },
  {
   "cell_type": "markdown",
   "metadata": {},
   "source": [
    "<div class=\"alert alert-block alert-warning\">\n",
    "<b>Comentario Revisor</b> <a class=\"tocSkip\"></a>\n",
    "\n",
    "En todos los casos en los que cambiamos el tipo de variable a datetime, te recomiendo agregar el argumento \"format='%Y-%m-%d'\" dentro de la función to_datetime(). De esta manera, puedes asegurarte siempre de que el formato de la fecha que deseas cambiar sea el que necesitas.\n",
    "</div>"
   ]
  },
  {
   "cell_type": "markdown",
   "metadata": {},
   "source": [
    "<div class=\"alert alert-block alert-success\">\n",
    "<b>Comentario del revisor</b> <a class=\"tocSkip\"></a>\n",
    "\n",
    "Muy buen trabajo con los ajustes!\n",
    "</div>"
   ]
  },
  {
   "cell_type": "markdown",
   "metadata": {
    "id": "KrMgTrlG0q0_"
   },
   "source": [
    "### Enriquecer los datos"
   ]
  },
  {
   "cell_type": "markdown",
   "metadata": {},
   "source": [
    "[Agrega factores adicionales a los datos si crees que pudieran ser útiles.]\n",
    "\n",
    "<div class=\"alert alert-block alert-info\">\n",
    "<b>Respuesta del estudiante.</b> <a class=\"tocSkip\"></a>\n",
    "    Se realiza un análisis exhaustivo de los datos de la tabla \"calls\" y se puede observar que existen llamadas con duración de 0. Estas llamadas pueden tener muchos significados: \n",
    "       * Llamadas fallidas o no contestadas.\n",
    "       * Llamadas colgadas inmediatamente. \n",
    "       * Errores en los datos: Resultado de errores de grabación de llamadas o procesamiento de los datos. \n",
    "       * Llamadas de prueba o de sistemas automatizados: Llamadas realizadas por sistemas automatizados para pruebas o                  verificaciones. \n",
    "\n",
    "    Como las llamadas con duración 0 no generan ingresos, pueden llegar a distorsionar el análisis de los ingresos generados por los diferentes planes. Por lo cual, se llega a la conclusión de que sería mejor eliminarlos. \n",
    "</div>"
   ]
  },
  {
   "cell_type": "markdown",
   "metadata": {},
   "source": [
    "<div class=\"alert alert-block alert-success\">\n",
    "<b>Comentario del revisor</b> <a class=\"tocSkip\"></a>\n",
    "\n",
    "Muy buen trabajo con los ajustes!\n",
    "</div>"
   ]
  },
  {
   "cell_type": "code",
   "execution_count": 13,
   "metadata": {},
   "outputs": [
    {
     "name": "stdout",
     "output_type": "stream",
     "text": [
      "              id  user_id  call_date  duration\n",
      "19        1001_4     1001 2018-12-05       0.0\n",
      "25       1001_13     1001 2018-12-24       0.0\n",
      "31       1001_30     1001 2018-10-17       0.0\n",
      "32       1001_31     1001 2018-11-03       0.0\n",
      "34       1001_35     1001 2018-12-21       0.0\n",
      "...          ...      ...        ...       ...\n",
      "137714  1499_183     1499 2018-11-10       0.0\n",
      "137715  1499_184     1499 2018-09-15       0.0\n",
      "137720  1499_189     1499 2018-12-27       0.0\n",
      "137722  1499_191     1499 2018-12-24       0.0\n",
      "137725  1499_194     1499 2018-10-31       0.0\n",
      "\n",
      "[26834 rows x 4 columns]\n",
      "Empty DataFrame\n",
      "Columns: [id, user_id, call_date, duration]\n",
      "Index: []\n"
     ]
    }
   ],
   "source": [
    "calls_with_zero_duration = df_calls.query('duration == 0')\n",
    "\n",
    "print(calls_with_zero_duration)\n",
    "\n",
    "\n",
    "df_calls = df_calls[df_calls['duration'] != 0]\n",
    "\n",
    "calls_with_zero_duration = df_calls.query('duration == 0')\n",
    "\n",
    "print(calls_with_zero_duration)\n"
   ]
  },
  {
   "cell_type": "markdown",
   "metadata": {
    "id": "iZ1avpA_0q0_"
   },
   "source": [
    "<div class=\"alert alert-block alert-warning\">\n",
    "<b>Comentario Revisor</b> <a class=\"tocSkip\"></a>\n",
    "\n",
    "Qué podríamos decir hasta el momento de las llamadas que tienen una duración de 0?\n",
    "</div>\n",
    "\n",
    "<div class=\"alert alert-block alert-info\">\n",
    "<b>Respuesta del estudiante.</b> <a class=\"tocSkip\"></a>\n",
    "    Llegué a la conclusión de que no son importantes para el análisis por lo cual los elimine.  \n",
    "</div>"
   ]
  },
  {
   "cell_type": "markdown",
   "metadata": {
    "id": "mOUZSi180q0_"
   },
   "source": [
    "## Mensajes"
   ]
  },
  {
   "cell_type": "code",
   "execution_count": 14,
   "metadata": {
    "id": "R-bYJpdV0q1A"
   },
   "outputs": [
    {
     "name": "stdout",
     "output_type": "stream",
     "text": [
      "<class 'pandas.core.frame.DataFrame'>\n",
      "RangeIndex: 76051 entries, 0 to 76050\n",
      "Data columns (total 3 columns):\n",
      " #   Column        Non-Null Count  Dtype \n",
      "---  ------        --------------  ----- \n",
      " 0   id            76051 non-null  object\n",
      " 1   user_id       76051 non-null  int64 \n",
      " 2   message_date  76051 non-null  object\n",
      "dtypes: int64(1), object(2)\n",
      "memory usage: 1.7+ MB\n"
     ]
    }
   ],
   "source": [
    "df_messages.info()"
   ]
  },
  {
   "cell_type": "code",
   "execution_count": 15,
   "metadata": {
    "id": "mCEl2iGE0q1A"
   },
   "outputs": [
    {
     "name": "stdout",
     "output_type": "stream",
     "text": [
      "             id  user_id message_date\n",
      "34112   1215_26     1215   2018-12-03\n",
      "73189  1470_817     1470   2018-11-08\n",
      "37506   1248_70     1248   2018-12-14\n",
      "36034   1237_55     1237   2018-10-14\n",
      "37944  1250_197     1250   2018-12-30\n",
      "57308  1362_386     1362   2018-07-02\n",
      "20695   1131_34     1131   2018-10-24\n",
      "68126  1439_520     1439   2018-09-12\n",
      "55277  1347_314     1347   2018-09-01\n",
      "49767  1328_725     1328   2018-10-21\n",
      "En la tabla Messages exiten:  0 valores duplicados\n",
      "Existen:  0 valores ausentes en la columna 'message_date'\n"
     ]
    }
   ],
   "source": [
    "# Imprime una muestra de datos para los mensajes\n",
    "print(df_messages.sample(10))\n",
    "\n",
    "duplicates = df_messages.duplicated().sum()\n",
    "print(\"En la tabla Messages exiten: \", duplicates , \"valores duplicados\")\n",
    "\n",
    "absents_messages = df_messages['message_date'].isna().sum()\n",
    "print(\"Existen: \", absents_messages , \"valores ausentes en la columna 'message_date'\")"
   ]
  },
  {
   "cell_type": "markdown",
   "metadata": {
    "id": "04xDj7KH0q1A"
   },
   "source": [
    "[Describe lo que ves y observas en la información general y en la muestra de datos impresa para el precio de datos anterior. ¿Hay algún problema (tipos de datos no adecuados, datos ausentes, etc.) que pudieran necesitar investigación y cambios adicionales? ¿Cómo se puede arreglar?]\n",
    "\n",
    "<font color='#571EEB'>Al realizar un análisis a este conjunto de datos se pude concluir que el único cambio que yo aplicaría es cambiar el tipo de dato object por un datetime en la columna \"message_date\" debido al trabajo que se debe realizar en el punto 1.12..</font>  "
   ]
  },
  {
   "cell_type": "markdown",
   "metadata": {
    "id": "Sprfak900q1B"
   },
   "source": [
    "### Corregir los datos"
   ]
  },
  {
   "cell_type": "markdown",
   "metadata": {
    "id": "eGw7d9j10q1B"
   },
   "source": [
    "[Corrige los problemas obvios con los datos basándote en las observaciones iniciales.]"
   ]
  },
  {
   "cell_type": "code",
   "execution_count": 16,
   "metadata": {
    "id": "vsllvkoa0q1B"
   },
   "outputs": [
    {
     "name": "stdout",
     "output_type": "stream",
     "text": [
      "<class 'pandas.core.frame.DataFrame'>\n",
      "RangeIndex: 76051 entries, 0 to 76050\n",
      "Data columns (total 3 columns):\n",
      " #   Column        Non-Null Count  Dtype         \n",
      "---  ------        --------------  -----         \n",
      " 0   id            76051 non-null  object        \n",
      " 1   user_id       76051 non-null  int64         \n",
      " 2   message_date  76051 non-null  datetime64[ns]\n",
      "dtypes: datetime64[ns](1), int64(1), object(1)\n",
      "memory usage: 1.7+ MB\n"
     ]
    }
   ],
   "source": [
    "# Convertir la columna 'user_id' a tipo objeto (string)\n",
    "df_messages['user_id'] = df_messages['user_id'].astype(int)\n",
    "\n",
    "# Convertir la columna 'call_date' a datetime\n",
    "df_messages['message_date'] = pd.to_datetime(df_messages['message_date'], format='%Y-%m-%d')\n",
    "\n",
    "# Mostrar el DataFrame para confirmar el cambio\n",
    "df_messages.info()"
   ]
  },
  {
   "cell_type": "markdown",
   "metadata": {
    "id": "HvLid7iD0q1B"
   },
   "source": [
    "### Enriquecer los datos"
   ]
  },
  {
   "cell_type": "markdown",
   "metadata": {
    "id": "8nhPFKIe0q1C"
   },
   "source": [
    "[Agrega factores adicionales a los datos si crees que pudieran ser útiles.]"
   ]
  },
  {
   "cell_type": "code",
   "execution_count": null,
   "metadata": {
    "id": "zYEXZac10q1C"
   },
   "outputs": [],
   "source": []
  },
  {
   "cell_type": "markdown",
   "metadata": {
    "id": "bStkaxn40q1C"
   },
   "source": [
    "## Internet"
   ]
  },
  {
   "cell_type": "code",
   "execution_count": 17,
   "metadata": {
    "id": "e-Uz5qyn0q1C"
   },
   "outputs": [
    {
     "name": "stdout",
     "output_type": "stream",
     "text": [
      "<class 'pandas.core.frame.DataFrame'>\n",
      "RangeIndex: 104825 entries, 0 to 104824\n",
      "Data columns (total 4 columns):\n",
      " #   Column        Non-Null Count   Dtype  \n",
      "---  ------        --------------   -----  \n",
      " 0   id            104825 non-null  object \n",
      " 1   user_id       104825 non-null  int64  \n",
      " 2   session_date  104825 non-null  object \n",
      " 3   mb_used       104825 non-null  float64\n",
      "dtypes: float64(1), int64(1), object(2)\n",
      "memory usage: 3.2+ MB\n"
     ]
    }
   ],
   "source": [
    "# Imprime la información general/resumida sobre el DataFrame de internet\n",
    "df_internet.info()"
   ]
  },
  {
   "cell_type": "code",
   "execution_count": 18,
   "metadata": {
    "id": "9r3x_XLw0q1C"
   },
   "outputs": [
    {
     "name": "stdout",
     "output_type": "stream",
     "text": [
      "             id  user_id session_date  mb_used\n",
      "74518    1351_4     1351   2018-11-28   636.65\n",
      "92308  1430_417     1430   2018-12-26   329.17\n",
      "1754   1009_289     1009   2018-07-30   617.98\n",
      "53579   1241_64     1241   2018-12-28   839.36\n",
      "8041   1043_103     1043   2018-07-04   164.53\n",
      "74683   1352_19     1352   2018-12-31   463.08\n",
      "832    1004_519     1004   2018-11-17   415.68\n",
      "73590  1346_171     1346   2018-05-22     0.00\n",
      "9503   1049_153     1049   2018-11-24   489.09\n",
      "36976  1166_142     1166   2018-11-12   237.59\n",
      "En la tabla Internet exiten:  0 valores duplicados\n",
      "Existen: 0 valores ausentes en la columna 'session_date'\n"
     ]
    }
   ],
   "source": [
    "# Imprime una muestra de datos para el tráfico de internet\n",
    "print(df_internet.sample(10))\n",
    "\n",
    "duplicates = df_internet.duplicated().sum()\n",
    "print(\"En la tabla Internet exiten: \", duplicates , \"valores duplicados\")\n",
    "\n",
    "def contar_valores_ausentes(df, columna):\n",
    "    # Contar los valores ausentes en la columna dada\n",
    "    valores_ausentes = df[columna].isna().sum()\n",
    "    # Crear el mensaje\n",
    "    mensaje = f\"Existen: {valores_ausentes} valores ausentes en la columna '{columna}'\"\n",
    "    # Devolver el mensaje\n",
    "    return mensaje\n",
    "\n",
    "# Llamar a la función y mostrar el resultado\n",
    "print(contar_valores_ausentes(df_internet, 'session_date'))\n"
   ]
  },
  {
   "cell_type": "markdown",
   "metadata": {
    "id": "EzOG5ik30q1D"
   },
   "source": [
    "[Describe lo que ves y observas en la información general y en la muestra de datos impresa para el precio de datos anterior. ¿Hay algún problema (tipos de datos no adecuados, datos ausentes, etc.) que pudieran necesitar investigación y cambios adicionales? ¿Cómo se puede arreglar?]\n",
    "\n",
    "<font color='#571EEB'>Al realizar un análisis a este conjunto de datos se pude concluir que el único cambio que yo aplicaría es cambiar el tipo de dato object por un datetime en la columna \"session_date\" debido al trabajo que se debe realizar en el punto 1.12</font> "
   ]
  },
  {
   "cell_type": "markdown",
   "metadata": {
    "id": "yA0tkPFg0q1D"
   },
   "source": [
    "### Corregir los datos"
   ]
  },
  {
   "cell_type": "markdown",
   "metadata": {
    "id": "zlZMuIEK0q1D"
   },
   "source": [
    "[Corrige los problemas obvios con los datos basándote en las observaciones iniciales.]"
   ]
  },
  {
   "cell_type": "code",
   "execution_count": 19,
   "metadata": {
    "id": "zVeanzdd0q1E"
   },
   "outputs": [
    {
     "name": "stdout",
     "output_type": "stream",
     "text": [
      "<class 'pandas.core.frame.DataFrame'>\n",
      "RangeIndex: 104825 entries, 0 to 104824\n",
      "Data columns (total 4 columns):\n",
      " #   Column        Non-Null Count   Dtype         \n",
      "---  ------        --------------   -----         \n",
      " 0   id            104825 non-null  object        \n",
      " 1   user_id       104825 non-null  int64         \n",
      " 2   session_date  104825 non-null  datetime64[ns]\n",
      " 3   mb_used       104825 non-null  float64       \n",
      "dtypes: datetime64[ns](1), float64(1), int64(1), object(1)\n",
      "memory usage: 3.2+ MB\n"
     ]
    }
   ],
   "source": [
    "# Convertir la columna 'user_id' a tipo objeto (string)\n",
    "df_internet['user_id'] = df_internet['user_id'].astype(int)\n",
    "\n",
    "# Convertir la columna 'call_date' a datetime]\n",
    "df_internet['session_date'] = pd.to_datetime(df_internet['session_date'], format='%Y-%m-%d')\n",
    "\n",
    "# Mostrar el DataFrame para confirmar el cambio\n",
    "df_internet.info()"
   ]
  },
  {
   "cell_type": "markdown",
   "metadata": {
    "id": "e8_mLF4a0q1E"
   },
   "source": [
    "### Enriquecer los datos"
   ]
  },
  {
   "cell_type": "markdown",
   "metadata": {
    "id": "xhNdn2tE0q1E"
   },
   "source": [
    "[Agrega factores adicionales a los datos si crees que pudieran ser útiles.]"
   ]
  },
  {
   "cell_type": "markdown",
   "metadata": {
    "id": "ESiYPIEK0q1E"
   },
   "source": [
    "<div class=\"alert alert-block alert-warning\">\n",
    "<b>Comentario revisor</b> <a class=\"tocSkip\"></a>\n",
    "\n",
    "\n",
    "Te recomiendo solamente comentar que cuando agrupemos los datos vamos a tener que redondear hacia arriba lo valores de la transformación de mbegabyter a gigabyte, para este ejercicio debemos hacer el redondeo superior dado que se cobra el costo extra en cuanto se pasa de los límites.Por lo que es necesario hacer la transformación de mb a gb y después hacer el redondeo.  \n",
    "</div>"
   ]
  },
  {
   "cell_type": "markdown",
   "metadata": {
    "id": "3UA2cqIW0q1E"
   },
   "source": [
    "## Estudiar las condiciones de las tarifas"
   ]
  },
  {
   "cell_type": "markdown",
   "metadata": {
    "id": "T86Sqltq0q1F"
   },
   "source": [
    "[Es sumamente importante entender cómo funcionan las tarifas, cómo se les cobra a los usuarios en función de su plan de suscripción. Así que te sugerimos imprimir la información de la tarifa para ver una vez más sus condiciones.]"
   ]
  },
  {
   "cell_type": "code",
   "execution_count": 20,
   "metadata": {
    "id": "i409op8p0q1F"
   },
   "outputs": [
    {
     "name": "stdout",
     "output_type": "stream",
     "text": [
      "   messages_included  mb_per_month_included  minutes_included  \\\n",
      "0                 50                   15.0               500   \n",
      "1               1000                   30.0              3000   \n",
      "\n",
      "   usd_monthly_pay  usd_per_gb  usd_per_message  usd_per_minute plan_name  \n",
      "0               20          10             0.03            0.03      surf  \n",
      "1               70           7             0.01            0.01  ultimate  \n"
     ]
    }
   ],
   "source": [
    "# Imprime las condiciones de la tarifa y asegúrate de que te quedan claras\n",
    "print(df_plans.head())"
   ]
  },
  {
   "cell_type": "markdown",
   "metadata": {
    "id": "hMR1tP5d0q1F"
   },
   "source": [
    "## Agregar datos por usuario\n",
    "\n",
    "[Ahora que los datos están limpios, agrega los datos por usuario y por periodo para que solo haya un registro por usuario y por periodo. Esto facilitará mucho el análisis posterior.]"
   ]
  },
  {
   "cell_type": "code",
   "execution_count": 21,
   "metadata": {
    "id": "A332cedB0q1G"
   },
   "outputs": [
    {
     "name": "stdout",
     "output_type": "stream",
     "text": [
      "      user_id year_month  num_llamadas\n",
      "0        1000    2018-12            16\n",
      "1        1001    2018-08            22\n",
      "2        1001    2018-09            38\n",
      "3        1001    2018-10            47\n",
      "4        1001    2018-11            49\n",
      "...       ...        ...           ...\n",
      "2251     1498    2018-12            32\n",
      "2252     1499    2018-09            35\n",
      "2253     1499    2018-10            41\n",
      "2254     1499    2018-11            39\n",
      "2255     1499    2018-12            56\n",
      "\n",
      "[2256 rows x 3 columns]\n",
      "Existen:  0 valores ausentes en la columna num_llamadas\n"
     ]
    }
   ],
   "source": [
    "# Calcula el número de llamadas hechas por cada usuario al mes. Guarda el resultado.\n",
    "\n",
    "# Extraer el año y el mes de la columna 'call_date'\n",
    "df_calls['year_month'] = df_calls['call_date'].dt.to_period('M')\n",
    "\n",
    "# Agrupar por 'user_id' y 'year_month' y contar el número de llamadas\n",
    "user_calls_per_month = df_calls.groupby(['user_id', 'year_month']).size().reset_index(name='num_llamadas')\n",
    "\n",
    "# Mostrar el resultado\n",
    "print(user_calls_per_month)\n",
    "\n",
    "absents = user_calls_per_month['num_llamadas'].isna().sum()\n",
    "print(\"Existen: \", absents , \"valores ausentes en la columna num_llamadas\")"
   ]
  },
  {
   "cell_type": "markdown",
   "metadata": {},
   "source": [
    "<div class=\"alert alert-block alert-warning\">\n",
    "\n",
    "<b>Comentario revisor</b> <a class=\"tocSkip\"></a>\n",
    "\n",
    "Si bien es correcta la forma de agrupar para sacar la duración de las llamadas por cada ususario, para proximas ocasiones puedes hacer uso de la siguiente forma:\n",
    "    \n",
    "    pivot_calls = calls.pivot_table(index=['user_id', 'month'],\n",
    "                                values=['duration'],\n",
    "                                aggfunc=['sum','count']).reset_index()\n",
    "\n",
    "</div>"
   ]
  },
  {
   "cell_type": "code",
   "execution_count": 22,
   "metadata": {
    "id": "aw2cmuql0q1G"
   },
   "outputs": [
    {
     "name": "stdout",
     "output_type": "stream",
     "text": [
      "      user_id year_month  minutes_per_month\n",
      "0        1000    2018-12             116.83\n",
      "1        1001    2018-08             171.14\n",
      "2        1001    2018-09             297.69\n",
      "3        1001    2018-10             374.11\n",
      "4        1001    2018-11             404.59\n",
      "...       ...        ...                ...\n",
      "2251     1498    2018-12             324.77\n",
      "2252     1499    2018-09             330.37\n",
      "2253     1499    2018-10             363.28\n",
      "2254     1499    2018-11             288.56\n",
      "2255     1499    2018-12             468.10\n",
      "\n",
      "[2256 rows x 3 columns]\n",
      "Existen:  0 valores ausentes en la columna minutes_per_month\n"
     ]
    }
   ],
   "source": [
    "# Calcula la cantidad de minutos usados por cada usuario al mes. Guarda el resultado.\n",
    "\n",
    "# Extraer el año y el mes de la columna 'call_date'\n",
    "df_calls['year_month'] = df_calls['call_date'].dt.to_period('M')\n",
    "\n",
    "# Agrupar por 'user_id' y 'year_month' y contar el número de llamadas\n",
    "minutes_per_user_per_month = df_calls.groupby(['user_id', 'year_month'])['duration'].sum().reset_index(name='minutes_per_month')\n",
    "\n",
    "# Mostrar el resultado\n",
    "print(minutes_per_user_per_month)\n",
    "\n",
    "absents = minutes_per_user_per_month['minutes_per_month'].isna().sum()\n",
    "print(\"Existen: \", absents , \"valores ausentes en la columna minutes_per_month\")"
   ]
  },
  {
   "cell_type": "code",
   "execution_count": 23,
   "metadata": {
    "id": "CcQvNHn60q1G"
   },
   "outputs": [
    {
     "name": "stdout",
     "output_type": "stream",
     "text": [
      "      user_id year_month  num_messages\n",
      "0        1000    2018-12            16\n",
      "1        1001    2018-08            22\n",
      "2        1001    2018-09            38\n",
      "3        1001    2018-10            47\n",
      "4        1001    2018-11            49\n",
      "...       ...        ...           ...\n",
      "2251     1498    2018-12            32\n",
      "2252     1499    2018-09            35\n",
      "2253     1499    2018-10            41\n",
      "2254     1499    2018-11            39\n",
      "2255     1499    2018-12            56\n",
      "\n",
      "[2256 rows x 3 columns]\n",
      "Existen:  0 valores ausentes en la columna num_messages\n"
     ]
    }
   ],
   "source": [
    "# Calcula el número de mensajes enviados por cada usuario al mes. Guarda el resultado.\n",
    "\n",
    "# Extraer año y mes de 'call_date'\n",
    "df_messages['year_month'] = df_messages['message_date'].dt.to_period('M')\n",
    "\n",
    "# Agrupar por 'user_id' y 'year_month' y sumar la duración de las llamadas\n",
    "messages_per_user_per_month = df_calls.groupby(['user_id', 'year_month'])['duration'].size().reset_index(name='num_messages')\n",
    "\n",
    "# Mostrar el resultado\n",
    "print(messages_per_user_per_month)\n",
    "\n",
    "absents = messages_per_user_per_month['num_messages'].isna().sum()\n",
    "print(\"Existen: \", absents , \"valores ausentes en la columna num_messages\")"
   ]
  },
  {
   "cell_type": "code",
   "execution_count": 24,
   "metadata": {
    "id": "H1AqN2eG0q1H"
   },
   "outputs": [
    {
     "name": "stdout",
     "output_type": "stream",
     "text": [
      "      user_id year_month  internet_traffic_mb\n",
      "0        1000    2018-12              1901.47\n",
      "1        1001    2018-08              6919.15\n",
      "2        1001    2018-09             13314.82\n",
      "3        1001    2018-10             22330.49\n",
      "4        1001    2018-11             18504.30\n",
      "...       ...        ...                  ...\n",
      "2272     1498    2018-12             23137.69\n",
      "2273     1499    2018-09             12984.76\n",
      "2274     1499    2018-10             19492.43\n",
      "2275     1499    2018-11             16813.83\n",
      "2276     1499    2018-12             22059.21\n",
      "\n",
      "[2277 rows x 3 columns]\n"
     ]
    }
   ],
   "source": [
    "# Calcula el volumen del tráfico de Internet usado por cada usuario al mes. Guarda el resultado.\n",
    "\n",
    "# Extraer el año y el mes de la columna 'call_date'\n",
    "df_internet['year_month'] = df_internet['session_date'].dt.to_period('M')\n",
    "\n",
    "# Agrupar por 'user_id' y 'year_month' y contar el número de llamadas\n",
    "internet_traffic_of_users_per_month = df_internet.groupby(['user_id', 'year_month'])['mb_used'].sum().reset_index(name='internet_traffic_mb')\n",
    "\n",
    "# Mostrar el resultado\n",
    "\n",
    "print(internet_traffic_of_users_per_month)"
   ]
  },
  {
   "cell_type": "markdown",
   "metadata": {
    "id": "VDfYXnj80q1H"
   },
   "source": [
    "[Junta los datos agregados en un DataFrame para que haya un registro que represente lo que consumió un usuario único en un mes determinado.]"
   ]
  },
  {
   "cell_type": "code",
   "execution_count": 25,
   "metadata": {
    "id": "FW99ykyf0q1H"
   },
   "outputs": [
    {
     "name": "stdout",
     "output_type": "stream",
     "text": [
      "      user_id year_month  num_llamadas  internet_traffic_mb  \\\n",
      "0        1000    2018-12          16.0              1901.47   \n",
      "1        1001    2018-08          22.0              6919.15   \n",
      "2        1001    2018-09          38.0             13314.82   \n",
      "3        1001    2018-10          47.0             22330.49   \n",
      "4        1001    2018-11          49.0             18504.30   \n",
      "...       ...        ...           ...                  ...   \n",
      "2287     1349    2018-10           NaN             13093.55   \n",
      "2288     1349    2018-11           NaN             17128.26   \n",
      "2289     1349    2018-12           NaN             13039.91   \n",
      "2290     1361    2018-05           NaN              1519.69   \n",
      "2291     1407    2018-11           NaN               290.06   \n",
      "\n",
      "      minutes_per_month  num_messages  \n",
      "0                116.83          16.0  \n",
      "1                171.14          22.0  \n",
      "2                297.69          38.0  \n",
      "3                374.11          47.0  \n",
      "4                404.59          49.0  \n",
      "...                 ...           ...  \n",
      "2287                NaN           NaN  \n",
      "2288                NaN           NaN  \n",
      "2289                NaN           NaN  \n",
      "2290                NaN           NaN  \n",
      "2291                NaN           NaN  \n",
      "\n",
      "[2292 rows x 6 columns]\n",
      "<class 'pandas.core.frame.DataFrame'>\n",
      "Int64Index: 2292 entries, 0 to 2291\n",
      "Data columns (total 6 columns):\n",
      " #   Column               Non-Null Count  Dtype    \n",
      "---  ------               --------------  -----    \n",
      " 0   user_id              2292 non-null   int64    \n",
      " 1   year_month           2292 non-null   period[M]\n",
      " 2   num_llamadas         2256 non-null   float64  \n",
      " 3   internet_traffic_mb  2277 non-null   float64  \n",
      " 4   minutes_per_month    2256 non-null   float64  \n",
      " 5   num_messages         2256 non-null   float64  \n",
      "dtypes: float64(4), int64(1), period[M](1)\n",
      "memory usage: 125.3 KB\n"
     ]
    }
   ],
   "source": [
    "# Fusiona los datos de llamadas, minutos, mensajes e Internet con base en user_id y month\n",
    "\n",
    "# Realizar la combinación\n",
    "df_user_data = pd.merge(user_calls_per_month, internet_traffic_of_users_per_month, on=['user_id', 'year_month'], how='outer')\n",
    "\n",
    "df_user_data = pd.merge(df_user_data, minutes_per_user_per_month, on=['user_id', 'year_month'], how='outer')\n",
    "\n",
    "df_user_data = pd.merge(df_user_data, messages_per_user_per_month, on=['user_id', 'year_month'], how='outer')\n",
    "\n",
    "# Mostrar el resultado\n",
    "print(df_user_data)\n",
    "\n",
    "df_user_data.info()\n"
   ]
  },
  {
   "cell_type": "markdown",
   "metadata": {},
   "source": [
    "<div class=\"alert alert-block alert-success\">\n",
    "<b>Comentario del revisor</b> <a class=\"tocSkip\"></a>\n",
    "\n",
    "Muy buen trabajo!! el merge es correcto para unir todas las bases trabajadas.\n",
    "    \n",
    "</div>"
   ]
  },
  {
   "cell_type": "code",
   "execution_count": 26,
   "metadata": {
    "id": "0dNOXHag0q1H"
   },
   "outputs": [
    {
     "name": "stdout",
     "output_type": "stream",
     "text": [
      "      user_id year_month  num_llamadas  internet_traffic_mb  \\\n",
      "0        1000    2018-12          16.0              1901.47   \n",
      "1        1001    2018-08          22.0              6919.15   \n",
      "2        1001    2018-09          38.0             13314.82   \n",
      "3        1001    2018-10          47.0             22330.49   \n",
      "4        1001    2018-11          49.0             18504.30   \n",
      "...       ...        ...           ...                  ...   \n",
      "2287     1349    2018-10           NaN             13093.55   \n",
      "2288     1349    2018-11           NaN             17128.26   \n",
      "2289     1349    2018-12           NaN             13039.91   \n",
      "2290     1361    2018-05           NaN              1519.69   \n",
      "2291     1407    2018-11           NaN               290.06   \n",
      "\n",
      "      minutes_per_month  num_messages      plan  messages_included  \\\n",
      "0                116.83          16.0  ultimate               1000   \n",
      "1                171.14          22.0      surf                 50   \n",
      "2                297.69          38.0      surf                 50   \n",
      "3                374.11          47.0      surf                 50   \n",
      "4                404.59          49.0      surf                 50   \n",
      "...                 ...           ...       ...                ...   \n",
      "2287                NaN           NaN      surf                 50   \n",
      "2288                NaN           NaN      surf                 50   \n",
      "2289                NaN           NaN      surf                 50   \n",
      "2290                NaN           NaN      surf                 50   \n",
      "2291                NaN           NaN  ultimate               1000   \n",
      "\n",
      "      mb_per_month_included  minutes_included  usd_monthly_pay  usd_per_gb  \\\n",
      "0                      30.0              3000               70           7   \n",
      "1                      15.0               500               20          10   \n",
      "2                      15.0               500               20          10   \n",
      "3                      15.0               500               20          10   \n",
      "4                      15.0               500               20          10   \n",
      "...                     ...               ...              ...         ...   \n",
      "2287                   15.0               500               20          10   \n",
      "2288                   15.0               500               20          10   \n",
      "2289                   15.0               500               20          10   \n",
      "2290                   15.0               500               20          10   \n",
      "2291                   30.0              3000               70           7   \n",
      "\n",
      "      usd_per_message  usd_per_minute plan_name  \n",
      "0                0.01            0.01  ultimate  \n",
      "1                0.03            0.03      surf  \n",
      "2                0.03            0.03      surf  \n",
      "3                0.03            0.03      surf  \n",
      "4                0.03            0.03      surf  \n",
      "...               ...             ...       ...  \n",
      "2287             0.03            0.03      surf  \n",
      "2288             0.03            0.03      surf  \n",
      "2289             0.03            0.03      surf  \n",
      "2290             0.03            0.03      surf  \n",
      "2291             0.01            0.01  ultimate  \n",
      "\n",
      "[2292 rows x 15 columns]\n"
     ]
    }
   ],
   "source": [
    "# Añade la información de la tarifa\n",
    "\n",
    "# Convertir la columna 'user_id' en ambos DataFrames al mismo tipo de datos (int64)\n",
    "df_user_data['user_id'] = df_user_data['user_id'].astype(int)\n",
    "df_users['user_id'] = df_users['user_id'].astype(int)\n",
    "\n",
    "# Selecciona solo la columna 'user_id' y 'plan' de df_users\n",
    "df_users_plan = df_users[['user_id', 'plan']]\n",
    "\n",
    "# Realiza la fusión\n",
    "df_user_data = pd.merge(df_user_data, df_users_plan, on='user_id', how='left')\n",
    "\n",
    "# Fusionar el resultado con plans para obtener los detalles del plan\n",
    "df_user_data = pd.merge(df_user_data, df_plans, left_on='plan', right_on='plan_name', how='left')\n",
    "\n",
    "# Mostrar el resultado\n",
    "print(df_user_data)\n"
   ]
  },
  {
   "cell_type": "markdown",
   "metadata": {
    "id": "1IwGo4wg0q1I"
   },
   "source": [
    "[Calcula los ingresos mensuales por usuario (resta el límite del paquete gratuito del número total de llamadas, mensajes de texto y datos; multiplica el resultado por el valor del plan de llamadas; añade la tarifa mensual en función del plan de llamadas). Nota: Dadas las condiciones del plan, ¡esto podría no ser tan trivial como un par de líneas! Así que no pasa nada si dedicas algo de tiempo a ello.]"
   ]
  },
  {
   "cell_type": "code",
   "execution_count": 27,
   "metadata": {
    "id": "5FGCf_c60q1I"
   },
   "outputs": [
    {
     "name": "stdout",
     "output_type": "stream",
     "text": [
      "<class 'pandas.core.frame.DataFrame'>\n",
      "Int64Index: 2292 entries, 0 to 2291\n",
      "Data columns (total 24 columns):\n",
      " #   Column                 Non-Null Count  Dtype    \n",
      "---  ------                 --------------  -----    \n",
      " 0   user_id                2292 non-null   int64    \n",
      " 1   year_month             2292 non-null   period[M]\n",
      " 2   num_llamadas           2256 non-null   float64  \n",
      " 3   internet_traffic_mb    2292 non-null   float64  \n",
      " 4   minutes_per_month      2256 non-null   float64  \n",
      " 5   num_messages           2256 non-null   float64  \n",
      " 6   plan                   2292 non-null   object   \n",
      " 7   messages_included      2292 non-null   int64    \n",
      " 8   mb_per_month_included  2292 non-null   float64  \n",
      " 9   minutes_included       2292 non-null   int64    \n",
      " 10  usd_monthly_pay        2292 non-null   int64    \n",
      " 11  usd_per_gb             2292 non-null   int64    \n",
      " 12  usd_per_message        2292 non-null   float64  \n",
      " 13  usd_per_minute         2292 non-null   float64  \n",
      " 14  plan_name              2292 non-null   object   \n",
      " 15  extra_calls            2256 non-null   float64  \n",
      " 16  extra_messages         2256 non-null   float64  \n",
      " 17  internet_traffic_gb    2292 non-null   int64    \n",
      " 18  extra_data             2292 non-null   float64  \n",
      " 19  extra_calls_cost       2256 non-null   float64  \n",
      " 20  extra_messages_cost    2256 non-null   float64  \n",
      " 21  extra_data_cost        2292 non-null   float64  \n",
      " 22  total_extra_cost       2256 non-null   float64  \n",
      " 23  total_cost             2256 non-null   float64  \n",
      "dtypes: float64(15), int64(6), object(2), period[M](1)\n",
      "memory usage: 447.7+ KB\n",
      "      user_id year_month  total_cost\n",
      "0        1000    2018-12      -126.0\n",
      "1        1001    2018-08       -60.0\n",
      "2        1001    2018-09        10.0\n",
      "3        1001    2018-10        90.0\n",
      "4        1001    2018-11        60.0\n",
      "...       ...        ...         ...\n",
      "2287     1349    2018-10         NaN\n",
      "2288     1349    2018-11         NaN\n",
      "2289     1349    2018-12         NaN\n",
      "2290     1361    2018-05         NaN\n",
      "2291     1407    2018-11         NaN\n",
      "\n",
      "[2292 rows x 3 columns]\n"
     ]
    }
   ],
   "source": [
    "# Calcula el ingreso mensual para cada usuario\n",
    "\n",
    "#Calcular los excedentes de los límites del plan para minutos\n",
    "df_user_data['extra_calls'] = df_user_data['minutes_per_month'] - df_user_data['minutes_included']\n",
    "\n",
    "#Se utiliza \"apply(lambda x: max(x, 0))\" se utiliza para recorrer cada valor de la columna y \n",
    "#ajustar cada valor negativo a cero.\n",
    "df_user_data['extra_calls'] = df_user_data['extra_calls'].apply(lambda x: max(x, 0))\n",
    "\n",
    "#Calcular los excedentes de los límites del plan de los mensajes.\n",
    "df_user_data['extra_messages'] = df_user_data['num_messages'] - df_user_data['messages_included']\n",
    "df_user_data['extra_messages'] = df_user_data['extra_messages'].apply(lambda x: max(x, 0))\n",
    "\n",
    "#Calcular los excedentes de los límites del plan de los mb.\n",
    "# Rellenar NaN con 0 antes de la transformación\n",
    "df_user_data['internet_traffic_mb'] = df_user_data['internet_traffic_mb'].fillna(0)\n",
    "# Transformar de MB a GB y redondear al valor superior\n",
    "df_user_data['internet_traffic_gb'] = df_user_data['internet_traffic_mb'].apply(lambda x: math.ceil(x / 1024))\n",
    "df_user_data['extra_data'] = df_user_data['internet_traffic_gb'] - df_user_data['mb_per_month_included']\n",
    "\n",
    "# Calcular los costos adicionales\n",
    "df_user_data['extra_calls_cost'] = df_user_data['extra_calls'] * df_user_data['usd_per_minute']\n",
    "df_user_data['extra_messages_cost'] = df_user_data['extra_messages'] * df_user_data['usd_per_message']\n",
    "df_user_data['extra_data_cost'] = df_user_data['extra_data'] * df_user_data['usd_per_gb']\n",
    "\n",
    "# Sumar los costos adicionales a la tarifa mensual del plan\n",
    "df_user_data['total_extra_cost'] = df_user_data['extra_calls_cost'] + df_user_data['extra_messages_cost'] + df_user_data['extra_data_cost']\n",
    "df_user_data['total_cost'] = df_user_data['total_extra_cost'] + df_user_data['usd_monthly_pay']\n",
    "\n",
    "df_user_data.info()\n",
    "\n",
    "# Mostrar el resultado\n",
    "print(df_user_data[['user_id', 'year_month', 'total_cost']])"
   ]
  },
  {
   "cell_type": "markdown",
   "metadata": {},
   "source": [
    "<div class=\"alert alert-block alert-danger\">\n",
    "<b>Comentario revisor</b> <a class=\"tocSkip\"></a>\n",
    "\n",
    "\n",
    "Recuerda que para este punto, es necesario que ya tengamos los valores redondeados de la duración de las llamadas y redondear la transformación de megabytes a gigabytes. Esto cobra importancia dado que estamos calculando por cuanto se paso cada usuario, entonces el no redondear puede alterar este valor.\n",
    "</div>"
   ]
  },
  {
   "cell_type": "markdown",
   "metadata": {},
   "source": [
    "<div class=\"alert alert-block alert-success\">\n",
    "<b>Comentario del revisor</b> <a class=\"tocSkip\"></a>\n",
    "\n",
    "Muy buen trabajo con los ajustes!\n",
    "</div>"
   ]
  },
  {
   "cell_type": "markdown",
   "metadata": {
    "id": "-jtyHzJb0q1I"
   },
   "source": [
    "## Estudia el comportamiento de usuario"
   ]
  },
  {
   "cell_type": "markdown",
   "metadata": {
    "id": "AxU3Y0N70q1J"
   },
   "source": [
    "[Calcula algunas estadísticas descriptivas para los datos agregados y fusionados que nos sean útiles y que muestren un panorama general captado por los datos. Dibuja gráficos útiles para facilitar la comprensión. Dado que la tarea principal es comparar las tarifas y decidir cuál es más rentable, las estadísticas y gráficas deben calcularse por tarifa.]\n",
    "\n",
    "[En los comentarios hallarás pistas relevantes para las llamadas, pero no las hay para los mensajes e Internet. Sin embargo, el principio del estudio estadístico que se aplica para ellos es el mismo que para las llamadas.]"
   ]
  },
  {
   "cell_type": "markdown",
   "metadata": {
    "id": "vtW4CJEe0q1J"
   },
   "source": [
    "### Llamadas"
   ]
  },
  {
   "cell_type": "code",
   "execution_count": 28,
   "metadata": {
    "id": "Jf5v5--k0q1J"
   },
   "outputs": [
    {
     "data": {
      "image/png": "[encoded data removed]",
      "text/plain": [
       "<Figure size 1400x800 with 1 Axes>"
      ]
     },
     "metadata": {},
     "output_type": "display_data"
    }
   ],
   "source": [
    "# Compara la duración promedio de llamadas por cada plan y por cada mes. Traza un gráfico de barras para visualizarla.\n",
    "\n",
    "# year_month es un string para facilitar la visualización\n",
    "df_user_data['year_month'] = df_user_data['year_month'].astype(str)\n",
    "\n",
    "# Agrupar por plan y año_mes, y calcular la duración promedio de las llamadas\n",
    "avg_call_duration = df_user_data.groupby(['plan', 'year_month'])['minutes_per_month'].mean().reset_index()\n",
    "\n",
    "# Crear el gráfico de barras\n",
    "pl.figure(figsize=(14, 8))\n",
    "\n",
    "# Crear una lista de colores para los diferentes planes\n",
    "plan_colors = {'surf': 'blue', 'ultimate': 'green'}\n",
    "\n",
    "# Agrupar por plan para crear gráficos de barras separados\n",
    "for plan in avg_call_duration['plan'].unique():\n",
    "    subset = avg_call_duration[avg_call_duration['plan'] == plan]\n",
    "    pl.bar(subset['year_month'], subset['minutes_per_month'], color=plan_colors[plan], label=plan)\n",
    "\n",
    "# Configurar etiquetas y título\n",
    "pl.xlabel('Mes y Año')\n",
    "pl.ylabel('Duración Promedio de Llamadas (minutos)')\n",
    "pl.title('Duración Promedio de Llamadas por Plan y por Mes')\n",
    "pl.xticks(rotation=45)\n",
    "pl.legend(title='Plan')\n",
    "\n",
    "# Mostrar el gráfico\n",
    "pl.show()"
   ]
  },
  {
   "cell_type": "code",
   "execution_count": 29,
   "metadata": {
    "id": "QoLqW1S_0q1J"
   },
   "outputs": [
    {
     "data": {
      "image/png": "[encoded data removed]",
      "text/plain": [
       "<Figure size 800x600 with 1 Axes>"
      ]
     },
     "metadata": {},
     "output_type": "display_data"
    }
   ],
   "source": [
    "# Compara el número de minutos mensuales que necesitan los usuarios de cada plan. Traza un histograma.\n",
    "\n",
    "# Filtramos los datos para obtener los minutos por mes para cada plan\n",
    "surf_minutes = df_user_data[df_user_data['plan'] == 'surf']['minutes_per_month'].dropna()\n",
    "ultimate_minutes = df_user_data[df_user_data['plan'] == 'ultimate']['minutes_per_month'].dropna()\n",
    "\n",
    "# Configuramos el histograma\n",
    "pl.figure(figsize=(8, 6))\n",
    "pl.hist([surf_minutes, ultimate_minutes], bins=20, color=['blue', 'green'], alpha=0.7, label=['Surf', 'Ultimate'])\n",
    "pl.title('Distribución de minutos por mes por plan')\n",
    "pl.xlabel('Minutos por mes')\n",
    "pl.ylabel('Frecuencia')\n",
    "pl.legend()\n",
    "pl.grid(axis='y', linestyle='--', alpha=0.7)\n",
    "pl.tight_layout()\n",
    "pl.show()"
   ]
  },
  {
   "cell_type": "markdown",
   "metadata": {
    "id": "bLS9T8OH0q1K"
   },
   "source": [
    "[Calcula la media y la variable de la duración de las llamadas para averiguar si los usuarios de los distintos planes se comportan de forma diferente al realizar sus llamadas.]"
   ]
  },
  {
   "cell_type": "code",
   "execution_count": 30,
   "metadata": {
    "id": "oSndbAnt0q1K"
   },
   "outputs": [
    {
     "name": "stdout",
     "output_type": "stream",
     "text": [
      "Plan Surf:\n",
      "Media de duración mensual de llamadas: 412.364792746114\n",
      "Varianza de duración mensual de llamadas: 46891.19292184823\n",
      "\n",
      "Plan Ultimate:\n",
      "Media de duración mensual de llamadas: 410.75705056179777\n",
      "Varianza de duración mensual de llamadas: 50273.99586405362\n"
     ]
    }
   ],
   "source": [
    "# Calcula la media y la varianza de la duración mensual de llamadas.\n",
    "\n",
    "# Se utiliza .dropna() para eliminar cualquier fila que tenga un valor faltante en la columna \n",
    "# de duración mensual de llamadas. \n",
    "\n",
    "# Filtramos los datos para obtener la duración mensual de las llamadas para cada plan\n",
    "surf_call_duration = df_user_data[df_user_data['plan'] == 'surf']['minutes_per_month'].dropna()\n",
    "ultimate_call_duration = df_user_data[df_user_data['plan'] == 'ultimate']['minutes_per_month'].dropna()\n",
    "\n",
    "# Calculamos la media y la varianza para cada plan\n",
    "surf_mean_duration = np.mean(surf_call_duration)\n",
    "surf_variance_duration = np.var(surf_call_duration)\n",
    "\n",
    "ultimate_mean_duration = np.mean(ultimate_call_duration)\n",
    "ultimate_variance_duration = np.var(ultimate_call_duration)\n",
    "\n",
    "# Imprimimos los resultados\n",
    "print(\"Plan Surf:\")\n",
    "print(\"Media de duración mensual de llamadas:\", surf_mean_duration)\n",
    "print(\"Varianza de duración mensual de llamadas:\", surf_variance_duration)\n",
    "\n",
    "print(\"\\nPlan Ultimate:\")\n",
    "print(\"Media de duración mensual de llamadas:\", ultimate_mean_duration)\n",
    "print(\"Varianza de duración mensual de llamadas:\", ultimate_variance_duration)\n"
   ]
  },
  {
   "cell_type": "code",
   "execution_count": 31,
   "metadata": {
    "id": "nZzoRUKc0q1K"
   },
   "outputs": [
    {
     "data": {
      "image/png": "[encoded data removed]",
      "text/plain": [
       "<Figure size 800x600 with 1 Axes>"
      ]
     },
     "metadata": {},
     "output_type": "display_data"
    }
   ],
   "source": [
    "# Traza un diagrama de caja para visualizar la distribución de la duración mensual de llamadas\n",
    "\n",
    "# Creamos un DataFrame con los datos de duración mensual de llamadas para cada plan\n",
    "data = pd.DataFrame({'Plan Surf': surf_call_duration, 'Plan Ultimate':ultimate_call_duration})\n",
    "\n",
    "# Trazamos el diagrama de caja\n",
    "pl.figure(figsize=(8, 6))\n",
    "sns.boxplot(data=data, palette='Set2')\n",
    "pl.title('Distribución de la duración mensual de llamadas por plan')\n",
    "pl.ylabel('Duración mensual de llamadas (minutos)')\n",
    "pl.xlabel('Plan')\n",
    "pl.show()"
   ]
  },
  {
   "cell_type": "markdown",
   "metadata": {
    "id": "r627zBO50q1K"
   },
   "source": [
    "[Elabora las conclusiones sobre el comportamiento de los usuarios con respecto a las llamadas. ¿Su comportamiento varía en función del plan?]\n",
    "\n",
    "<font color='#571EEB'>Al realizar un análisis sobre el comportamiento de los usuarios con respecto al promedio de llamadas en 7 meses del año los usuarios del plan surf tienen a ocupar más minutos. Además, la distribución de los mensajes para el plan surf tiende a ser mayor, debido a la observació anterior. Sin embargo, las medias de las dos distribuciones tienden a ser casi iguales, con la única diferencia de que en el plan suft existen más valores atípicos.   "
   ]
  },
  {
   "cell_type": "markdown",
   "metadata": {
    "id": "8idKy8Wh0q1L"
   },
   "source": [
    "### Mensajes"
   ]
  },
  {
   "cell_type": "code",
   "execution_count": 32,
   "metadata": {
    "id": "NXLxiTit0q1L"
   },
   "outputs": [
    {
     "data": {
      "image/png": "[encoded data removed]",
      "text/plain": [
       "<Figure size 1400x800 with 1 Axes>"
      ]
     },
     "metadata": {},
     "output_type": "display_data"
    }
   ],
   "source": [
    "# Comprara el número de mensajes que tienden a enviar cada mes los usuarios de cada plan\n",
    "\n",
    "# year_month es un string para facilitar la visualización\n",
    "df_user_data['year_month'] = df_user_data['year_month'].astype(str)\n",
    "\n",
    "# Agrupar por plan y año_mes, y calcular el promedio de mensajes que envìa cada usuario. \n",
    "avg_messages_num = df_user_data.groupby(['plan', 'year_month'])['num_messages'].mean().reset_index()\n",
    "\n",
    "# Crear el gráfico de barras\n",
    "pl.figure(figsize=(14, 8))\n",
    "\n",
    "# Crear una lista de colores para los diferentes planes\n",
    "plan_colors = {'surf': 'blue', 'ultimate': 'green'}\n",
    "\n",
    "# Agrupar por plan para crear gráficos de barras separados\n",
    "for plan in avg_messages_num['plan'].unique():\n",
    "    subset = avg_messages_num[avg_messages_num['plan'] == plan]\n",
    "    pl.bar(subset['year_month'], subset['num_messages'], color=plan_colors[plan], label=plan)\n",
    "\n",
    "# Configurar etiquetas y título\n",
    "pl.xlabel('Mes y Año')\n",
    "pl.ylabel('Número Promedio de Mensajes (unidades)')\n",
    "pl.title('Nùmero Promedio de Mensajes por Plan y por Mes')\n",
    "pl.xticks(rotation=45)\n",
    "pl.legend(title='Plan')\n",
    "\n",
    "# Mostrar el gráfico\n",
    "pl.show()"
   ]
  },
  {
   "cell_type": "code",
   "execution_count": 33,
   "metadata": {
    "id": "GRI_R7xF0q1L"
   },
   "outputs": [],
   "source": [
    "# Compara la cantidad de tráfico de Internet consumido por usuarios por plan\n"
   ]
  },
  {
   "cell_type": "code",
   "execution_count": null,
   "metadata": {
    "id": "dtFwCGAp0q1M"
   },
   "outputs": [],
   "source": []
  },
  {
   "cell_type": "markdown",
   "metadata": {
    "id": "390SSL480q1M"
   },
   "source": [
    "[Elabora las conclusiones sobre el comportamiento de los usuarios con respecto a los mensajes. ¿Su comportamiento varía en función del plan?]\n",
    "\n",
    "<font color='#571EEB'>Al realizar un análisis sobre el comportamiento de los usuarios con respecto a las llamadas, se puede concluir que el comportamiento de los usuarios en cuanto a el nùmero de mensajes se refiere no varia mucho entre mes. Por otro lado, a utilización de megabites se refiere los datos siguen una distribución normal, casi con los mismos valores para los cuartiles y media. Sin embargo, se puede decir que existen más valores atípicos en el plan surf.</font> "
   ]
  },
  {
   "cell_type": "markdown",
   "metadata": {
    "id": "42YSypXz0q1M"
   },
   "source": [
    "### Internet"
   ]
  },
  {
   "cell_type": "code",
   "execution_count": 34,
   "metadata": {
    "id": "lSuKPtjh0q1M"
   },
   "outputs": [
    {
     "data": {
      "image/png": "[encoded data removed]",
      "text/plain": [
       "<Figure size 800x600 with 1 Axes>"
      ]
     },
     "metadata": {},
     "output_type": "display_data"
    }
   ],
   "source": [
    "# Compara la cantidad de tráfico de Internet consumido por usuarios por plan\n",
    "\n",
    "# Filtramos los datos para obtener la cantidad de tráfico de Internet por plan\n",
    "surf_internet_traffic = df_user_data[df_user_data['plan'] == 'surf']['internet_traffic_gb'].dropna()\n",
    "ultimate_internet_traffic = df_user_data[df_user_data['plan'] == 'ultimate']['internet_traffic_gb'].dropna()\n",
    "\n",
    "# Creamos un DataFrame con los datos de tráfico de Internet para cada plan\n",
    "data_internet = pd.DataFrame({'Plan Surf': surf_internet_traffic, 'Plan Ultimate': ultimate_internet_traffic})\n",
    "\n",
    "# Trazamos el diagrama de caja\n",
    "pl.figure(figsize=(8, 6))\n",
    "sns.boxplot(data=data_internet, palette='Set2')\n",
    "pl.title('Distribución del tráfico de Internet mensual por plan')\n",
    "pl.ylabel('Tráfico de Internet (MB)')\n",
    "pl.xlabel('Plan')\n",
    "pl.show()"
   ]
  },
  {
   "cell_type": "code",
   "execution_count": null,
   "metadata": {
    "id": "wnh8jYXi0q1N"
   },
   "outputs": [],
   "source": []
  },
  {
   "cell_type": "code",
   "execution_count": null,
   "metadata": {
    "id": "5VlyJ9ry0q1N"
   },
   "outputs": [],
   "source": []
  },
  {
   "cell_type": "markdown",
   "metadata": {
    "id": "UN9zwuMP0q1N"
   },
   "source": [
    "[Elabora las conclusiones sobre cómo los usuarios tienden a consumir el tráfico de Internet. ¿Su comportamiento varía en función del plan?]\n",
    "\n",
    "<font color='#571EEB'>Al realizar un análisis sobre el comportamiento de los usuarios con respecto a las llamadas, se puede concluir que el comportamiento de los usuarios en cuanto a el nùmero de mensajes se refiere no varia mucho entre mes. Por otro lado, a utilización de megabites se refiere los datos siguen una distribución normal, casi con los mismos valores para los cuartiles y media. Sin embargo, se puede decir que existen más valores atípicos en el plan surf.</font>"
   ]
  },
  {
   "cell_type": "markdown",
   "metadata": {
    "id": "tCijq3260q1N"
   },
   "source": [
    "## Ingreso"
   ]
  },
  {
   "cell_type": "markdown",
   "metadata": {
    "id": "9nq5IAcy0q1O"
   },
   "source": [
    "[Del mismo modo que has estudiado el comportamiento de los usuarios, describe estadísticamente los ingresos de los planes.]"
   ]
  },
  {
   "cell_type": "code",
   "execution_count": 35,
   "metadata": {
    "id": "tz-dq_V00q1O"
   },
   "outputs": [
    {
     "name": "stdout",
     "output_type": "stream",
     "text": [
      "Estadísticas descriptivas para el plan Surf:\n",
      "count    1544.000000\n",
      "mean       38.071565\n",
      "std        77.705028\n",
      "min      -130.000000\n",
      "25%        -9.640000\n",
      "50%        40.075000\n",
      "75%        80.120000\n",
      "max       588.277200\n",
      "Name: total_cost, dtype: float64\n",
      "\n",
      "Estadísticas descriptivas para el plan Ultimate:\n",
      "count    712.000000\n",
      "mean     -18.247191\n",
      "std       52.923697\n",
      "min     -133.000000\n",
      "25%      -49.000000\n",
      "50%      -21.000000\n",
      "75%        7.000000\n",
      "max      182.000000\n",
      "Name: total_cost, dtype: float64\n"
     ]
    }
   ],
   "source": [
    "# Filtrar los datos para obtener los ingresos por plan\n",
    "surf_ingresos = df_user_data[df_user_data['plan'] == 'surf']['total_cost'].dropna()\n",
    "ultimate_ingresos = df_user_data[df_user_data['plan'] == 'ultimate']['total_cost'].dropna()\n",
    "\n",
    "# Calcular estadísticas descriptivas\n",
    "surf_stats = surf_ingresos.describe()\n",
    "ultimate_stats = ultimate_ingresos.describe()\n",
    "\n",
    "# Imprimir las estadísticas descriptivas\n",
    "print(\"Estadísticas descriptivas para el plan Surf:\")\n",
    "print(surf_stats)\n",
    "\n",
    "print(\"\\nEstadísticas descriptivas para el plan Ultimate:\")\n",
    "print(ultimate_stats)"
   ]
  },
  {
   "cell_type": "code",
   "execution_count": 36,
   "metadata": {
    "id": "0Y1v8ZUz0q1P"
   },
   "outputs": [
    {
     "data": {
      "image/png": "[encoded data removed]",
      "text/plain": [
       "<Figure size 800x600 with 1 Axes>"
      ]
     },
     "metadata": {},
     "output_type": "display_data"
    }
   ],
   "source": [
    "# Crear un DataFrame con los ingresos por plan\n",
    "data_ingresos = pd.DataFrame({'Plan Surf': surf_ingresos, 'Plan Ultimate': ultimate_ingresos})\n",
    "\n",
    "# Trazar el diagrama de caja\n",
    "pl.figure(figsize=(8, 6))\n",
    "sns.boxplot(data=data_ingresos, palette='Set2')\n",
    "pl.title('Distribución de los ingresos mensuales por plan')\n",
    "pl.ylabel('Ingresos mensuales (USD)')\n",
    "pl.xlabel('Plan')\n",
    "pl.show()"
   ]
  },
  {
   "cell_type": "code",
   "execution_count": 37,
   "metadata": {
    "id": "bYmwxyVh0q1P"
   },
   "outputs": [
    {
     "name": "stdout",
     "output_type": "stream",
     "text": [
      "Media de ingresos mensuales del plan Surf: 38.071564507772024\n",
      "Varianza de ingresos mensuales del plan Surf: 6038.071374452402\n",
      "Media de ingresos mensuales del plan Ultimate: -18.247191011235955\n",
      "Varianza de ingresos mensuales del plan Ultimate: 2800.9177136174717\n"
     ]
    }
   ],
   "source": [
    "# Comparar las medias y las varianzas\n",
    "surf_mean = surf_ingresos.mean()\n",
    "ultimate_mean = ultimate_ingresos.mean()\n",
    "\n",
    "surf_variance = surf_ingresos.var()\n",
    "ultimate_variance = ultimate_ingresos.var()\n",
    "\n",
    "print(f\"Media de ingresos mensuales del plan Surf: {surf_mean}\")\n",
    "print(f\"Varianza de ingresos mensuales del plan Surf: {surf_variance}\")\n",
    "\n",
    "print(f\"Media de ingresos mensuales del plan Ultimate: {ultimate_mean}\")\n",
    "print(f\"Varianza de ingresos mensuales del plan Ultimate: {ultimate_variance}\")"
   ]
  },
  {
   "cell_type": "markdown",
   "metadata": {
    "id": "KAFidcXZ0q1P"
   },
   "source": [
    "[Elabora las conclusiones sobre cómo difiere el ingreso entre los planes.]\n",
    "\n",
    "<font color='#571EEB'>Al realizar un análisis sobre los ingresos de los diferentes planes, se tiene que los usuarios del plan Surf tienen a ocupar mas internet, minutos de llamadas y mensajes pasandose del límite del plan, haciendo que tengan que pagar mucho más. En cambio para los usuarios del plan Ultimate rara vez se pasan de los límites del plan.</font>"
   ]
  },
  {
   "cell_type": "markdown",
   "metadata": {},
   "source": [
    "<div class=\"alert alert-block alert-success\">\n",
    "<b>Comentario revisor</b> <a class=\"tocSkip\"></a>\n",
    "\n",
    " Muy buena prática la de usar distintos tipos de gráficas identificar algunos hallazgos y llegar a conclusiones. En este caso las gráficas de box-plots nos ayudan a identificar outiers que pueden sesgar nuestros resultados, especificamente las pruebas de hipótesis. Es por ello que con estás gráficas puedes complementar el análisis eliminando los valores atipicos. \n",
    "</div>"
   ]
  },
  {
   "cell_type": "markdown",
   "metadata": {
    "id": "ajJ7VKeI0q1Q"
   },
   "source": [
    "## Prueba las hipótesis estadísticas"
   ]
  },
  {
   "cell_type": "markdown",
   "metadata": {
    "id": "AdXAZ-yL0q1Q"
   },
   "source": [
    "[Prueba la hipótesis de que son diferentes los ingresos promedio procedentes de los usuarios de los planes de llamada Ultimate y Surf.]"
   ]
  },
  {
   "cell_type": "markdown",
   "metadata": {
    "id": "IQwa_hsh0q1Q"
   },
   "source": [
    "[Elabora las hipótesis nula y alternativa, escoge la prueba estadística, determina el valor alfa.]"
   ]
  },
  {
   "cell_type": "code",
   "execution_count": 38,
   "metadata": {
    "id": "nFoPNlPq0q1R"
   },
   "outputs": [
    {
     "name": "stdout",
     "output_type": "stream",
     "text": [
      "T-statistic: 20.108018492070524\n",
      "P-value: 7.5501835556955e-82\n",
      "Rechazamos la hipótesis nula. Los ingresos promedio son significativamente diferentes entre los planes Ultimate y Surf.\n"
     ]
    }
   ],
   "source": [
    "# Prueba las hipótesis\n",
    "\n",
    "from scipy import stats as st\n",
    "\n",
    "#Formular las Hipòtesis= \n",
    "# Hipótesis nula (H0): Los ingresos promedio de los usuarios del plan Ultimate son iguales a los \n",
    "# ingresos promedio de los usuarios del plan Surf.\n",
    "\n",
    "# Hipótesis alternativa (H1): Los ingresos promedio de los usuarios del plan Ultimate son \n",
    "# diferentes de los ingresos promedio de los usuarios del plan Surf.\n",
    "\n",
    "# Se necesitarà realizar una Hipótesis sobre la igualdad de las medias de dos poblaciones.\n",
    "\n",
    "# Filtrar los datos para obtener los ingresos por plan\n",
    "surf_ingresos = df_user_data[df_user_data['plan'] == 'surf']['total_cost'].dropna()\n",
    "ultimate_ingresos = df_user_data[df_user_data['plan'] == 'ultimate']['total_cost'].dropna()\n",
    "\n",
    "# Realizar la prueba t para muestras independientes\n",
    "t_stat, p_value = st.ttest_ind(surf_ingresos, ultimate_ingresos, equal_var=False)  # Usamos equal_var=False porque las varianzas son diferentes\n",
    "\n",
    "# Imprimir los resultados\n",
    "print(f\"T-statistic: {t_stat}\")\n",
    "print(f\"P-value: {p_value}\")\n",
    "\n",
    "# Determinar si rechazamos o no la hipótesis nula\n",
    "alpha = 0.05\n",
    "if p_value < alpha:\n",
    "    print(\"Rechazamos la hipótesis nula. Los ingresos promedio son significativamente diferentes entre los planes Ultimate y Surf.\")\n",
    "else:\n",
    "    print(\"No podemos rechazar la hipótesis nula. No hay evidencia suficiente para afirmar que los ingresos promedio son diferentes entre los planes Ultimate y Surf.\")"
   ]
  },
  {
   "cell_type": "markdown",
   "metadata": {
    "id": "tCcAruM60q1R"
   },
   "source": [
    "[Prueba la hipótesis de que el ingreso promedio de los usuarios del área NY-NJ es diferente al de los usuarios de otras regiones.]"
   ]
  },
  {
   "cell_type": "markdown",
   "metadata": {
    "id": "LsBgitqj0q1R"
   },
   "source": [
    "[Elabora las hipótesis nula y alternativa, escoge la prueba estadística, determina el valor alfa.]"
   ]
  },
  {
   "cell_type": "code",
   "execution_count": 39,
   "metadata": {
    "id": "Cqcj7wrZ0q1S"
   },
   "outputs": [
    {
     "name": "stdout",
     "output_type": "stream",
     "text": [
      "T-statistic: 2.4715068148188593\n",
      "P-value: 0.013750023076515456\n",
      "Rechazamos la hipótesis nula. Los ingresos promedio son significativamente diferentes entre NY-NJ y otras regiones.\n"
     ]
    }
   ],
   "source": [
    "# Prueba las hipótesis\n",
    "\n",
    "#Necesito extraer la columna city de df_users e incluirla en mi dataframe \"df_user_data\"\n",
    "\n",
    "# Selecciona solo la columna 'user_id' y 'city' de df_users\n",
    "df_users_city = df_users[['user_id', 'city']]\n",
    "\n",
    "# Realiza la fusión\n",
    "df_user_data = pd.merge(df_user_data, df_users_city, on='user_id', how='left')\n",
    "\n",
    "#Formular las Hipòtesis= \n",
    "# Hipótesis nula (H0): El ingreso promedio de los usuarios del área NY-NJ es igual al ingreso \n",
    "# promedio de los usuarios de otras regiones.\n",
    "\n",
    "# Hipótesis alternativa (H1): El ingreso promedio de los usuarios del área NY-NJ es diferente al\n",
    "# ingreso promedio de los usuarios de otras regiones \n",
    "\n",
    "# Se necesitarà realizar una Hipótesis sobre la igualdad de las medias de dos poblaciones.\n",
    "\n",
    "# Filtrar los datos para obtener los ingresos por región\n",
    "ny_nj_ingresos = df_user_data[df_user_data['city'] == 'New York-Newark-Jersey City, NY-NJ-PA MSA']['total_cost'].dropna()\n",
    "otras_regiones_ingresos = df_user_data[df_user_data['city'] != 'New York-Newark-Jersey City, NY-NJ-PA MSA']['total_cost'].dropna()\n",
    "\n",
    "# Realizar la prueba t para muestras independientes\n",
    "t_stat, p_value = st.ttest_ind(ny_nj_ingresos, otras_regiones_ingresos, equal_var=False)  # Usamos equal_var=False porque las varianzas pueden ser diferentes\n",
    "\n",
    "# Imprimir los resultados\n",
    "print(f\"T-statistic: {t_stat}\")\n",
    "print(f\"P-value: {p_value}\")\n",
    "\n",
    "# Determinar si rechazamos o no la hipótesis nula\n",
    "alpha = 0.05\n",
    "if p_value < alpha:\n",
    "    print(\"Rechazamos la hipótesis nula. Los ingresos promedio son significativamente diferentes entre NY-NJ y otras regiones.\")\n",
    "else:\n",
    "    print(\"No podemos rechazar la hipótesis nula. No hay evidencia suficiente para afirmar que los ingresos promedio son diferentes entre NY-NJ y otras regiones.\")\n"
   ]
  },
  {
   "cell_type": "markdown",
   "metadata": {
    "id": "bbTR8UQO0q1T"
   },
   "source": [
    "## Conclusión general\n",
    "\n",
    "[En esta sección final, enumera tus conclusiones importantes. Asegúrate de que estas abarquen todas las decisiones (suposiciones) importantes que adoptaste y que determinaron la forma elegida para procesar y analizar los datos.]\n",
    "\n",
    "<font color='#571EEB'>Como conclusiones generales se tiene: \n",
    " a.- El plan suft tiene a generar muchos más ingresos que el plan ultimate, debido a que los usuarios tienen a sobrepasar los límites de cada uno de los servicios antes de empezar a cobrar extras.   \n",
    " b.- Aun que no se haya realizado un análisis exhaustivo de que plan genera la mayor parte de las ganancias en el estado de New York-Newark-Jersey City, si se puede decir, que los usuarios de este estado los ingresos son significativamente diferentes a otras regiones del país.   \n",
    " c.- Aun que la distribución de la duración mensual de llamadas por plan tienden a ser relativamente iguales, el plan surf tiene a generar mas ingresos por la mayor cantidad de valores atípicos. Es decir, existe mayor cantidad de usuarios que sobrepasan los límites del plan.   \n",
    " d.- Para incrementar las ganancias de la empresa, se puede considerar varias estrategias basadas en el análisis de los ingresos: i) Incrementar ligeramente el costo mensual del plan Surf a cambio de aumentar los límites de minutos, SMS y datos incluidos. Esto puede hacer que el plan sea más atractivo para los usuarios que actualmente exceden sus límites y pagan cargos adicionales. ii) Mantener el costo mensual igual, pero reducir los cargos por excedentes. Esto podría atraer a más usuarios al plan Surf, especialmente aquellos que temen los cargos adicionales. iii) Dado que hay una gran diferencia en precio y beneficios entre Surf y Ultimate, podría ser beneficioso crear un plan intermedio que cubra las necesidades de usuarios que necesitan más de lo que ofrece Surf pero no tanto como lo que ofrece Ultimate.\n",
    "\n",
    "</font>"
   ]
  },
  {
   "cell_type": "markdown",
   "metadata": {},
   "source": [
    "<div class=\"alert alert-block alert-success\">\n",
    "<b>Comentario del revisor</b> <a class=\"tocSkip\"></a>\n",
    "\n",
    "Muy buen trabajo con los ajustes! Que sigas disfrutando los siguientes cursos!\n",
    "</div>"
   ]
  }
 ],
 "metadata": {
  "ExecuteTimeLog": [
   {
    "duration": 828,
    "start_time": "2021-11-16T09:21:11.304Z"
   },
   {
    "duration": 893,
    "start_time": "2021-11-16T09:21:17.728Z"
   },
   {
    "duration": 1150,
    "start_time": "2021-11-16T09:21:29.568Z"
   },
   {
    "duration": 3,
    "start_time": "2021-11-16T09:24:14.495Z"
   },
   {
    "duration": 120,
    "start_time": "2021-11-16T09:24:46.630Z"
   },
   {
    "duration": 3,
    "start_time": "2021-11-16T09:28:27.882Z"
   },
   {
    "duration": 4,
    "start_time": "2021-11-16T09:29:54.281Z"
   },
   {
    "duration": 3,
    "start_time": "2021-11-16T09:30:45.936Z"
   },
   {
    "duration": 4,
    "start_time": "2021-11-16T09:31:06.300Z"
   },
   {
    "duration": 113,
    "start_time": "2021-11-16T09:31:37.208Z"
   },
   {
    "duration": 143,
    "start_time": "2021-11-16T09:31:48.656Z"
   },
   {
    "duration": 98,
    "start_time": "2021-11-16T09:31:55.678Z"
   },
   {
    "duration": 3,
    "start_time": "2021-11-16T09:32:08.535Z"
   },
   {
    "duration": 111,
    "start_time": "2021-11-16T09:32:10.120Z"
   },
   {
    "duration": 3,
    "start_time": "2021-11-16T09:32:15.732Z"
   },
   {
    "duration": 4,
    "start_time": "2021-11-16T09:32:29.423Z"
   },
   {
    "duration": 3,
    "start_time": "2021-11-16T10:03:03.074Z"
   },
   {
    "duration": 3,
    "start_time": "2021-11-16T10:10:01.288Z"
   },
   {
    "duration": 3,
    "start_time": "2021-11-16T10:10:46.923Z"
   },
   {
    "duration": 121,
    "start_time": "2021-11-16T10:37:46.494Z"
   },
   {
    "duration": 125,
    "start_time": "2021-11-16T10:38:20.632Z"
   },
   {
    "duration": 112,
    "start_time": "2021-11-16T10:46:53.001Z"
   },
   {
    "duration": 110,
    "start_time": "2021-11-16T10:48:25.775Z"
   },
   {
    "duration": 3,
    "start_time": "2021-11-16T10:50:18.720Z"
   },
   {
    "duration": 4,
    "start_time": "2021-11-16T10:50:37.649Z"
   },
   {
    "duration": 2,
    "start_time": "2021-11-16T10:50:51.884Z"
   },
   {
    "duration": 3,
    "start_time": "2021-11-16T10:51:56.237Z"
   },
   {
    "duration": 101,
    "start_time": "2021-11-16T10:53:13.791Z"
   },
   {
    "duration": 3,
    "start_time": "2021-11-16T10:55:59.186Z"
   },
   {
    "duration": 3,
    "start_time": "2021-11-16T10:56:10.751Z"
   },
   {
    "duration": 3,
    "start_time": "2021-11-16T10:56:49.038Z"
   },
   {
    "duration": 3,
    "start_time": "2021-11-16T10:56:49.174Z"
   },
   {
    "duration": 4,
    "start_time": "2021-11-16T10:56:49.414Z"
   },
   {
    "duration": 3,
    "start_time": "2021-11-16T10:56:49.680Z"
   },
   {
    "duration": 3,
    "start_time": "2021-11-16T10:56:50.370Z"
   },
   {
    "duration": 114,
    "start_time": "2021-11-16T10:59:34.518Z"
   },
   {
    "duration": 3,
    "start_time": "2021-11-16T11:01:41.201Z"
   },
   {
    "duration": 116,
    "start_time": "2021-11-16T11:01:48.754Z"
   },
   {
    "duration": 3,
    "start_time": "2021-11-16T11:02:16.685Z"
   },
   {
    "duration": 3,
    "start_time": "2021-11-16T11:02:19.479Z"
   },
   {
    "duration": 3,
    "start_time": "2021-11-16T11:02:47.067Z"
   },
   {
    "duration": 3,
    "start_time": "2021-11-16T11:02:49.353Z"
   },
   {
    "duration": 3,
    "start_time": "2021-11-16T11:03:07.835Z"
   },
   {
    "duration": 3,
    "start_time": "2021-11-16T11:03:07.953Z"
   },
   {
    "duration": 112,
    "start_time": "2021-11-16T11:07:52.072Z"
   },
   {
    "duration": 187,
    "start_time": "2021-11-16T11:09:23.468Z"
   },
   {
    "duration": 4,
    "start_time": "2021-11-16T11:10:01.455Z"
   },
   {
    "duration": 3,
    "start_time": "2021-11-16T11:10:05.069Z"
   },
   {
    "duration": 4,
    "start_time": "2021-11-16T11:10:13.376Z"
   },
   {
    "duration": 3,
    "start_time": "2021-11-16T11:10:14.434Z"
   },
   {
    "duration": 3,
    "start_time": "2021-11-16T11:10:22.853Z"
   },
   {
    "duration": 4,
    "start_time": "2021-11-16T11:27:29.279Z"
   },
   {
    "duration": 4,
    "start_time": "2021-11-16T11:29:08.919Z"
   },
   {
    "duration": 118,
    "start_time": "2021-11-16T11:29:46.703Z"
   },
   {
    "duration": 437,
    "start_time": "2021-11-16T11:36:02.181Z"
   },
   {
    "duration": 157,
    "start_time": "2021-11-16T11:36:14.388Z"
   },
   {
    "duration": 207,
    "start_time": "2021-11-16T11:47:15.898Z"
   },
   {
    "duration": 3,
    "start_time": "2021-11-16T11:53:52.092Z"
   },
   {
    "duration": 3,
    "start_time": "2021-11-16T11:53:52.236Z"
   },
   {
    "duration": 3,
    "start_time": "2021-11-16T11:59:12.005Z"
   },
   {
    "duration": 112,
    "start_time": "2021-11-16T12:00:33.446Z"
   },
   {
    "duration": 3,
    "start_time": "2021-11-16T12:02:14.453Z"
   },
   {
    "duration": 3,
    "start_time": "2021-11-16T12:02:39.512Z"
   },
   {
    "duration": 106,
    "start_time": "2021-11-16T12:03:03.460Z"
   },
   {
    "duration": 3,
    "start_time": "2021-11-17T20:37:21.139Z"
   },
   {
    "duration": 3,
    "start_time": "2021-11-17T20:37:22.229Z"
   },
   {
    "duration": 3,
    "start_time": "2021-11-17T20:38:38.806Z"
   },
   {
    "duration": 3,
    "start_time": "2021-11-17T20:38:41.958Z"
   },
   {
    "duration": 3,
    "start_time": "2021-11-17T20:43:46.551Z"
   },
   {
    "duration": 4,
    "start_time": "2021-11-17T20:58:21.835Z"
   },
   {
    "duration": 3,
    "start_time": "2021-11-17T20:59:21.872Z"
   },
   {
    "duration": 4,
    "start_time": "2021-11-17T20:59:45.352Z"
   },
   {
    "duration": 4,
    "start_time": "2021-11-17T20:59:49.646Z"
   },
   {
    "duration": 159,
    "start_time": "2021-11-17T21:02:26.949Z"
   },
   {
    "duration": 3,
    "start_time": "2021-11-17T21:03:53.461Z"
   },
   {
    "duration": 3,
    "start_time": "2021-11-17T21:03:53.694Z"
   },
   {
    "duration": 3,
    "start_time": "2021-11-17T21:05:28.145Z"
   },
   {
    "duration": 116,
    "start_time": "2021-11-17T21:05:57.787Z"
   },
   {
    "duration": 3,
    "start_time": "2021-11-17T21:06:37.993Z"
   },
   {
    "duration": 3,
    "start_time": "2021-11-17T21:06:38.261Z"
   },
   {
    "duration": 3,
    "start_time": "2021-11-17T21:11:54.358Z"
   },
   {
    "duration": 3,
    "start_time": "2021-11-17T21:12:43.846Z"
   },
   {
    "duration": 4,
    "start_time": "2021-11-17T21:13:08.773Z"
   },
   {
    "duration": 3,
    "start_time": "2021-11-17T21:14:44.441Z"
   },
   {
    "duration": 3,
    "start_time": "2021-11-17T21:15:42.059Z"
   },
   {
    "duration": 4,
    "start_time": "2021-11-17T21:15:51.995Z"
   },
   {
    "duration": 3,
    "start_time": "2021-11-17T21:15:53.923Z"
   },
   {
    "duration": 3,
    "start_time": "2021-11-17T21:15:55.282Z"
   },
   {
    "duration": 3,
    "start_time": "2021-11-17T21:16:28.492Z"
   },
   {
    "duration": 3,
    "start_time": "2021-11-17T21:16:32.603Z"
   },
   {
    "duration": 3,
    "start_time": "2021-11-17T21:17:06.941Z"
   },
   {
    "duration": 98,
    "start_time": "2021-11-17T21:18:05.733Z"
   },
   {
    "duration": 4,
    "start_time": "2021-11-17T21:21:35.255Z"
   },
   {
    "duration": 3,
    "start_time": "2021-11-17T21:21:37.804Z"
   },
   {
    "duration": 4,
    "start_time": "2021-11-17T21:23:06.071Z"
   },
   {
    "duration": 3,
    "start_time": "2021-11-17T21:23:24.799Z"
   },
   {
    "duration": 3,
    "start_time": "2021-11-17T21:23:32.591Z"
   },
   {
    "duration": 98,
    "start_time": "2021-11-17T21:28:31.559Z"
   },
   {
    "duration": 3,
    "start_time": "2021-11-17T21:28:45.448Z"
   },
   {
    "duration": 3,
    "start_time": "2021-11-17T21:29:17.303Z"
   },
   {
    "duration": 3,
    "start_time": "2021-11-17T21:29:29.617Z"
   },
   {
    "duration": 3,
    "start_time": "2021-11-17T21:29:32.681Z"
   },
   {
    "duration": 3,
    "start_time": "2021-11-17T21:36:11.474Z"
   },
   {
    "duration": 3,
    "start_time": "2021-11-17T21:36:14.791Z"
   },
   {
    "duration": 3,
    "start_time": "2021-11-17T21:36:53.943Z"
   },
   {
    "duration": 3,
    "start_time": "2021-11-17T21:36:56.165Z"
   },
   {
    "duration": 4,
    "start_time": "2021-11-17T21:37:16.590Z"
   },
   {
    "duration": 3,
    "start_time": "2021-11-17T21:37:22.702Z"
   },
   {
    "duration": 4,
    "start_time": "2021-11-17T21:38:03.479Z"
   },
   {
    "duration": 3,
    "start_time": "2021-11-17T21:38:08.601Z"
   },
   {
    "duration": 3,
    "start_time": "2021-11-17T21:38:12.928Z"
   },
   {
    "duration": 3,
    "start_time": "2021-11-17T21:38:48.896Z"
   },
   {
    "duration": 2,
    "start_time": "2021-11-17T21:38:49.171Z"
   },
   {
    "duration": 4,
    "start_time": "2021-11-17T21:39:57.889Z"
   },
   {
    "duration": 3,
    "start_time": "2021-11-17T21:39:58.057Z"
   },
   {
    "duration": 3,
    "start_time": "2021-11-17T21:41:20.108Z"
   },
   {
    "duration": 3,
    "start_time": "2021-11-17T21:41:20.629Z"
   },
   {
    "duration": 3,
    "start_time": "2021-11-17T21:42:49.136Z"
   },
   {
    "duration": 3,
    "start_time": "2021-11-17T21:43:15.137Z"
   },
   {
    "duration": 4,
    "start_time": "2021-11-17T21:43:16.766Z"
   },
   {
    "duration": 4,
    "start_time": "2021-11-17T21:43:31.711Z"
   },
   {
    "duration": 3,
    "start_time": "2021-11-17T21:43:36.312Z"
   },
   {
    "duration": 4,
    "start_time": "2021-11-17T21:45:08.825Z"
   },
   {
    "duration": 4,
    "start_time": "2021-11-17T21:45:10.119Z"
   },
   {
    "duration": 4,
    "start_time": "2021-11-17T21:45:13.748Z"
   },
   {
    "duration": 3,
    "start_time": "2021-11-17T21:45:22.219Z"
   },
   {
    "duration": 3,
    "start_time": "2021-11-17T21:45:33.412Z"
   },
   {
    "duration": 2,
    "start_time": "2021-11-17T21:46:01.885Z"
   },
   {
    "duration": 3,
    "start_time": "2021-11-17T21:46:03.628Z"
   },
   {
    "duration": 107,
    "start_time": "2021-11-17T21:47:32.512Z"
   },
   {
    "duration": 103,
    "start_time": "2021-11-17T21:50:36.243Z"
   },
   {
    "duration": 3,
    "start_time": "2021-11-18T06:28:31.440Z"
   },
   {
    "duration": 3,
    "start_time": "2021-11-18T06:29:00.168Z"
   },
   {
    "duration": 3,
    "start_time": "2021-11-18T06:31:27.008Z"
   },
   {
    "duration": 2,
    "start_time": "2021-11-18T06:35:34.288Z"
   },
   {
    "duration": 2,
    "start_time": "2021-11-18T06:38:04.527Z"
   },
   {
    "duration": 4348,
    "start_time": "2024-06-08T22:43:17.631Z"
   },
   {
    "duration": 373,
    "start_time": "2024-06-08T22:48:39.831Z"
   },
   {
    "duration": 415,
    "start_time": "2024-06-08T22:49:19.887Z"
   },
   {
    "duration": 563,
    "start_time": "2024-06-08T22:53:41.891Z"
   },
   {
    "duration": 57,
    "start_time": "2024-06-08T22:55:04.122Z"
   },
   {
    "duration": 21,
    "start_time": "2024-06-08T22:55:32.060Z"
   },
   {
    "duration": 70,
    "start_time": "2024-06-08T22:55:59.874Z"
   },
   {
    "duration": 19,
    "start_time": "2024-06-08T22:57:02.834Z"
   },
   {
    "duration": 15,
    "start_time": "2024-06-08T22:57:21.936Z"
   },
   {
    "duration": 10,
    "start_time": "2024-06-08T22:57:25.576Z"
   },
   {
    "duration": 23,
    "start_time": "2024-06-08T23:24:35.758Z"
   },
   {
    "duration": 10,
    "start_time": "2024-06-08T23:24:41.997Z"
   },
   {
    "duration": 17,
    "start_time": "2024-06-08T23:24:46.806Z"
   },
   {
    "duration": 9,
    "start_time": "2024-06-08T23:28:12.537Z"
   },
   {
    "duration": 9,
    "start_time": "2024-06-08T23:29:17.962Z"
   },
   {
    "duration": 11,
    "start_time": "2024-06-08T23:40:13.817Z"
   },
   {
    "duration": 16,
    "start_time": "2024-06-08T23:40:34.507Z"
   },
   {
    "duration": 12,
    "start_time": "2024-06-08T23:46:58.483Z"
   },
   {
    "duration": 25,
    "start_time": "2024-06-09T00:03:01.132Z"
   },
   {
    "duration": 12,
    "start_time": "2024-06-09T00:03:37.113Z"
   },
   {
    "duration": 12,
    "start_time": "2024-06-09T00:03:58.234Z"
   },
   {
    "duration": 11,
    "start_time": "2024-06-09T00:06:15.022Z"
   },
   {
    "duration": 15,
    "start_time": "2024-06-09T00:06:39.573Z"
   },
   {
    "duration": 13,
    "start_time": "2024-06-09T00:10:06.476Z"
   },
   {
    "duration": 17,
    "start_time": "2024-06-09T00:10:17.019Z"
   },
   {
    "duration": 863,
    "start_time": "2024-06-09T00:10:23.270Z"
   },
   {
    "duration": 15,
    "start_time": "2024-06-09T00:10:27.466Z"
   },
   {
    "duration": 15,
    "start_time": "2024-06-09T00:10:34.426Z"
   },
   {
    "duration": 16,
    "start_time": "2024-06-09T00:10:44.449Z"
   },
   {
    "duration": 12,
    "start_time": "2024-06-09T00:12:52.696Z"
   },
   {
    "duration": 142,
    "start_time": "2024-06-09T00:13:36.584Z"
   },
   {
    "duration": 69,
    "start_time": "2024-06-09T00:14:07.778Z"
   },
   {
    "duration": 63,
    "start_time": "2024-06-09T00:14:17.775Z"
   },
   {
    "duration": 77,
    "start_time": "2024-06-09T00:14:23.535Z"
   },
   {
    "duration": 80,
    "start_time": "2024-06-09T00:14:28.927Z"
   },
   {
    "duration": 70,
    "start_time": "2024-06-09T00:14:36.496Z"
   },
   {
    "duration": 68,
    "start_time": "2024-06-09T00:14:40.910Z"
   },
   {
    "duration": 180,
    "start_time": "2024-06-09T00:21:30.140Z"
   },
   {
    "duration": 21,
    "start_time": "2024-06-09T02:57:54.592Z"
   },
   {
    "duration": 38,
    "start_time": "2024-06-09T02:58:57.571Z"
   },
   {
    "duration": 36,
    "start_time": "2024-06-09T02:59:15.631Z"
   },
   {
    "duration": 103,
    "start_time": "2024-06-09T02:59:22.647Z"
   },
   {
    "duration": 37,
    "start_time": "2024-06-09T02:59:26.255Z"
   },
   {
    "duration": 37,
    "start_time": "2024-06-09T02:59:43.398Z"
   },
   {
    "duration": 103,
    "start_time": "2024-06-09T03:01:01.230Z"
   },
   {
    "duration": 25,
    "start_time": "2024-06-09T03:07:28.136Z"
   },
   {
    "duration": 143,
    "start_time": "2024-06-09T03:08:35.224Z"
   },
   {
    "duration": 80,
    "start_time": "2024-06-09T03:08:50.336Z"
   },
   {
    "duration": 81,
    "start_time": "2024-06-09T03:08:58.808Z"
   },
   {
    "duration": 79,
    "start_time": "2024-06-09T03:09:07.423Z"
   },
   {
    "duration": 74,
    "start_time": "2024-06-09T03:09:29.342Z"
   },
   {
    "duration": 77,
    "start_time": "2024-06-09T03:09:43.214Z"
   },
   {
    "duration": 79,
    "start_time": "2024-06-09T03:12:21.637Z"
   },
   {
    "duration": 80,
    "start_time": "2024-06-09T03:12:46.076Z"
   },
   {
    "duration": 141,
    "start_time": "2024-06-09T03:13:23.405Z"
   },
   {
    "duration": 318,
    "start_time": "2024-06-09T23:53:42.232Z"
   },
   {
    "duration": 4287,
    "start_time": "2024-06-09T23:54:01.714Z"
   },
   {
    "duration": 381,
    "start_time": "2024-06-09T23:54:07.868Z"
   },
   {
    "duration": 16,
    "start_time": "2024-06-09T23:54:10.596Z"
   },
   {
    "duration": 12,
    "start_time": "2024-06-09T23:54:12.395Z"
   },
   {
    "duration": 14,
    "start_time": "2024-06-09T23:54:15.410Z"
   },
   {
    "duration": 14,
    "start_time": "2024-06-09T23:54:18.381Z"
   },
   {
    "duration": 18,
    "start_time": "2024-06-09T23:54:21.562Z"
   },
   {
    "duration": 11,
    "start_time": "2024-06-09T23:54:23.637Z"
   },
   {
    "duration": 27,
    "start_time": "2024-06-09T23:54:25.714Z"
   },
   {
    "duration": 72,
    "start_time": "2024-06-09T23:54:27.819Z"
   },
   {
    "duration": 168,
    "start_time": "2024-06-09T23:54:30.395Z"
   },
   {
    "duration": 20,
    "start_time": "2024-06-09T23:54:33.537Z"
   },
   {
    "duration": 35,
    "start_time": "2024-06-09T23:54:35.322Z"
   },
   {
    "duration": 98,
    "start_time": "2024-06-09T23:54:37.826Z"
   },
   {
    "duration": 23,
    "start_time": "2024-06-09T23:54:40.359Z"
   },
   {
    "duration": 82,
    "start_time": "2024-06-09T23:54:42.569Z"
   },
   {
    "duration": 142,
    "start_time": "2024-06-09T23:54:45.865Z"
   },
   {
    "duration": 8,
    "start_time": "2024-06-09T23:54:48.908Z"
   },
   {
    "duration": 157,
    "start_time": "2024-06-10T00:21:06.614Z"
   },
   {
    "duration": 286,
    "start_time": "2024-06-10T00:30:40.470Z"
   },
   {
    "duration": 24,
    "start_time": "2024-06-10T00:30:52.391Z"
   },
   {
    "duration": 53,
    "start_time": "2024-06-10T00:30:56.774Z"
   },
   {
    "duration": 42,
    "start_time": "2024-06-10T00:32:04.438Z"
   },
   {
    "duration": 38,
    "start_time": "2024-06-10T00:32:12.559Z"
   },
   {
    "duration": 41,
    "start_time": "2024-06-10T00:34:08.563Z"
   },
   {
    "duration": 36,
    "start_time": "2024-06-10T00:34:20.782Z"
   },
   {
    "duration": 35,
    "start_time": "2024-06-10T00:34:24.592Z"
   },
   {
    "duration": 37,
    "start_time": "2024-06-10T00:43:43.501Z"
   },
   {
    "duration": 36,
    "start_time": "2024-06-10T00:57:53.245Z"
   },
   {
    "duration": 591,
    "start_time": "2024-06-10T00:58:20.250Z"
   },
   {
    "duration": 54,
    "start_time": "2024-06-10T00:59:36.592Z"
   },
   {
    "duration": 31,
    "start_time": "2024-06-10T00:59:46.348Z"
   },
   {
    "duration": 31,
    "start_time": "2024-06-10T01:01:10.986Z"
   },
   {
    "duration": 30,
    "start_time": "2024-06-10T01:01:48.652Z"
   },
   {
    "duration": 36,
    "start_time": "2024-06-10T01:13:51.843Z"
   },
   {
    "duration": 25,
    "start_time": "2024-06-10T01:14:47.747Z"
   },
   {
    "duration": 26,
    "start_time": "2024-06-10T01:16:32.976Z"
   },
   {
    "duration": 62,
    "start_time": "2024-06-10T02:25:13.074Z"
   },
   {
    "duration": 43,
    "start_time": "2024-06-10T02:25:21.683Z"
   },
   {
    "duration": 900,
    "start_time": "2024-06-10T02:25:50.253Z"
   },
   {
    "duration": 37,
    "start_time": "2024-06-10T02:26:55.316Z"
   },
   {
    "duration": 44,
    "start_time": "2024-06-10T02:27:27.019Z"
   },
   {
    "duration": 119,
    "start_time": "2024-06-10T02:29:41.166Z"
   },
   {
    "duration": 44,
    "start_time": "2024-06-10T02:30:53.171Z"
   },
   {
    "duration": 41,
    "start_time": "2024-06-10T02:43:28.386Z"
   },
   {
    "duration": 33,
    "start_time": "2024-06-10T02:45:35.325Z"
   },
   {
    "duration": 26,
    "start_time": "2024-06-10T02:46:30.487Z"
   },
   {
    "duration": 4304,
    "start_time": "2024-06-10T18:37:02.575Z"
   },
   {
    "duration": 361,
    "start_time": "2024-06-10T18:37:08.184Z"
   },
   {
    "duration": 15,
    "start_time": "2024-06-10T18:37:11.031Z"
   },
   {
    "duration": 13,
    "start_time": "2024-06-10T18:37:13.072Z"
   },
   {
    "duration": 13,
    "start_time": "2024-06-10T18:37:16.350Z"
   },
   {
    "duration": 14,
    "start_time": "2024-06-10T18:37:18.809Z"
   },
   {
    "duration": 16,
    "start_time": "2024-06-10T18:37:22.006Z"
   },
   {
    "duration": 12,
    "start_time": "2024-06-10T18:37:24.217Z"
   },
   {
    "duration": 25,
    "start_time": "2024-06-10T18:37:26.665Z"
   },
   {
    "duration": 73,
    "start_time": "2024-06-10T18:37:28.495Z"
   },
   {
    "duration": 46,
    "start_time": "2024-06-10T18:37:30.763Z"
   },
   {
    "duration": 19,
    "start_time": "2024-06-10T18:37:33.776Z"
   },
   {
    "duration": 47,
    "start_time": "2024-06-10T18:37:35.574Z"
   },
   {
    "duration": 31,
    "start_time": "2024-06-10T18:37:38.099Z"
   },
   {
    "duration": 24,
    "start_time": "2024-06-10T18:37:41.086Z"
   },
   {
    "duration": 76,
    "start_time": "2024-06-10T18:37:43.065Z"
   },
   {
    "duration": 40,
    "start_time": "2024-06-10T18:37:45.917Z"
   },
   {
    "duration": 8,
    "start_time": "2024-06-10T18:37:48.515Z"
   },
   {
    "duration": 41,
    "start_time": "2024-06-10T18:37:50.792Z"
   },
   {
    "duration": 40,
    "start_time": "2024-06-10T18:37:52.959Z"
   },
   {
    "duration": 33,
    "start_time": "2024-06-10T18:37:56.003Z"
   },
   {
    "duration": 29,
    "start_time": "2024-06-10T18:37:59.894Z"
   },
   {
    "duration": 27,
    "start_time": "2024-06-10T18:38:02.653Z"
   },
   {
    "duration": 307,
    "start_time": "2024-06-10T19:14:22.158Z"
   },
   {
    "duration": 4565,
    "start_time": "2024-06-10T19:14:34.037Z"
   },
   {
    "duration": 342,
    "start_time": "2024-06-10T19:14:40.498Z"
   },
   {
    "duration": 15,
    "start_time": "2024-06-10T19:14:43.223Z"
   },
   {
    "duration": 13,
    "start_time": "2024-06-10T19:14:44.921Z"
   },
   {
    "duration": 14,
    "start_time": "2024-06-10T19:14:48.267Z"
   },
   {
    "duration": 14,
    "start_time": "2024-06-10T19:14:51.739Z"
   },
   {
    "duration": 16,
    "start_time": "2024-06-10T19:14:55.565Z"
   },
   {
    "duration": 12,
    "start_time": "2024-06-10T19:14:57.773Z"
   },
   {
    "duration": 26,
    "start_time": "2024-06-10T19:14:59.946Z"
   },
   {
    "duration": 76,
    "start_time": "2024-06-10T19:15:01.649Z"
   },
   {
    "duration": 49,
    "start_time": "2024-06-10T19:15:03.947Z"
   },
   {
    "duration": 21,
    "start_time": "2024-06-10T19:15:06.351Z"
   },
   {
    "duration": 48,
    "start_time": "2024-06-10T19:15:07.982Z"
   },
   {
    "duration": 30,
    "start_time": "2024-06-10T19:15:10.779Z"
   },
   {
    "duration": 21,
    "start_time": "2024-06-10T19:15:13.220Z"
   },
   {
    "duration": 76,
    "start_time": "2024-06-10T19:15:15.171Z"
   },
   {
    "duration": 37,
    "start_time": "2024-06-10T19:15:17.640Z"
   },
   {
    "duration": 8,
    "start_time": "2024-06-10T19:15:20.263Z"
   },
   {
    "duration": 41,
    "start_time": "2024-06-10T19:15:22.285Z"
   },
   {
    "duration": 42,
    "start_time": "2024-06-10T19:15:24.462Z"
   },
   {
    "duration": 39,
    "start_time": "2024-06-10T19:15:26.401Z"
   },
   {
    "duration": 38,
    "start_time": "2024-06-10T19:15:28.292Z"
   },
   {
    "duration": 30,
    "start_time": "2024-06-10T19:15:30.788Z"
   },
   {
    "duration": 307,
    "start_time": "2024-06-10T19:15:33.183Z"
   },
   {
    "duration": 36,
    "start_time": "2024-06-10T19:17:02.278Z"
   },
   {
    "duration": 25,
    "start_time": "2024-06-10T19:18:01.144Z"
   },
   {
    "duration": 34,
    "start_time": "2024-06-10T19:18:26.646Z"
   },
   {
    "duration": 48,
    "start_time": "2024-06-10T19:18:40.022Z"
   },
   {
    "duration": 45,
    "start_time": "2024-06-10T19:19:03.311Z"
   },
   {
    "duration": 73,
    "start_time": "2024-06-10T19:19:22.104Z"
   },
   {
    "duration": 93,
    "start_time": "2024-06-10T19:20:26.784Z"
   },
   {
    "duration": 85,
    "start_time": "2024-06-10T19:23:21.547Z"
   },
   {
    "duration": 89,
    "start_time": "2024-06-10T19:23:59.993Z"
   },
   {
    "duration": 82,
    "start_time": "2024-06-10T19:26:55.605Z"
   },
   {
    "duration": 681,
    "start_time": "2024-06-10T19:27:50.116Z"
   },
   {
    "duration": 339,
    "start_time": "2024-06-10T19:27:52.423Z"
   },
   {
    "duration": 18,
    "start_time": "2024-06-10T19:27:54.739Z"
   },
   {
    "duration": 14,
    "start_time": "2024-06-10T19:27:56.908Z"
   },
   {
    "duration": 15,
    "start_time": "2024-06-10T19:27:59.642Z"
   },
   {
    "duration": 18,
    "start_time": "2024-06-10T19:28:01.238Z"
   },
   {
    "duration": 20,
    "start_time": "2024-06-10T19:28:04.240Z"
   },
   {
    "duration": 15,
    "start_time": "2024-06-10T19:28:06.309Z"
   },
   {
    "duration": 28,
    "start_time": "2024-06-10T19:28:08.939Z"
   },
   {
    "duration": 69,
    "start_time": "2024-06-10T19:28:10.867Z"
   },
   {
    "duration": 46,
    "start_time": "2024-06-10T19:28:13.674Z"
   },
   {
    "duration": 20,
    "start_time": "2024-06-10T19:28:16.136Z"
   },
   {
    "duration": 35,
    "start_time": "2024-06-10T19:28:17.904Z"
   },
   {
    "duration": 31,
    "start_time": "2024-06-10T19:28:20.773Z"
   },
   {
    "duration": 23,
    "start_time": "2024-06-10T19:28:23.145Z"
   },
   {
    "duration": 74,
    "start_time": "2024-06-10T19:28:26.490Z"
   },
   {
    "duration": 38,
    "start_time": "2024-06-10T19:28:31.603Z"
   },
   {
    "duration": 9,
    "start_time": "2024-06-10T19:28:34.181Z"
   },
   {
    "duration": 37,
    "start_time": "2024-06-10T19:28:36.289Z"
   },
   {
    "duration": 36,
    "start_time": "2024-06-10T19:28:38.199Z"
   },
   {
    "duration": 31,
    "start_time": "2024-06-10T19:28:40.046Z"
   },
   {
    "duration": 31,
    "start_time": "2024-06-10T19:28:42.053Z"
   },
   {
    "duration": 363,
    "start_time": "2024-06-10T19:28:44.655Z"
   },
   {
    "duration": 51,
    "start_time": "2024-06-10T19:29:48.183Z"
   },
   {
    "duration": 282,
    "start_time": "2024-06-10T19:30:15.704Z"
   },
   {
    "duration": 27,
    "start_time": "2024-06-10T19:30:39.365Z"
   },
   {
    "duration": 32,
    "start_time": "2024-06-10T19:32:46.899Z"
   },
   {
    "duration": 31,
    "start_time": "2024-06-10T19:32:51.640Z"
   },
   {
    "duration": 670,
    "start_time": "2024-06-10T19:36:45.859Z"
   },
   {
    "duration": 312,
    "start_time": "2024-06-10T19:36:48.155Z"
   },
   {
    "duration": 16,
    "start_time": "2024-06-10T19:36:50.545Z"
   },
   {
    "duration": 13,
    "start_time": "2024-06-10T19:36:52.414Z"
   },
   {
    "duration": 18,
    "start_time": "2024-06-10T19:36:55.282Z"
   },
   {
    "duration": 13,
    "start_time": "2024-06-10T19:36:56.997Z"
   },
   {
    "duration": 16,
    "start_time": "2024-06-10T19:36:59.803Z"
   },
   {
    "duration": 12,
    "start_time": "2024-06-10T19:37:02.152Z"
   },
   {
    "duration": 34,
    "start_time": "2024-06-10T19:37:04.476Z"
   },
   {
    "duration": 71,
    "start_time": "2024-06-10T19:37:06.429Z"
   },
   {
    "duration": 49,
    "start_time": "2024-06-10T19:37:08.820Z"
   },
   {
    "duration": 18,
    "start_time": "2024-06-10T19:37:11.313Z"
   },
   {
    "duration": 36,
    "start_time": "2024-06-10T19:37:13.574Z"
   },
   {
    "duration": 30,
    "start_time": "2024-06-10T19:37:16.753Z"
   },
   {
    "duration": 22,
    "start_time": "2024-06-10T19:37:19.407Z"
   },
   {
    "duration": 96,
    "start_time": "2024-06-10T19:37:21.684Z"
   },
   {
    "duration": 40,
    "start_time": "2024-06-10T19:37:24.728Z"
   },
   {
    "duration": 8,
    "start_time": "2024-06-10T19:37:27.396Z"
   },
   {
    "duration": 39,
    "start_time": "2024-06-10T19:37:30.085Z"
   },
   {
    "duration": 41,
    "start_time": "2024-06-10T19:37:32.344Z"
   },
   {
    "duration": 37,
    "start_time": "2024-06-10T19:37:34.189Z"
   },
   {
    "duration": 36,
    "start_time": "2024-06-10T19:37:36.029Z"
   },
   {
    "duration": 48,
    "start_time": "2024-06-10T19:37:38.368Z"
   },
   {
    "duration": 43,
    "start_time": "2024-06-10T19:37:41.630Z"
   },
   {
    "duration": 1202,
    "start_time": "2024-06-10T20:40:41.892Z"
   },
   {
    "duration": 28,
    "start_time": "2024-06-10T20:40:54.284Z"
   },
   {
    "duration": 34,
    "start_time": "2024-06-10T20:51:46.279Z"
   },
   {
    "duration": 49,
    "start_time": "2024-06-10T20:57:21.353Z"
   },
   {
    "duration": 407,
    "start_time": "2024-06-10T20:58:03.007Z"
   },
   {
    "duration": 30,
    "start_time": "2024-06-10T21:08:55.575Z"
   },
   {
    "duration": 382,
    "start_time": "2024-06-10T21:08:59.558Z"
   },
   {
    "duration": 245,
    "start_time": "2024-06-10T21:15:24.761Z"
   },
   {
    "duration": 318,
    "start_time": "2024-06-10T21:15:27.950Z"
   },
   {
    "duration": 30,
    "start_time": "2024-06-10T21:16:06.579Z"
   },
   {
    "duration": 32,
    "start_time": "2024-06-10T21:16:32.776Z"
   },
   {
    "duration": 461,
    "start_time": "2024-06-10T21:16:41.298Z"
   },
   {
    "duration": 13,
    "start_time": "2024-06-10T21:26:32.476Z"
   },
   {
    "duration": 752,
    "start_time": "2024-06-10T21:32:10.294Z"
   },
   {
    "duration": 239,
    "start_time": "2024-06-10T21:32:19.497Z"
   },
   {
    "duration": 4418,
    "start_time": "2024-06-10T23:36:50.442Z"
   },
   {
    "duration": 639,
    "start_time": "2024-06-10T23:37:11.459Z"
   },
   {
    "duration": 654,
    "start_time": "2024-06-10T23:37:13.707Z"
   },
   {
    "duration": 19,
    "start_time": "2024-06-10T23:37:16.281Z"
   },
   {
    "duration": 13,
    "start_time": "2024-06-10T23:37:17.967Z"
   },
   {
    "duration": 15,
    "start_time": "2024-06-10T23:37:20.862Z"
   },
   {
    "duration": 15,
    "start_time": "2024-06-10T23:37:22.959Z"
   },
   {
    "duration": 18,
    "start_time": "2024-06-10T23:37:26.528Z"
   },
   {
    "duration": 11,
    "start_time": "2024-06-10T23:37:28.770Z"
   },
   {
    "duration": 26,
    "start_time": "2024-06-10T23:37:31.018Z"
   },
   {
    "duration": 83,
    "start_time": "2024-06-10T23:37:33.409Z"
   },
   {
    "duration": 51,
    "start_time": "2024-06-10T23:37:36.179Z"
   },
   {
    "duration": 21,
    "start_time": "2024-06-10T23:37:40.758Z"
   },
   {
    "duration": 37,
    "start_time": "2024-06-10T23:37:42.711Z"
   },
   {
    "duration": 39,
    "start_time": "2024-06-10T23:37:45.108Z"
   },
   {
    "duration": 23,
    "start_time": "2024-06-10T23:37:47.793Z"
   },
   {
    "duration": 84,
    "start_time": "2024-06-10T23:37:50.504Z"
   },
   {
    "duration": 38,
    "start_time": "2024-06-10T23:37:53.368Z"
   },
   {
    "duration": 7,
    "start_time": "2024-06-10T23:37:56.097Z"
   },
   {
    "duration": 36,
    "start_time": "2024-06-10T23:37:58.402Z"
   },
   {
    "duration": 42,
    "start_time": "2024-06-10T23:38:00.680Z"
   },
   {
    "duration": 36,
    "start_time": "2024-06-10T23:38:02.727Z"
   },
   {
    "duration": 33,
    "start_time": "2024-06-10T23:38:05.020Z"
   },
   {
    "duration": 46,
    "start_time": "2024-06-10T23:38:07.461Z"
   },
   {
    "duration": 32,
    "start_time": "2024-06-10T23:38:15.890Z"
   },
   {
    "duration": 45,
    "start_time": "2024-06-10T23:38:19.857Z"
   },
   {
    "duration": 472,
    "start_time": "2024-06-10T23:38:34.354Z"
   },
   {
    "duration": 525,
    "start_time": "2024-06-10T23:38:49.723Z"
   },
   {
    "duration": 14,
    "start_time": "2024-06-10T23:38:54.557Z"
   },
   {
    "duration": 497,
    "start_time": "2024-06-11T00:33:50.679Z"
   },
   {
    "duration": 412,
    "start_time": "2024-06-11T00:33:56.611Z"
   },
   {
    "duration": 30,
    "start_time": "2024-06-11T00:38:44.526Z"
   },
   {
    "duration": 259,
    "start_time": "2024-06-11T00:39:05.331Z"
   },
   {
    "duration": 224,
    "start_time": "2024-06-11T00:49:06.501Z"
   },
   {
    "duration": 3,
    "start_time": "2024-06-11T00:49:14.181Z"
   },
   {
    "duration": 18,
    "start_time": "2024-06-11T01:05:35.560Z"
   },
   {
    "duration": 209,
    "start_time": "2024-06-11T01:06:14.714Z"
   },
   {
    "duration": 7,
    "start_time": "2024-06-11T01:06:47.287Z"
   },
   {
    "duration": 37,
    "start_time": "2024-06-11T01:23:45.542Z"
   },
   {
    "duration": 16,
    "start_time": "2024-06-11T01:23:56.326Z"
   },
   {
    "duration": 29,
    "start_time": "2024-06-11T01:45:55.434Z"
   },
   {
    "duration": 28,
    "start_time": "2024-06-11T01:46:27.969Z"
   },
   {
    "duration": 900,
    "start_time": "2024-06-11T01:51:24.041Z"
   },
   {
    "duration": 44,
    "start_time": "2024-06-11T01:53:36.856Z"
   },
   {
    "duration": 106,
    "start_time": "2024-06-11T01:54:56.846Z"
   },
   {
    "duration": 238,
    "start_time": "2024-06-11T01:55:20.326Z"
   },
   {
    "duration": 105,
    "start_time": "2024-06-11T01:55:30.127Z"
   },
   {
    "duration": 1401,
    "start_time": "2024-06-11T01:55:43.711Z"
   },
   {
    "duration": 293,
    "start_time": "2024-06-11T01:55:45.116Z"
   },
   {
    "duration": 21,
    "start_time": "2024-06-11T01:55:45.413Z"
   },
   {
    "duration": 12,
    "start_time": "2024-06-11T01:55:45.439Z"
   },
   {
    "duration": 16,
    "start_time": "2024-06-11T01:55:45.455Z"
   },
   {
    "duration": 59,
    "start_time": "2024-06-11T01:55:45.475Z"
   },
   {
    "duration": 19,
    "start_time": "2024-06-11T01:55:45.538Z"
   },
   {
    "duration": 12,
    "start_time": "2024-06-11T01:55:45.560Z"
   },
   {
    "duration": 28,
    "start_time": "2024-06-11T01:55:45.623Z"
   },
   {
    "duration": 116,
    "start_time": "2024-06-11T01:55:45.659Z"
   },
   {
    "duration": 73,
    "start_time": "2024-06-11T01:55:45.778Z"
   },
   {
    "duration": 25,
    "start_time": "2024-06-11T01:55:45.855Z"
   },
   {
    "duration": 63,
    "start_time": "2024-06-11T01:55:45.883Z"
   },
   {
    "duration": 33,
    "start_time": "2024-06-11T01:55:45.950Z"
   },
   {
    "duration": 51,
    "start_time": "2024-06-11T01:55:45.985Z"
   },
   {
    "duration": 109,
    "start_time": "2024-06-11T01:55:46.039Z"
   },
   {
    "duration": 39,
    "start_time": "2024-06-11T01:55:46.152Z"
   },
   {
    "duration": 32,
    "start_time": "2024-06-11T01:55:46.194Z"
   },
   {
    "duration": 37,
    "start_time": "2024-06-11T01:55:46.229Z"
   },
   {
    "duration": 66,
    "start_time": "2024-06-11T01:55:46.269Z"
   },
   {
    "duration": 37,
    "start_time": "2024-06-11T01:55:46.338Z"
   },
   {
    "duration": 65,
    "start_time": "2024-06-11T01:55:46.378Z"
   },
   {
    "duration": 42,
    "start_time": "2024-06-11T01:55:46.447Z"
   },
   {
    "duration": 33,
    "start_time": "2024-06-11T01:55:46.522Z"
   },
   {
    "duration": 70,
    "start_time": "2024-06-11T01:55:46.559Z"
   },
   {
    "duration": 475,
    "start_time": "2024-06-11T01:55:46.632Z"
   },
   {
    "duration": 502,
    "start_time": "2024-06-11T01:55:47.110Z"
   },
   {
    "duration": 14,
    "start_time": "2024-06-11T01:55:47.624Z"
   },
   {
    "duration": 338,
    "start_time": "2024-06-11T01:55:47.641Z"
   },
   {
    "duration": 428,
    "start_time": "2024-06-11T01:55:47.982Z"
   },
   {
    "duration": 10,
    "start_time": "2024-06-11T01:55:48.414Z"
   },
   {
    "duration": 242,
    "start_time": "2024-06-11T01:55:48.428Z"
   },
   {
    "duration": 19,
    "start_time": "2024-06-11T01:55:48.674Z"
   },
   {
    "duration": 234,
    "start_time": "2024-06-11T01:55:48.696Z"
   },
   {
    "duration": 8,
    "start_time": "2024-06-11T01:55:48.933Z"
   },
   {
    "duration": 15,
    "start_time": "2024-06-11T01:55:48.945Z"
   },
   {
    "duration": 83,
    "start_time": "2024-06-11T01:55:48.963Z"
   },
   {
    "duration": 1290,
    "start_time": "2024-06-11T01:56:42.314Z"
   },
   {
    "duration": 1470,
    "start_time": "2024-06-11T01:56:59.302Z"
   },
   {
    "duration": 309,
    "start_time": "2024-06-11T01:57:00.776Z"
   },
   {
    "duration": 33,
    "start_time": "2024-06-11T01:57:01.089Z"
   },
   {
    "duration": 27,
    "start_time": "2024-06-11T01:57:01.126Z"
   },
   {
    "duration": 17,
    "start_time": "2024-06-11T01:57:01.156Z"
   },
   {
    "duration": 49,
    "start_time": "2024-06-11T01:57:01.178Z"
   },
   {
    "duration": 19,
    "start_time": "2024-06-11T01:57:01.231Z"
   },
   {
    "duration": 14,
    "start_time": "2024-06-11T01:57:01.253Z"
   },
   {
    "duration": 81,
    "start_time": "2024-06-11T01:57:01.270Z"
   },
   {
    "duration": 104,
    "start_time": "2024-06-11T01:57:01.358Z"
   },
   {
    "duration": 68,
    "start_time": "2024-06-11T01:57:01.465Z"
   },
   {
    "duration": 23,
    "start_time": "2024-06-11T01:57:01.537Z"
   },
   {
    "duration": 80,
    "start_time": "2024-06-11T01:57:01.564Z"
   },
   {
    "duration": 36,
    "start_time": "2024-06-11T01:57:01.647Z"
   },
   {
    "duration": 54,
    "start_time": "2024-06-11T01:57:01.686Z"
   },
   {
    "duration": 127,
    "start_time": "2024-06-11T01:57:01.747Z"
   },
   {
    "duration": 56,
    "start_time": "2024-06-11T01:57:01.881Z"
   },
   {
    "duration": 12,
    "start_time": "2024-06-11T01:57:01.940Z"
   },
   {
    "duration": 68,
    "start_time": "2024-06-11T01:57:01.956Z"
   },
   {
    "duration": 43,
    "start_time": "2024-06-11T01:57:02.028Z"
   },
   {
    "duration": 69,
    "start_time": "2024-06-11T01:57:02.075Z"
   },
   {
    "duration": 39,
    "start_time": "2024-06-11T01:57:02.147Z"
   },
   {
    "duration": 71,
    "start_time": "2024-06-11T01:57:02.190Z"
   },
   {
    "duration": 67,
    "start_time": "2024-06-11T01:57:02.264Z"
   },
   {
    "duration": 46,
    "start_time": "2024-06-11T01:57:02.335Z"
   },
   {
    "duration": 484,
    "start_time": "2024-06-11T01:57:02.384Z"
   },
   {
    "duration": 568,
    "start_time": "2024-06-11T01:57:02.871Z"
   },
   {
    "duration": 13,
    "start_time": "2024-06-11T01:57:03.448Z"
   },
   {
    "duration": 366,
    "start_time": "2024-06-11T01:57:03.464Z"
   },
   {
    "duration": 491,
    "start_time": "2024-06-11T01:57:03.839Z"
   },
   {
    "duration": 4,
    "start_time": "2024-06-11T01:57:04.334Z"
   },
   {
    "duration": 261,
    "start_time": "2024-06-11T01:57:04.342Z"
   },
   {
    "duration": 31,
    "start_time": "2024-06-11T01:57:04.606Z"
   },
   {
    "duration": 235,
    "start_time": "2024-06-11T01:57:04.640Z"
   },
   {
    "duration": 9,
    "start_time": "2024-06-11T01:57:04.883Z"
   },
   {
    "duration": 35,
    "start_time": "2024-06-11T01:57:04.895Z"
   },
   {
    "duration": 528,
    "start_time": "2024-06-11T01:57:04.934Z"
   },
   {
    "duration": 951,
    "start_time": "2024-06-11T01:57:22.092Z"
   },
   {
    "duration": 1491,
    "start_time": "2024-06-11T01:57:41.807Z"
   },
   {
    "duration": 361,
    "start_time": "2024-06-11T01:57:43.302Z"
   },
   {
    "duration": 23,
    "start_time": "2024-06-11T01:57:43.667Z"
   },
   {
    "duration": 35,
    "start_time": "2024-06-11T01:57:43.696Z"
   },
   {
    "duration": 28,
    "start_time": "2024-06-11T01:57:43.739Z"
   },
   {
    "duration": 56,
    "start_time": "2024-06-11T01:57:43.771Z"
   },
   {
    "duration": 20,
    "start_time": "2024-06-11T01:57:43.830Z"
   },
   {
    "duration": 13,
    "start_time": "2024-06-11T01:57:43.853Z"
   },
   {
    "duration": 72,
    "start_time": "2024-06-11T01:57:43.870Z"
   },
   {
    "duration": 118,
    "start_time": "2024-06-11T01:57:43.946Z"
   },
   {
    "duration": 63,
    "start_time": "2024-06-11T01:57:44.068Z"
   },
   {
    "duration": 24,
    "start_time": "2024-06-11T01:57:44.135Z"
   },
   {
    "duration": 88,
    "start_time": "2024-06-11T01:57:44.162Z"
   },
   {
    "duration": 63,
    "start_time": "2024-06-11T01:57:44.261Z"
   },
   {
    "duration": 31,
    "start_time": "2024-06-11T01:57:44.329Z"
   },
   {
    "duration": 125,
    "start_time": "2024-06-11T01:57:44.365Z"
   },
   {
    "duration": 68,
    "start_time": "2024-06-11T01:57:44.494Z"
   },
   {
    "duration": 11,
    "start_time": "2024-06-11T01:57:44.566Z"
   },
   {
    "duration": 79,
    "start_time": "2024-06-11T01:57:44.580Z"
   },
   {
    "duration": 75,
    "start_time": "2024-06-11T01:57:44.663Z"
   },
   {
    "duration": 46,
    "start_time": "2024-06-11T01:57:44.742Z"
   },
   {
    "duration": 57,
    "start_time": "2024-06-11T01:57:44.791Z"
   },
   {
    "duration": 81,
    "start_time": "2024-06-11T01:57:44.852Z"
   },
   {
    "duration": 41,
    "start_time": "2024-06-11T01:57:44.937Z"
   },
   {
    "duration": 91,
    "start_time": "2024-06-11T01:57:44.981Z"
   },
   {
    "duration": 492,
    "start_time": "2024-06-11T01:57:45.077Z"
   },
   {
    "duration": 576,
    "start_time": "2024-06-11T01:57:45.573Z"
   },
   {
    "duration": 17,
    "start_time": "2024-06-11T01:57:46.153Z"
   },
   {
    "duration": 322,
    "start_time": "2024-06-11T01:57:46.174Z"
   },
   {
    "duration": 510,
    "start_time": "2024-06-11T01:57:46.500Z"
   },
   {
    "duration": 10,
    "start_time": "2024-06-11T01:57:47.015Z"
   },
   {
    "duration": 295,
    "start_time": "2024-06-11T01:57:47.029Z"
   },
   {
    "duration": 24,
    "start_time": "2024-06-11T01:57:47.329Z"
   },
   {
    "duration": 265,
    "start_time": "2024-06-11T01:57:47.357Z"
   },
   {
    "duration": 9,
    "start_time": "2024-06-11T01:57:47.626Z"
   },
   {
    "duration": 18,
    "start_time": "2024-06-11T01:57:47.639Z"
   },
   {
    "duration": 68,
    "start_time": "2024-06-11T01:57:47.661Z"
   },
   {
    "duration": 5037,
    "start_time": "2024-06-11T19:06:39.744Z"
   },
   {
    "duration": 359,
    "start_time": "2024-06-11T19:06:44.785Z"
   },
   {
    "duration": 21,
    "start_time": "2024-06-11T19:06:45.149Z"
   },
   {
    "duration": 12,
    "start_time": "2024-06-11T19:06:45.174Z"
   },
   {
    "duration": 36,
    "start_time": "2024-06-11T19:06:45.189Z"
   },
   {
    "duration": 14,
    "start_time": "2024-06-11T19:06:45.228Z"
   },
   {
    "duration": 16,
    "start_time": "2024-06-11T19:06:45.245Z"
   },
   {
    "duration": 51,
    "start_time": "2024-06-11T19:06:45.264Z"
   },
   {
    "duration": 26,
    "start_time": "2024-06-11T19:06:45.319Z"
   },
   {
    "duration": 103,
    "start_time": "2024-06-11T19:06:45.350Z"
   },
   {
    "duration": 58,
    "start_time": "2024-06-11T19:06:45.456Z"
   },
   {
    "duration": 21,
    "start_time": "2024-06-11T19:06:45.517Z"
   },
   {
    "duration": 37,
    "start_time": "2024-06-11T19:06:45.541Z"
   },
   {
    "duration": 32,
    "start_time": "2024-06-11T19:06:45.611Z"
   },
   {
    "duration": 23,
    "start_time": "2024-06-11T19:06:45.647Z"
   },
   {
    "duration": 107,
    "start_time": "2024-06-11T19:06:45.673Z"
   },
   {
    "duration": 63,
    "start_time": "2024-06-11T19:06:45.783Z"
   },
   {
    "duration": 8,
    "start_time": "2024-06-11T19:06:45.849Z"
   },
   {
    "duration": 55,
    "start_time": "2024-06-11T19:06:45.861Z"
   },
   {
    "duration": 37,
    "start_time": "2024-06-11T19:06:45.919Z"
   },
   {
    "duration": 55,
    "start_time": "2024-06-11T19:06:45.960Z"
   },
   {
    "duration": 30,
    "start_time": "2024-06-11T19:06:46.018Z"
   },
   {
    "duration": 64,
    "start_time": "2024-06-11T19:06:46.051Z"
   },
   {
    "duration": 33,
    "start_time": "2024-06-11T19:06:46.118Z"
   },
   {
    "duration": 71,
    "start_time": "2024-06-11T19:06:46.154Z"
   },
   {
    "duration": 437,
    "start_time": "2024-06-11T19:06:46.228Z"
   },
   {
    "duration": 531,
    "start_time": "2024-06-11T19:06:46.668Z"
   },
   {
    "duration": 15,
    "start_time": "2024-06-11T19:06:47.217Z"
   },
   {
    "duration": 239,
    "start_time": "2024-06-11T19:06:47.235Z"
   },
   {
    "duration": 421,
    "start_time": "2024-06-11T19:06:47.477Z"
   },
   {
    "duration": 12,
    "start_time": "2024-06-11T19:06:47.900Z"
   },
   {
    "duration": 229,
    "start_time": "2024-06-11T19:06:47.915Z"
   },
   {
    "duration": 18,
    "start_time": "2024-06-11T19:06:48.147Z"
   },
   {
    "duration": 240,
    "start_time": "2024-06-11T19:06:48.168Z"
   },
   {
    "duration": 8,
    "start_time": "2024-06-11T19:06:48.413Z"
   },
   {
    "duration": 13,
    "start_time": "2024-06-11T19:06:48.425Z"
   },
   {
    "duration": 126,
    "start_time": "2024-06-11T19:06:48.442Z"
   },
   {
    "duration": 16,
    "start_time": "2024-06-12T06:24:01.114Z"
   },
   {
    "duration": 4934,
    "start_time": "2024-06-28T02:04:08.916Z"
   },
   {
    "duration": 350,
    "start_time": "2024-06-28T02:04:15.262Z"
   },
   {
    "duration": 26,
    "start_time": "2024-06-28T02:04:21.186Z"
   },
   {
    "duration": 15,
    "start_time": "2024-06-28T02:04:24.952Z"
   },
   {
    "duration": 393,
    "start_time": "2024-06-28T02:04:50.510Z"
   },
   {
    "duration": 17,
    "start_time": "2024-06-28T02:05:00.912Z"
   },
   {
    "duration": 17,
    "start_time": "2024-06-28T02:05:17.015Z"
   },
   {
    "duration": 1217,
    "start_time": "2024-06-28T02:05:28.077Z"
   },
   {
    "duration": 283,
    "start_time": "2024-06-28T02:05:31.304Z"
   },
   {
    "duration": 16,
    "start_time": "2024-06-28T02:05:33.865Z"
   },
   {
    "duration": 12,
    "start_time": "2024-06-28T02:05:36.098Z"
   },
   {
    "duration": 16,
    "start_time": "2024-06-28T02:05:40.489Z"
   },
   {
    "duration": 14,
    "start_time": "2024-06-28T02:05:59.241Z"
   },
   {
    "duration": 6,
    "start_time": "2024-06-28T02:07:42.226Z"
   },
   {
    "duration": 11,
    "start_time": "2024-06-28T02:08:39.764Z"
   },
   {
    "duration": 12,
    "start_time": "2024-06-28T02:09:26.301Z"
   },
   {
    "duration": 9,
    "start_time": "2024-06-28T02:10:39.495Z"
   },
   {
    "duration": 11,
    "start_time": "2024-06-28T02:10:49.978Z"
   },
   {
    "duration": 1222,
    "start_time": "2024-06-28T02:11:02.477Z"
   },
   {
    "duration": 275,
    "start_time": "2024-06-28T02:11:05.876Z"
   },
   {
    "duration": 15,
    "start_time": "2024-06-28T02:11:08.730Z"
   },
   {
    "duration": 14,
    "start_time": "2024-06-28T02:11:11.718Z"
   },
   {
    "duration": 10,
    "start_time": "2024-06-28T02:11:16.795Z"
   },
   {
    "duration": 1252,
    "start_time": "2024-06-28T02:12:19.240Z"
   },
   {
    "duration": 266,
    "start_time": "2024-06-28T02:12:21.896Z"
   },
   {
    "duration": 16,
    "start_time": "2024-06-28T02:12:24.362Z"
   },
   {
    "duration": 15,
    "start_time": "2024-06-28T02:12:26.615Z"
   },
   {
    "duration": 12,
    "start_time": "2024-06-28T02:12:31.128Z"
   },
   {
    "duration": 18,
    "start_time": "2024-06-28T02:12:38.142Z"
   },
   {
    "duration": 15,
    "start_time": "2024-06-28T02:12:42.524Z"
   },
   {
    "duration": 22,
    "start_time": "2024-06-28T02:12:53.330Z"
   },
   {
    "duration": 16,
    "start_time": "2024-06-28T02:13:05.806Z"
   },
   {
    "duration": 28,
    "start_time": "2024-06-28T02:13:13.424Z"
   },
   {
    "duration": 72,
    "start_time": "2024-06-28T02:13:19.356Z"
   },
   {
    "duration": 48,
    "start_time": "2024-06-28T02:13:33.796Z"
   },
   {
    "duration": 21,
    "start_time": "2024-06-28T02:13:40.299Z"
   },
   {
    "duration": 478,
    "start_time": "2024-06-28T02:32:47.367Z"
   },
   {
    "duration": 30,
    "start_time": "2024-06-28T02:32:54.297Z"
   },
   {
    "duration": 32,
    "start_time": "2024-06-28T02:34:04.974Z"
   },
   {
    "duration": 39,
    "start_time": "2024-06-28T02:34:27.966Z"
   },
   {
    "duration": 4981,
    "start_time": "2024-06-30T22:39:53.154Z"
   },
   {
    "duration": 361,
    "start_time": "2024-06-30T22:39:58.138Z"
   },
   {
    "duration": 16,
    "start_time": "2024-06-30T22:39:58.501Z"
   },
   {
    "duration": 16,
    "start_time": "2024-06-30T22:39:58.522Z"
   },
   {
    "duration": 10,
    "start_time": "2024-06-30T22:39:58.541Z"
   },
   {
    "duration": 60,
    "start_time": "2024-06-30T22:39:58.555Z"
   },
   {
    "duration": 13,
    "start_time": "2024-06-30T22:39:58.618Z"
   },
   {
    "duration": 20,
    "start_time": "2024-06-30T22:39:58.634Z"
   },
   {
    "duration": 57,
    "start_time": "2024-06-30T22:39:58.658Z"
   },
   {
    "duration": 25,
    "start_time": "2024-06-30T22:39:58.721Z"
   },
   {
    "duration": 105,
    "start_time": "2024-06-30T22:39:58.749Z"
   },
   {
    "duration": 71,
    "start_time": "2024-06-30T22:39:58.857Z"
   },
   {
    "duration": 36,
    "start_time": "2024-06-30T22:39:58.931Z"
   },
   {
    "duration": 50,
    "start_time": "2024-06-30T22:39:58.970Z"
   },
   {
    "duration": 37,
    "start_time": "2024-06-30T22:39:59.023Z"
   },
   {
    "duration": 66,
    "start_time": "2024-06-30T22:39:59.063Z"
   },
   {
    "duration": 23,
    "start_time": "2024-06-30T22:39:59.132Z"
   },
   {
    "duration": 103,
    "start_time": "2024-06-30T22:39:59.159Z"
   },
   {
    "duration": 67,
    "start_time": "2024-06-30T22:39:59.265Z"
   },
   {
    "duration": 10,
    "start_time": "2024-06-30T22:39:59.335Z"
   },
   {
    "duration": 32,
    "start_time": "2024-06-30T22:39:59.348Z"
   },
   {
    "duration": 32,
    "start_time": "2024-06-30T22:39:59.413Z"
   },
   {
    "duration": 28,
    "start_time": "2024-06-30T22:39:59.448Z"
   },
   {
    "duration": 29,
    "start_time": "2024-06-30T22:39:59.511Z"
   },
   {
    "duration": 70,
    "start_time": "2024-06-30T22:39:59.543Z"
   },
   {
    "duration": 33,
    "start_time": "2024-06-30T22:39:59.617Z"
   },
   {
    "duration": 461,
    "start_time": "2024-06-30T22:39:59.654Z"
   },
   {
    "duration": 0,
    "start_time": "2024-06-30T22:40:00.119Z"
   },
   {
    "duration": 0,
    "start_time": "2024-06-30T22:40:00.121Z"
   },
   {
    "duration": 0,
    "start_time": "2024-06-30T22:40:00.123Z"
   },
   {
    "duration": 0,
    "start_time": "2024-06-30T22:40:00.127Z"
   },
   {
    "duration": 0,
    "start_time": "2024-06-30T22:40:00.129Z"
   },
   {
    "duration": 0,
    "start_time": "2024-06-30T22:40:00.131Z"
   },
   {
    "duration": 0,
    "start_time": "2024-06-30T22:40:00.133Z"
   },
   {
    "duration": 0,
    "start_time": "2024-06-30T22:40:00.135Z"
   },
   {
    "duration": 0,
    "start_time": "2024-06-30T22:40:00.137Z"
   },
   {
    "duration": 0,
    "start_time": "2024-06-30T22:40:00.139Z"
   },
   {
    "duration": 0,
    "start_time": "2024-06-30T22:40:00.141Z"
   },
   {
    "duration": 0,
    "start_time": "2024-06-30T22:40:00.143Z"
   },
   {
    "duration": 1249,
    "start_time": "2024-06-30T22:41:31.076Z"
   },
   {
    "duration": 275,
    "start_time": "2024-06-30T22:41:32.328Z"
   },
   {
    "duration": 19,
    "start_time": "2024-06-30T22:41:32.606Z"
   },
   {
    "duration": 14,
    "start_time": "2024-06-30T22:41:32.629Z"
   },
   {
    "duration": 14,
    "start_time": "2024-06-30T22:41:32.651Z"
   },
   {
    "duration": 52,
    "start_time": "2024-06-30T22:41:32.669Z"
   },
   {
    "duration": 16,
    "start_time": "2024-06-30T22:41:32.727Z"
   },
   {
    "duration": 21,
    "start_time": "2024-06-30T22:41:32.745Z"
   },
   {
    "duration": 52,
    "start_time": "2024-06-30T22:41:32.769Z"
   },
   {
    "duration": 25,
    "start_time": "2024-06-30T22:41:32.829Z"
   },
   {
    "duration": 120,
    "start_time": "2024-06-30T22:41:32.858Z"
   },
   {
    "duration": 77,
    "start_time": "2024-06-30T22:41:32.981Z"
   },
   {
    "duration": 30,
    "start_time": "2024-06-30T22:41:33.062Z"
   },
   {
    "duration": 42,
    "start_time": "2024-06-30T22:41:33.094Z"
   },
   {
    "duration": 38,
    "start_time": "2024-06-30T22:41:33.139Z"
   },
   {
    "duration": 33,
    "start_time": "2024-06-30T22:41:33.214Z"
   },
   {
    "duration": 22,
    "start_time": "2024-06-30T22:41:33.250Z"
   },
   {
    "duration": 75,
    "start_time": "2024-06-30T22:41:33.312Z"
   },
   {
    "duration": 40,
    "start_time": "2024-06-30T22:41:33.413Z"
   },
   {
    "duration": 9,
    "start_time": "2024-06-30T22:41:33.457Z"
   },
   {
    "duration": 60,
    "start_time": "2024-06-30T22:41:33.470Z"
   },
   {
    "duration": 33,
    "start_time": "2024-06-30T22:41:33.533Z"
   },
   {
    "duration": 58,
    "start_time": "2024-06-30T22:41:33.568Z"
   },
   {
    "duration": 31,
    "start_time": "2024-06-30T22:41:33.630Z"
   },
   {
    "duration": 79,
    "start_time": "2024-06-30T22:41:33.665Z"
   },
   {
    "duration": 34,
    "start_time": "2024-06-30T22:41:33.746Z"
   },
   {
    "duration": 753,
    "start_time": "2024-06-30T22:41:33.783Z"
   },
   {
    "duration": 0,
    "start_time": "2024-06-30T22:41:34.541Z"
   },
   {
    "duration": 0,
    "start_time": "2024-06-30T22:41:34.543Z"
   },
   {
    "duration": 0,
    "start_time": "2024-06-30T22:41:34.547Z"
   },
   {
    "duration": 0,
    "start_time": "2024-06-30T22:41:34.550Z"
   },
   {
    "duration": 0,
    "start_time": "2024-06-30T22:41:34.552Z"
   },
   {
    "duration": 0,
    "start_time": "2024-06-30T22:41:34.555Z"
   },
   {
    "duration": 0,
    "start_time": "2024-06-30T22:41:34.557Z"
   },
   {
    "duration": 0,
    "start_time": "2024-06-30T22:41:34.559Z"
   },
   {
    "duration": 0,
    "start_time": "2024-06-30T22:41:34.561Z"
   },
   {
    "duration": 0,
    "start_time": "2024-06-30T22:41:34.564Z"
   },
   {
    "duration": 0,
    "start_time": "2024-06-30T22:41:34.566Z"
   },
   {
    "duration": 0,
    "start_time": "2024-06-30T22:41:34.613Z"
   },
   {
    "duration": 1227,
    "start_time": "2024-06-30T22:45:25.346Z"
   },
   {
    "duration": 276,
    "start_time": "2024-06-30T22:45:26.576Z"
   },
   {
    "duration": 17,
    "start_time": "2024-06-30T22:45:26.855Z"
   },
   {
    "duration": 36,
    "start_time": "2024-06-30T22:45:26.876Z"
   },
   {
    "duration": 11,
    "start_time": "2024-06-30T22:45:26.915Z"
   },
   {
    "duration": 18,
    "start_time": "2024-06-30T22:45:26.929Z"
   },
   {
    "duration": 62,
    "start_time": "2024-06-30T22:45:26.950Z"
   },
   {
    "duration": 22,
    "start_time": "2024-06-30T22:45:27.016Z"
   },
   {
    "duration": 14,
    "start_time": "2024-06-30T22:45:27.041Z"
   },
   {
    "duration": 71,
    "start_time": "2024-06-30T22:45:27.061Z"
   },
   {
    "duration": 102,
    "start_time": "2024-06-30T22:45:27.136Z"
   },
   {
    "duration": 50,
    "start_time": "2024-06-30T22:45:27.241Z"
   },
   {
    "duration": 31,
    "start_time": "2024-06-30T22:45:27.313Z"
   },
   {
    "duration": 22,
    "start_time": "2024-06-30T22:45:27.347Z"
   },
   {
    "duration": 81,
    "start_time": "2024-06-30T22:45:27.372Z"
   },
   {
    "duration": 67,
    "start_time": "2024-06-30T22:45:27.456Z"
   },
   {
    "duration": 25,
    "start_time": "2024-06-30T22:45:27.526Z"
   },
   {
    "duration": 106,
    "start_time": "2024-06-30T22:45:27.554Z"
   },
   {
    "duration": 58,
    "start_time": "2024-06-30T22:45:27.664Z"
   },
   {
    "duration": 9,
    "start_time": "2024-06-30T22:45:27.725Z"
   },
   {
    "duration": 33,
    "start_time": "2024-06-30T22:45:27.737Z"
   },
   {
    "duration": 65,
    "start_time": "2024-06-30T22:45:27.773Z"
   },
   {
    "duration": 27,
    "start_time": "2024-06-30T22:45:27.841Z"
   },
   {
    "duration": 52,
    "start_time": "2024-06-30T22:45:27.871Z"
   },
   {
    "duration": 41,
    "start_time": "2024-06-30T22:45:27.925Z"
   },
   {
    "duration": 66,
    "start_time": "2024-06-30T22:45:27.969Z"
   },
   {
    "duration": 74,
    "start_time": "2024-06-30T22:45:28.038Z"
   },
   {
    "duration": 446,
    "start_time": "2024-06-30T22:45:28.121Z"
   },
   {
    "duration": 556,
    "start_time": "2024-06-30T22:45:28.571Z"
   },
   {
    "duration": 13,
    "start_time": "2024-06-30T22:45:29.130Z"
   },
   {
    "duration": 252,
    "start_time": "2024-06-30T22:45:29.146Z"
   },
   {
    "duration": 421,
    "start_time": "2024-06-30T22:45:29.401Z"
   },
   {
    "duration": 4,
    "start_time": "2024-06-30T22:45:29.825Z"
   },
   {
    "duration": 235,
    "start_time": "2024-06-30T22:45:29.833Z"
   },
   {
    "duration": 17,
    "start_time": "2024-06-30T22:45:30.071Z"
   },
   {
    "duration": 228,
    "start_time": "2024-06-30T22:45:30.112Z"
   },
   {
    "duration": 8,
    "start_time": "2024-06-30T22:45:30.343Z"
   },
   {
    "duration": 16,
    "start_time": "2024-06-30T22:45:30.354Z"
   },
   {
    "duration": 57,
    "start_time": "2024-06-30T22:45:30.373Z"
   },
   {
    "duration": 11,
    "start_time": "2024-07-01T20:28:36.692Z"
   }
  ],
  "colab": {
   "provenance": []
  },
  "kernelspec": {
   "display_name": "Python 3 (ipykernel)",
   "language": "python",
   "name": "python3"
  },
  "language_info": {
   "codemirror_mode": {
    "name": "ipython",
    "version": 3
   },
   "file_extension": ".py",
   "mimetype": "text/x-python",
   "name": "python",
   "nbconvert_exporter": "python",
   "pygments_lexer": "ipython3",
   "version": "3.9.19"
  },
  "toc": {
   "base_numbering": 1,
   "nav_menu": {},
   "number_sections": true,
   "sideBar": true,
   "skip_h1_title": false,
   "title_cell": "Table of Contents",
   "title_sidebar": "Contents",
   "toc_cell": false,
   "toc_position": {},
   "toc_section_display": true,
   "toc_window_display": true
  }
 },
 "nbformat": 4,
 "nbformat_minor": 1
}
